{
 "cells": [
  {
   "cell_type": "markdown",
   "id": "123456",
   "metadata": {},
   "source": [
    "<div style=\"text-align:left;font-size:2em\"><span style=\"font-weight:bolder;font-size:1.25em\">SP2273 | Learning Portfolio</span><br><br><span style=\"font-weight:bold;color:darkred\">Using Jupyter (Good), Exercises</span></div>"
   ]
  },
  {
   "cell_type": "markdown",
   "id": "75375281-d469-486a-9d23-fbcf8f351ee3",
   "metadata": {},
   "source": [
    "# Exercise 1 (Learning to interrupt)"
   ]
  },
  {
   "cell_type": "code",
   "execution_count": null,
   "id": "0914bd41",
   "metadata": {},
   "outputs": [],
   "source": [
    "while True:\n",
    "    print('*', end='')"
   ]
  },
  {
   "cell_type": "markdown",
   "id": "e9b038f1-5ccf-4698-a172-cf9a2c3cbabe",
   "metadata": {},
   "source": [
    "the command aboves keeps printing * with no end so the kernel has to be interrupted to stop the printing. \n",
    "\n",
    "the kernel is then restarted with the output of the selected cell cleared so that the notebook is not spammed with *"
   ]
  },
  {
   "cell_type": "markdown",
   "id": "629f9166-0b63-4a74-98c1-7adf558513a0",
   "metadata": {},
   "source": [
    "# Exercise 2 (Resetting & Restarting the Kernel)"
   ]
  },
  {
   "cell_type": "code",
   "execution_count": 1,
   "id": "ec72ec87-ef33-4752-bdec-6c696c2ca568",
   "metadata": {},
   "outputs": [],
   "source": [
    "print = 'PRINT'"
   ]
  },
  {
   "cell_type": "code",
   "execution_count": 2,
   "id": "f905424a-500e-4e37-9838-5e85f8dfeb73",
   "metadata": {},
   "outputs": [
    {
     "ename": "TypeError",
     "evalue": "'str' object is not callable",
     "output_type": "error",
     "traceback": [
      "\u001b[0;31m---------------------------------------------------------------------------\u001b[0m",
      "\u001b[0;31mTypeError\u001b[0m                                 Traceback (most recent call last)",
      "Cell \u001b[0;32mIn[2], line 1\u001b[0m\n\u001b[0;32m----> 1\u001b[0m \u001b[38;5;28mprint\u001b[39m(\u001b[38;5;124m'\u001b[39m\u001b[38;5;124mHello World\u001b[39m\u001b[38;5;124m'\u001b[39m)\n",
      "\u001b[0;31mTypeError\u001b[0m: 'str' object is not callable"
     ]
    }
   ],
   "source": [
    "print('Hello World')"
   ]
  },
  {
   "cell_type": "markdown",
   "id": "7141ddbc-6461-4623-8f6d-a0c34ab4261d",
   "metadata": {},
   "source": [
    "`print` function is now messed up so kernel has to be restarted, restarting the Python interpreter in the process."
   ]
  },
  {
   "cell_type": "code",
   "execution_count": 1,
   "id": "04a456f1-5f7f-42b5-a3e7-20767961407e",
   "metadata": {},
   "outputs": [
    {
     "name": "stdout",
     "output_type": "stream",
     "text": [
      "Hello World\n"
     ]
    }
   ],
   "source": [
    "print('Hello World')"
   ]
  },
  {
   "cell_type": "markdown",
   "id": "df2879a1-5d4e-4052-8c29-18f8255391da",
   "metadata": {},
   "source": [
    "`print` function now works after restarting the kernel!"
   ]
  }
 ],
 "metadata": {
  "kernelspec": {
   "display_name": "Python 3 (ipykernel)",
   "language": "python",
   "name": "python3"
  },
  "language_info": {
   "codemirror_mode": {
    "name": "ipython",
    "version": 3
   },
   "file_extension": ".py",
   "mimetype": "text/x-python",
   "name": "python",
   "nbconvert_exporter": "python",
   "pygments_lexer": "ipython3",
   "version": "3.11.5"
  },
  "toc": {
   "base_numbering": 1,
   "nav_menu": {},
   "number_sections": true,
   "sideBar": true,
   "skip_h1_title": false,
   "title_cell": "Table of Contents",
   "title_sidebar": "Contents",
   "toc_cell": false,
   "toc_position": {},
   "toc_section_display": true,
   "toc_window_display": false
  },
  "vscode": {
   "interpreter": {
    "hash": "31f2aee4e71d21fbe5cf8b01ff0e069b9275f58929596ceb00d14d90e3e16cd6"
   }
  }
 },
 "nbformat": 4,
 "nbformat_minor": 5
}

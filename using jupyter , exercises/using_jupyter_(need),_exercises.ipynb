{
 "cells": [
  {
   "cell_type": "markdown",
   "id": "123456",
   "metadata": {},
   "source": [
    "<div style=\"text-align:left;font-size:2em\"><span style=\"font-weight:bolder;font-size:1.25em\">SP2273 | Learning Portfolio</span><br><br><span style=\"font-weight:bold;color:darkred\">Using Jupyter (Need), Exercises</span></div>"
   ]
  },
  {
   "cell_type": "markdown",
   "id": "7a6dff75",
   "metadata": {},
   "source": [
    "# Exercise 1"
   ]
  },
  {
   "cell_type": "markdown",
   "id": "3092399c",
   "metadata": {},
   "source": [
    "## Quadratic Equations"
   ]
  },
  {
   "cell_type": "markdown",
   "id": "6fb0e024",
   "metadata": {},
   "source": [
    "### Introduction"
   ]
  },
  {
   "cell_type": "markdown",
   "id": "d2358ed1",
   "metadata": {},
   "source": [
    "\n",
    "![](https://upload.wikimedia.org/wikipedia/commons/thumb/f/f8/Polynomialdeg2.svg/800px-Polynomialdeg2.svg.png)\n",
    "\n",
    "*(Image from the [Wikipedia page on Quadratic equations](https://en.wikipedia.org/wiki/Quadratic_equation))*\n",
    "\n",
    "The general form of a quadratic equation is:\n",
    "\n",
    "$$\n",
    "ax^{2}+bx+c = 0 \n",
    "$$\n"
   ]
  },
  {
   "cell_type": "markdown",
   "id": "564bb1e7",
   "metadata": {},
   "source": [
    "### Solutions"
   ]
  },
  {
   "cell_type": "markdown",
   "id": "36df10e8",
   "metadata": {},
   "source": [
    "Provided $a \\ne 0$, we can use an elementary algebraic method called [completing the square](https://en.wikipedia.org/wiki/Completing_the_square) to show that a qudratic equation has the following solution:\n",
    "\n",
    "$$\n",
    "x = \\dfrac{-b \\pm \\sqrt{b^{2}-4ac}}{2a}\n",
    "$$\n"
   ]
  },
  {
   "cell_type": "markdown",
   "id": "e4e738c5",
   "metadata": {},
   "source": [
    "### Discriminant"
   ]
  },
  {
   "cell_type": "markdown",
   "id": "c75b5d0e",
   "metadata": {},
   "source": [
    "The quantity $\\Delta = b^{2}-4ac$ is called the **discriminant** of the equation and decides the nature of its solutions. The table below shows the various possibilities.\n",
    "\n",
    "\n"
   ]
  },
  {
   "cell_type": "markdown",
   "id": "c50198fa",
   "metadata": {},
   "source": [
    "|**Discriminant**|**Roots**|\n",
    "|:--- | ---:|\n",
    "|$$\\Delta = b^{2}-4ac = 0$$|A single solution of $-b/(2a)$|\n",
    "|$$\\Delta = b^{2}-4ac \\gt 0$$|Two distinct solutions|\n",
    "|$$\\Delta = b^{2}-4ac \\lt 0$$|No real solutions; both are complex.|"
   ]
  },
  {
   "cell_type": "markdown",
   "id": "fc778a9f",
   "metadata": {},
   "source": [
    "# Exercise 2"
   ]
  },
  {
   "cell_type": "markdown",
   "id": "4c49d15f",
   "metadata": {},
   "source": [
    "1. What is a Git **repository**? \n",
    "- A cloud service to help track changes to the code files.\n",
    "\n",
    "2. Git keeps tracks of **changes** in the files in our repository.\n",
    "\n",
    "3. What is a commit?\n",
    "- Telling the repository which changes exactly you want to track\n",
    "\n",
    "4. What is a push?\n",
    "- Sharing local changes to the GitHub cloud\n",
    "\n",
    "5. What is a pull?\n",
    "- Save cloud from the cloud to our local machine\n",
    "\n",
    "6. What is the difference between GitHub and GitHub Desktop?\n",
    "- Github is the cloud service while Github desktop is on the local machine"
   ]
  }
 ],
 "metadata": {
  "kernelspec": {
   "display_name": "Python 3 (ipykernel)",
   "language": "python",
   "name": "python3"
  },
  "language_info": {
   "codemirror_mode": {
    "name": "ipython",
    "version": 3
   },
   "file_extension": ".py",
   "mimetype": "text/x-python",
   "name": "python",
   "nbconvert_exporter": "python",
   "pygments_lexer": "ipython3",
   "version": "3.11.5"
  },
  "toc": {
   "base_numbering": 1,
   "nav_menu": {},
   "number_sections": true,
   "sideBar": true,
   "skip_h1_title": false,
   "title_cell": "Table of Contents",
   "title_sidebar": "Contents",
   "toc_cell": false,
   "toc_position": {},
   "toc_section_display": true,
   "toc_window_display": false
  },
  "vscode": {
   "interpreter": {
    "hash": "31f2aee4e71d21fbe5cf8b01ff0e069b9275f58929596ceb00d14d90e3e16cd6"
   }
  }
 },
 "nbformat": 4,
 "nbformat_minor": 5
}

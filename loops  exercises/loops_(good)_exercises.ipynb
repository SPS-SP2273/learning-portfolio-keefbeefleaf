{
 "cells": [
  {
   "attachments": {},
   "cell_type": "markdown",
   "id": "123456",
   "metadata": {},
   "source": [
    "<div style=\"text-align:left;font-size:2em\"><span style=\"font-weight:bolder;font-size:1.25em\">SP2273 | Learning Portfolio</span><br><br><span style=\"font-weight:bold;color:darkred\">Loops (Good) Exercises</span></div>"
   ]
  },
  {
   "cell_type": "markdown",
   "id": "18817f0c-5395-4663-b564-e783ebcbbd18",
   "metadata": {},
   "source": [
    "# Exercise 1"
   ]
  },
  {
   "cell_type": "code",
   "execution_count": 19,
   "id": "010ef144-1293-466e-86bc-a26632bb487e",
   "metadata": {},
   "outputs": [
    {
     "name": "stdout",
     "output_type": "stream",
     "text": [
      "[1, 9, 25, 49, 81]\n"
     ]
    }
   ],
   "source": [
    "odd_squares = []\n",
    "for number in range(10):\n",
    "    if number % 2 == 0: \n",
    "        continue\n",
    "    square = number**2\n",
    "    odd_squares.append(square)\n",
    "\n",
    "print(odd_squares)   "
   ]
  },
  {
   "cell_type": "markdown",
   "id": "cfbaebe6-dc23-4a18-a562-f89e8a075833",
   "metadata": {},
   "source": [
    "# Exercise 2"
   ]
  },
  {
   "cell_type": "code",
   "execution_count": 1,
   "id": "0e712be6-ef09-46fb-9575-1a9fcd26c857",
   "metadata": {},
   "outputs": [
    {
     "data": {
      "text/plain": [
       "[1, 9, 25, 49, 81]"
      ]
     },
     "execution_count": 1,
     "metadata": {},
     "output_type": "execute_result"
    }
   ],
   "source": [
    "[number**2 for number in range(10) if number % 2 == 1]"
   ]
  },
  {
   "cell_type": "markdown",
   "id": "ee686c3b-cc10-4bd2-9288-44639674220c",
   "metadata": {},
   "source": [
    "# Excercise 3"
   ]
  },
  {
   "cell_type": "code",
   "execution_count": 2,
   "id": "39c46457-8033-4027-a0ad-c1b4fc05daf3",
   "metadata": {},
   "outputs": [
    {
     "name": "stdout",
     "output_type": "stream",
     "text": [
      "383 ns ± 0.996 ns per loop (mean ± std. dev. of 7 runs, 1,000,000 loops each)\n"
     ]
    }
   ],
   "source": [
    "%%timeit\n",
    "odd_squares = []\n",
    "for number in range(10):\n",
    "    if number % 2 == 0: \n",
    "        continue\n",
    "    square = number**2\n",
    "    odd_squares.append(square)\n",
    "\n",
    "# print(odd_squares)  "
   ]
  },
  {
   "cell_type": "code",
   "execution_count": null,
   "id": "7a72eb91-5d94-4bbd-8f9b-ef372f6be19e",
   "metadata": {},
   "outputs": [],
   "source": [
    "%%timeit\n",
    "[number**2 for number in range(9) if number % 2 == 1]"
   ]
  },
  {
   "cell_type": "markdown",
   "id": "29078822-0298-46f0-8867-98c0d1c47dbb",
   "metadata": {},
   "source": [
    "Therefore, list comprehension is faster than using a for loop."
   ]
  },
  {
   "cell_type": "markdown",
   "id": "f3050728-da45-422a-8c0c-c955025ec17a",
   "metadata": {},
   "source": [
    "# Excercise 4"
   ]
  },
  {
   "cell_type": "code",
   "execution_count": 25,
   "id": "8bba17f6-0dc6-4737-97c6-08d5a9aa1454",
   "metadata": {},
   "outputs": [
    {
     "name": "stdout",
     "output_type": "stream",
     "text": [
      "it takes 14 years for the sample to reduce to half its original amount!\n"
     ]
    }
   ],
   "source": [
    "initial_qty = 100\n",
    "target_qty = initial_qty * 0.5\n",
    "decay = 0.05\n",
    "year = 0\n",
    "while initial_qty > target_qty:\n",
    "    initial_qty -= initial_qty * decay\n",
    "    year += 1\n",
    "print(f\"it takes {year} years for the sample to reduce to half its original amount!\")"
   ]
  },
  {
   "cell_type": "markdown",
   "id": "558218fa-c414-4f4a-863d-7075339a6bbc",
   "metadata": {},
   "source": [
    "# Exercise 5"
   ]
  },
  {
   "cell_type": "code",
   "execution_count": 26,
   "id": "eb725200-47ec-4573-a600-997fff99d786",
   "metadata": {},
   "outputs": [],
   "source": [
    "co2_data = [\n",
    "    (2000, 369.55), (2001, 371.14), (2002, 373.28), \n",
    "    (2003, 375.80), (2004, 377.52), (2005, 379.80), \n",
    "    (2006, 381.90), (2007, 383.79), (2008, 385.60), \n",
    "    (2009, 387.43), (2010, 389.90), (2011, 391.65), \n",
    "    (2012, 393.85), (2013, 396.52), (2014, 398.65),\n",
    "    (2015, 400.83), (2016, 404.24), (2017, 406.55), \n",
    "    (2018, 408.52), (2019, 411.44), (2020, 414.24)\n",
    "]"
   ]
  },
  {
   "cell_type": "code",
   "execution_count": 27,
   "id": "2f925bd0-3677-4641-9343-3e63dbf3fc95",
   "metadata": {},
   "outputs": [
    {
     "name": "stdout",
     "output_type": "stream",
     "text": [
      "2016: change in concentration = 3.410000000000025ppm\n"
     ]
    }
   ],
   "source": [
    "for i in range(1, len(co2_data)):  \n",
    "    year, co2_level = co2_data[i]                  # naming the variables \n",
    "    prev_year, prev_co2_level = co2_data[i-1]      # i-1 gets the previous year's data\n",
    "    change = co2_level - prev_co2_level            # find difference between each year\n",
    "    if change >= 3:\n",
    "        print(f\"{year}: change in concentration = {change}ppm\")"
   ]
  }
 ],
 "metadata": {
  "kernelspec": {
   "display_name": "Python 3 (ipykernel)",
   "language": "python",
   "name": "python3"
  },
  "language_info": {
   "codemirror_mode": {
    "name": "ipython",
    "version": 3
   },
   "file_extension": ".py",
   "mimetype": "text/x-python",
   "name": "python",
   "nbconvert_exporter": "python",
   "pygments_lexer": "ipython3",
   "version": "3.11.5"
  },
  "toc": {
   "base_numbering": 1,
   "nav_menu": {},
   "number_sections": true,
   "sideBar": true,
   "skip_h1_title": false,
   "title_cell": "Table of Contents",
   "title_sidebar": "Contents",
   "toc_cell": false,
   "toc_position": {},
   "toc_section_display": true,
   "toc_window_display": false
  },
  "vscode": {
   "interpreter": {
    "hash": "31f2aee4e71d21fbe5cf8b01ff0e069b9275f58929596ceb00d14d90e3e16cd6"
   }
  }
 },
 "nbformat": 4,
 "nbformat_minor": 5
}

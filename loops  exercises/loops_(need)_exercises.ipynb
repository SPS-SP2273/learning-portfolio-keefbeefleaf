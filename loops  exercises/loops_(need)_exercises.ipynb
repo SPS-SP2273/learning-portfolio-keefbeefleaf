{
 "cells": [
  {
   "attachments": {},
   "cell_type": "markdown",
   "id": "123456",
   "metadata": {},
   "source": [
    "<div style=\"text-align:left;font-size:2em\"><span style=\"font-weight:bolder;font-size:1.25em\">SP2273 | Learning Portfolio</span><br><br><span style=\"font-weight:bold;color:darkred\">Loops (Need) Exercises</span></div>"
   ]
  },
  {
   "cell_type": "markdown",
   "id": "60bd9006-bbb6-4740-8a84-8c41de03c8a8",
   "metadata": {},
   "source": [
    "# Exercise 1"
   ]
  },
  {
   "cell_type": "code",
   "execution_count": 1,
   "id": "78f0369b-55a0-4d5d-944d-68520b3fd682",
   "metadata": {},
   "outputs": [
    {
     "name": "stdout",
     "output_type": "stream",
     "text": [
      "0 celsius is 32.0 farenheit.\n",
      "5 celsius is 41.0 farenheit.\n",
      "10 celsius is 50.0 farenheit.\n",
      "15 celsius is 59.0 farenheit.\n",
      "20 celsius is 68.0 farenheit.\n",
      "25 celsius is 77.0 farenheit.\n",
      "30 celsius is 86.0 farenheit.\n",
      "35 celsius is 95.0 farenheit.\n",
      "40 celsius is 104.0 farenheit.\n",
      "45 celsius is 113.0 farenheit.\n",
      "50 celsius is 122.0 farenheit.\n"
     ]
    }
   ],
   "source": [
    "temperatures_celsius = [\n",
    "    0, 5, 10, 15, 20, 25,\n",
    "    30, 35, 40, 45, 50\n",
    "]\n",
    "\n",
    "for celsius in temperatures_celsius:\n",
    "    farenheit = (celsius * 9 / 5) + 32 \n",
    "    print(f\"{celsius} celsius is {farenheit} farenheit.\")"
   ]
  },
  {
   "cell_type": "markdown",
   "id": "0b8bd1e9-1d4d-4fd4-a096-d5a4119367ef",
   "metadata": {},
   "source": [
    "# Exercise 2"
   ]
  },
  {
   "cell_type": "code",
   "execution_count": 17,
   "id": "6b71c422-1b6b-4545-99e3-b41946c30299",
   "metadata": {},
   "outputs": [
    {
     "name": "stdout",
     "output_type": "stream",
     "text": [
      "1 : \t1\t2\t3\t4\t5\t\n",
      "2 : \t2\t4\t6\t8\t10\t\n",
      "3 : \t3\t6\t9\t12\t15\t\n",
      "4 : \t4\t8\t12\t16\t20\t\n",
      "5 : \t5\t10\t15\t20\t25\t\n"
     ]
    }
   ],
   "source": [
    "for number in range(1,6):\n",
    "    print(f\"{number} : \", end='\\t')\n",
    "    for factor in [1, 2, 3, 4, 5]:\n",
    "        multiple = number * factor\n",
    "        print(f\"{multiple}\", end='\\t')\n",
    "    print()"
   ]
  },
  {
   "cell_type": "markdown",
   "id": "64a22dc5-3fef-4e3a-a7b3-3c1c95a4af0e",
   "metadata": {},
   "source": [
    "NOTE:\n",
    "`print()` function automatically ends with `\\n` if no `end=` is inputted"
   ]
  }
 ],
 "metadata": {
  "kernelspec": {
   "display_name": "Python 3 (ipykernel)",
   "language": "python",
   "name": "python3"
  },
  "language_info": {
   "codemirror_mode": {
    "name": "ipython",
    "version": 3
   },
   "file_extension": ".py",
   "mimetype": "text/x-python",
   "name": "python",
   "nbconvert_exporter": "python",
   "pygments_lexer": "ipython3",
   "version": "3.11.5"
  },
  "toc": {
   "base_numbering": 1,
   "nav_menu": {},
   "number_sections": true,
   "sideBar": true,
   "skip_h1_title": false,
   "title_cell": "Table of Contents",
   "title_sidebar": "Contents",
   "toc_cell": false,
   "toc_position": {},
   "toc_section_display": true,
   "toc_window_display": false
  },
  "vscode": {
   "interpreter": {
    "hash": "31f2aee4e71d21fbe5cf8b01ff0e069b9275f58929596ceb00d14d90e3e16cd6"
   }
  }
 },
 "nbformat": 4,
 "nbformat_minor": 5
}

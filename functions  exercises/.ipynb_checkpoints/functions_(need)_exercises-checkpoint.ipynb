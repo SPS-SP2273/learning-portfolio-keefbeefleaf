{
 "cells": [
  {
   "attachments": {},
   "cell_type": "markdown",
   "id": "123456",
   "metadata": {},
   "source": [
    "<div style=\"text-align:left;font-size:2em\"><span style=\"font-weight:bolder;font-size:1.25em\">SP2273 | Learning Portfolio</span><br><br><span style=\"font-weight:bold;color:darkred\">Functions (Need) Exercises</span></div>"
   ]
  },
  {
   "cell_type": "markdown",
   "id": "5c853471-6a06-4a7a-a32e-d4006b5b09b8",
   "metadata": {},
   "source": [
    "# Exercise 1"
   ]
  },
  {
   "cell_type": "markdown",
   "id": "cd4b1e75-0652-4983-9380-6c132db9d91f",
   "metadata": {},
   "source": [
    "The `return` function is used as a default argument for the `greeting()` function so as long as name =/= 'Batman', the function will return the default argument."
   ]
  },
  {
   "cell_type": "markdown",
   "id": "a6fbd900-babd-4cdd-bc9b-b251e9850eb7",
   "metadata": {},
   "source": [
    "# Exercise 2"
   ]
  },
  {
   "cell_type": "code",
   "execution_count": 11,
   "id": "5ef31474-533d-403d-ac82-ed7adfcae7bb",
   "metadata": {},
   "outputs": [],
   "source": [
    "def calculate_bmi(weight, height):\n",
    "    bmi = weight / (height **2)\n",
    "    if bmi < 18.5:\n",
    "        return 'BMI Category: Underweight'\n",
    "    elif 18.5 <= bmi <= 24.9:\n",
    "        return 'BMI Category: Normal Weight'\n",
    "    elif 25 <= bmi <= 29.9:\n",
    "        return 'BMI Category: Overweight'\n",
    "    elif bmi >= 30:\n",
    "        return 'BMI Category: Obesity'"
   ]
  },
  {
   "cell_type": "code",
   "execution_count": 10,
   "id": "1bb358be-de5a-448b-a0bb-83ab8a0d7a04",
   "metadata": {},
   "outputs": [
    {
     "data": {
      "text/plain": [
       "'BMI Category: Obesity'"
      ]
     },
     "execution_count": 10,
     "metadata": {},
     "output_type": "execute_result"
    }
   ],
   "source": [
    "calculate_bmi(90, 1.7)"
   ]
  }
 ],
 "metadata": {
  "kernelspec": {
   "display_name": "Python 3 (ipykernel)",
   "language": "python",
   "name": "python3"
  },
  "language_info": {
   "codemirror_mode": {
    "name": "ipython",
    "version": 3
   },
   "file_extension": ".py",
   "mimetype": "text/x-python",
   "name": "python",
   "nbconvert_exporter": "python",
   "pygments_lexer": "ipython3",
   "version": "3.11.5"
  },
  "toc": {
   "base_numbering": 1,
   "nav_menu": {},
   "number_sections": true,
   "sideBar": true,
   "skip_h1_title": false,
   "title_cell": "Table of Contents",
   "title_sidebar": "Contents",
   "toc_cell": false,
   "toc_position": {},
   "toc_section_display": true,
   "toc_window_display": false
  },
  "vscode": {
   "interpreter": {
    "hash": "31f2aee4e71d21fbe5cf8b01ff0e069b9275f58929596ceb00d14d90e3e16cd6"
   }
  }
 },
 "nbformat": 4,
 "nbformat_minor": 5
}

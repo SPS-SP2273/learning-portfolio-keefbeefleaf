{
 "cells": [
  {
   "attachments": {},
   "cell_type": "markdown",
   "id": "123456",
   "metadata": {},
   "source": [
    "<div style=\"text-align:left;font-size:2em\"><span style=\"font-weight:bolder;font-size:1.25em\">SP2273 | Learning Portfolio</span><br><br><span style=\"font-weight:bold;color:darkred\">Functions (Good) Exercises</span></div>"
   ]
  },
  {
   "cell_type": "markdown",
   "id": "19124dd8-95a5-424e-9e85-29dcb2c218b7",
   "metadata": {},
   "source": [
    "# Exercise 1"
   ]
  },
  {
   "cell_type": "code",
   "execution_count": 15,
   "id": "c3ad4e8f-345c-4a4c-a795-627ad61ec93b",
   "metadata": {},
   "outputs": [],
   "source": [
    "def convert_celsius(temperature_celsius, target_scale = 'farenheit'):\n",
    "    target_scale_lower = target_scale.lower()\n",
    "    if target_scale_lower == \"kelvin\":\n",
    "        temperature = temperature_celsius + 273\n",
    "        return f\"{temperature}K\"\n",
    "    else:\n",
    "        temperature = (temperature_celsius * 9 / 5) + 32\n",
    "        return f\"{temperature}F\""
   ]
  },
  {
   "cell_type": "code",
   "execution_count": 14,
   "id": "11ad24f5-a482-445a-8f9d-c557c3250292",
   "metadata": {},
   "outputs": [
    {
     "data": {
      "text/plain": [
       "'298K'"
      ]
     },
     "execution_count": 14,
     "metadata": {},
     "output_type": "execute_result"
    }
   ],
   "source": [
    "convert_celsius(25, \"kelvin\")"
   ]
  },
  {
   "cell_type": "code",
   "execution_count": 21,
   "id": "a3b2fe30-1d37-47a6-ba27-fb158ea0625b",
   "metadata": {},
   "outputs": [
    {
     "data": {
      "text/plain": [
       "'77.0F'"
      ]
     },
     "execution_count": 21,
     "metadata": {},
     "output_type": "execute_result"
    }
   ],
   "source": [
    "convert_celsius(25, \"farenheit\")"
   ]
  },
  {
   "cell_type": "code",
   "execution_count": 22,
   "id": "884bb4fb-7512-47f4-b873-4616bae54b38",
   "metadata": {},
   "outputs": [
    {
     "data": {
      "text/plain": [
       "'77.0F'"
      ]
     },
     "execution_count": 22,
     "metadata": {},
     "output_type": "execute_result"
    }
   ],
   "source": [
    "convert_celsius(25, \"\")"
   ]
  },
  {
   "cell_type": "markdown",
   "id": "fdae53b7-daec-498b-a02e-acc6c15f0f74",
   "metadata": {},
   "source": [
    "# Exercise 2"
   ]
  },
  {
   "cell_type": "code",
   "execution_count": 23,
   "id": "39b721d3-8d40-4a04-a2ed-7fff6cdf1c4f",
   "metadata": {},
   "outputs": [],
   "source": [
    "def convert_farenheit(temperature_farenheit, target_scale = 'celsius'):\n",
    "    target_scale_lower = target_scale.lower()\n",
    "    if target_scale_lower == \"kelvin\":\n",
    "        temperature = (temperature_farenheit - 32) * 5 / 9 + 273\n",
    "        return f\"{temperature}K\"\n",
    "    else:\n",
    "        temperature = (temperature_farenheit - 32) * 5 / 9\n",
    "        return f\"{temperature}C\""
   ]
  },
  {
   "cell_type": "code",
   "execution_count": 13,
   "id": "7d84a985-fc9b-4699-ae4c-51b4f6230195",
   "metadata": {},
   "outputs": [
    {
     "data": {
      "text/plain": [
       "'298.0K'"
      ]
     },
     "execution_count": 13,
     "metadata": {},
     "output_type": "execute_result"
    }
   ],
   "source": [
    "convert_farenheit(77, \"Kelvin\")"
   ]
  },
  {
   "cell_type": "code",
   "execution_count": 14,
   "id": "22811743-c953-4620-8d70-e7bb6aee4fbe",
   "metadata": {},
   "outputs": [
    {
     "data": {
      "text/plain": [
       "'25.0C'"
      ]
     },
     "execution_count": 14,
     "metadata": {},
     "output_type": "execute_result"
    }
   ],
   "source": [
    "convert_farenheit(77, \"Celsius\")"
   ]
  },
  {
   "cell_type": "markdown",
   "id": "df6e15cf-09de-4656-87c1-db5bd90e53ec",
   "metadata": {},
   "source": [
    "# Exercise 3"
   ]
  },
  {
   "cell_type": "code",
   "execution_count": 16,
   "id": "3cea5a99-479e-465f-b075-0a4052444bba",
   "metadata": {},
   "outputs": [],
   "source": [
    "def convert_kelvin(temperature_kelvin, target_scale):\n",
    "    if target_scale == \"Celsius\":\n",
    "        temperature = (temperature_kelvin - 273)\n",
    "        return f\"{temperature}C\"\n",
    "    elif target_scale == \"Farenheit\":\n",
    "        temperature = (temperature_kelvin - 273) * 9 / 5 + 32\n",
    "        return f\"{temperature}F\"\n",
    "    else:\n",
    "        return f\"{temperature}K\""
   ]
  },
  {
   "cell_type": "code",
   "execution_count": 58,
   "id": "16243ee4-8b01-49f4-9edd-a2ee322f32b8",
   "metadata": {},
   "outputs": [],
   "source": [
    "def convert_temperature(temperature, source_scale, target_scale):\n",
    "    if source_scale == \"Celsius\":\n",
    "        return convert_celsius(temperature, target_scale)\n",
    "    elif source_scale == \"Farenheit\":\n",
    "        return convert_farenheit(temperature, target_scale)\n",
    "    elif source_scale == \"Kelvin\":\n",
    "        return convert_kelvin(temperature, target_scale) \n",
    "    else:\n",
    "        return 'please input valid source_scale'"
   ]
  },
  {
   "cell_type": "code",
   "execution_count": 61,
   "id": "21eb6400-d7b5-4647-a22b-eaab17fac37c",
   "metadata": {},
   "outputs": [
    {
     "data": {
      "text/plain": [
       "'546K'"
      ]
     },
     "execution_count": 61,
     "metadata": {},
     "output_type": "execute_result"
    }
   ],
   "source": [
    "convert_temperature(273, \"Celsius\", \"Kelvin\")"
   ]
  }
 ],
 "metadata": {
  "kernelspec": {
   "display_name": "Python 3 (ipykernel)",
   "language": "python",
   "name": "python3"
  },
  "language_info": {
   "codemirror_mode": {
    "name": "ipython",
    "version": 3
   },
   "file_extension": ".py",
   "mimetype": "text/x-python",
   "name": "python",
   "nbconvert_exporter": "python",
   "pygments_lexer": "ipython3",
   "version": "3.11.5"
  },
  "toc": {
   "base_numbering": 1,
   "nav_menu": {},
   "number_sections": true,
   "sideBar": true,
   "skip_h1_title": false,
   "title_cell": "Table of Contents",
   "title_sidebar": "Contents",
   "toc_cell": false,
   "toc_position": {},
   "toc_section_display": true,
   "toc_window_display": false
  },
  "vscode": {
   "interpreter": {
    "hash": "31f2aee4e71d21fbe5cf8b01ff0e069b9275f58929596ceb00d14d90e3e16cd6"
   }
  }
 },
 "nbformat": 4,
 "nbformat_minor": 5
}

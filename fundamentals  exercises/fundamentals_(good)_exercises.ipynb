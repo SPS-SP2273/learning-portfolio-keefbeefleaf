{
 "cells": [
  {
   "attachments": {},
   "cell_type": "markdown",
   "id": "123456",
   "metadata": {},
   "source": [
    "<div style=\"text-align:left;font-size:2em\"><span style=\"font-weight:bolder;font-size:1.25em\">SP2273 | Learning Portfolio</span><br><br><span style=\"font-weight:bold;color:darkred\">Fundamentals (Good) Exercises</span></div>"
   ]
  },
  {
   "cell_type": "markdown",
   "id": "63f2eae9-13fc-447a-9025-e2c6b27f69f7",
   "metadata": {},
   "source": [
    "# **EXERCISE 1**"
   ]
  },
  {
   "cell_type": "code",
   "execution_count": 3,
   "id": "ceb69eaa-7753-4dec-8d87-c9b63d694828",
   "metadata": {},
   "outputs": [
    {
     "name": "stdin",
     "output_type": "stream",
     "text": [
      "Give me a number? 6\n"
     ]
    },
    {
     "name": "stdout",
     "output_type": "stream",
     "text": [
      "You entered 6\n"
     ]
    }
   ],
   "source": [
    "user_input = input('Give me a number?')\n",
    "print('You entered', user_input)"
   ]
  },
  {
   "cell_type": "code",
   "execution_count": 3,
   "id": "177838dc-328c-48d1-b339-361554b4b69d",
   "metadata": {},
   "outputs": [
    {
     "name": "stdin",
     "output_type": "stream",
     "text": [
      "Enter the student's score: 49.5\n"
     ]
    },
    {
     "name": "stdout",
     "output_type": "stream",
     "text": [
      "The student's letter grade is: C\n"
     ]
    }
   ],
   "source": [
    "def numerical_to_letter_grade(numerical_grade):\n",
    "    if 70 <= numerical_grade <= 100:\n",
    "        return 'A'\n",
    "    elif 50 <= numerical_grade < 70:\n",
    "        return 'B'\n",
    "    elif 35 <= numerical_grade < 50:\n",
    "        return 'C'\n",
    "    elif 0 <= numerical_grade < 35:\n",
    "        return 'Fail'\n",
    "    else:\n",
    "        return 'Invalid Input'\n",
    "\n",
    "try:\n",
    "    numerical_grade = float(input(\"Enter the student's score:\"))\n",
    "    if 0<= numerical_grade <= 100:\n",
    "        print(f\"The student's letter grade is: {numerical_to_letter_grade(numerical_grade)}\")\n",
    "    else:\n",
    "        print(\"Invalid input. Please enter a grade between 0 and 100.\")\n",
    "except ValueError:                                                                            # catch any inputs that are not numbers\n",
    "    print(\"Invalid input. Please enter a numerical grade between 0 and 100.\")"
   ]
  }
 ],
 "metadata": {
  "kernelspec": {
   "display_name": "Python 3 (ipykernel)",
   "language": "python",
   "name": "python3"
  },
  "language_info": {
   "codemirror_mode": {
    "name": "ipython",
    "version": 3
   },
   "file_extension": ".py",
   "mimetype": "text/x-python",
   "name": "python",
   "nbconvert_exporter": "python",
   "pygments_lexer": "ipython3",
   "version": "3.11.5"
  },
  "toc": {
   "base_numbering": 1,
   "nav_menu": {},
   "number_sections": true,
   "sideBar": true,
   "skip_h1_title": false,
   "title_cell": "Table of Contents",
   "title_sidebar": "Contents",
   "toc_cell": false,
   "toc_position": {},
   "toc_section_display": true,
   "toc_window_display": false
  },
  "vscode": {
   "interpreter": {
    "hash": "31f2aee4e71d21fbe5cf8b01ff0e069b9275f58929596ceb00d14d90e3e16cd6"
   }
  }
 },
 "nbformat": 4,
 "nbformat_minor": 5
}

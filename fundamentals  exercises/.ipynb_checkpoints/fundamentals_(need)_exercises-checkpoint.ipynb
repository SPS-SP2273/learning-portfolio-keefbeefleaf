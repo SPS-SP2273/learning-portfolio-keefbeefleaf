{
 "cells": [
  {
   "cell_type": "markdown",
   "id": "123456",
   "metadata": {},
   "source": [
    "<div style=\"text-align:left;font-size:2em\"><span style=\"font-weight:bolder;font-size:1.25em\">SP2273 | Learning Portfolio</span><br><br><span style=\"font-weight:bold;color:darkred\">Fundamentals (Need) Exercises</span></div>"
   ]
  },
  {
   "cell_type": "markdown",
   "id": "5b8a5082",
   "metadata": {},
   "source": [
    "### Exercise 1"
   ]
  },
  {
   "cell_type": "markdown",
   "id": "510a2a12",
   "metadata": {},
   "source": [
    "**Basic Python Features**\n",
    "- functions\n",
    "- packages\n",
    "- if/else\n",
    "- the dot \n",
    "- =/==\n",
    "- comments\n",
    "- indentations\n",
    "- brackets\n",
    "- *interpreter*\n",
    "- *case-sensitive* \n",
    "- *'' for english, without it is a variable*\n"
   ]
  },
  {
   "cell_type": "markdown",
   "id": "8802cb49",
   "metadata": {},
   "source": [
    "### Exercise 2\n"
   ]
  },
  {
   "cell_type": "code",
   "execution_count": 3,
   "id": "bb56340b",
   "metadata": {
    "scrolled": true
   },
   "outputs": [
    {
     "name": "stdout",
     "output_type": "stream",
     "text": [
      "3 4 5.0\n"
     ]
    }
   ],
   "source": [
    "import math \n",
    "x, y = 3, 4\n",
    "z = math.sqrt(x**2 + y**2)\n",
    "print (x, y, z)"
   ]
  },
  {
   "cell_type": "markdown",
   "id": "6a0df84d",
   "metadata": {},
   "source": [
    "### Exercise 3"
   ]
  },
  {
   "cell_type": "markdown",
   "id": "df917dd9",
   "metadata": {},
   "source": [
    "|#|Term|Description|\n",
    "|:--|:--:|--:|\n",
    "|1|Function|It causes something to happen, a specific task to be performed.\n",
    "|2|Arguments|They are variables for the function.\n",
    "|3|Comments|To help understand the code better, being ignored by Python.\n",
    "|4|Indentations|They are meant to seperate 'True' and 'False'.\n",
    "|5|Packages|To allow Python to perform functions it normally cannot perform.\n",
    "|6|.|To indicate which package the function belongs to.\n",
    "|7|:|To give meaning to a variable like age, name, etc. \n",
    "|8|[ ]|To produce a list of data. \n",
    "|9|[ [ [ ] ]|To make a list within a list. \n",
    "|10|{ }|To store a multiple data in a dictionary which can be extracted for use in functions. "
   ]
  },
  {
   "cell_type": "markdown",
   "id": "0e16f318",
   "metadata": {},
   "source": [
    "### Exercise 4"
   ]
  },
  {
   "cell_type": "code",
   "execution_count": 13,
   "id": "eddb5034",
   "metadata": {},
   "outputs": [
    {
     "data": {
      "text/plain": [
       "2.5"
      ]
     },
     "execution_count": 13,
     "metadata": {},
     "output_type": "execute_result"
    }
   ],
   "source": [
    "5/2 #normal division"
   ]
  },
  {
   "cell_type": "code",
   "execution_count": 16,
   "id": "bd9d8919",
   "metadata": {},
   "outputs": [
    {
     "data": {
      "text/plain": [
       "2"
      ]
     },
     "execution_count": 16,
     "metadata": {},
     "output_type": "execute_result"
    }
   ],
   "source": [
    "5//2 #floor division, where the result is rounded down to the nearest whole number\n"
   ]
  },
  {
   "cell_type": "code",
   "execution_count": 17,
   "id": "3bbf812d",
   "metadata": {},
   "outputs": [
    {
     "data": {
      "text/plain": [
       "1"
      ]
     },
     "execution_count": 17,
     "metadata": {},
     "output_type": "execute_result"
    }
   ],
   "source": [
    "5%2 #remainder after the division"
   ]
  }
 ],
 "metadata": {
  "kernelspec": {
   "display_name": "Python 3 (ipykernel)",
   "language": "python",
   "name": "python3"
  },
  "language_info": {
   "codemirror_mode": {
    "name": "ipython",
    "version": 3
   },
   "file_extension": ".py",
   "mimetype": "text/x-python",
   "name": "python",
   "nbconvert_exporter": "python",
   "pygments_lexer": "ipython3",
   "version": "3.11.5"
  },
  "toc": {
   "base_numbering": 1,
   "nav_menu": {},
   "number_sections": true,
   "sideBar": true,
   "skip_h1_title": false,
   "title_cell": "Table of Contents",
   "title_sidebar": "Contents",
   "toc_cell": false,
   "toc_position": {},
   "toc_section_display": true,
   "toc_window_display": false
  },
  "vscode": {
   "interpreter": {
    "hash": "31f2aee4e71d21fbe5cf8b01ff0e069b9275f58929596ceb00d14d90e3e16cd6"
   }
  }
 },
 "nbformat": 4,
 "nbformat_minor": 5
}

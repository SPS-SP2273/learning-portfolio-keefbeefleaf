{
 "cells": [
  {
   "attachments": {},
   "cell_type": "markdown",
   "id": "123456",
   "metadata": {},
   "source": [
    "<div style=\"text-align:left;font-size:2em\"><span style=\"font-weight:bolder;font-size:1.25em\">SP2273 | Learning Portfolio</span><br><br><span style=\"font-weight:bold;color:darkred\">Fundamentals (Good)</span></div>"
   ]
  },
  {
   "attachments": {},
   "cell_type": "markdown",
   "id": "8f98e9f6",
   "metadata": {},
   "source": [
    "# There is more to `if`"
   ]
  },
  {
   "cell_type": "markdown",
   "id": "f88780fd-1fd8-4a3a-8aba-98409cac8cfa",
   "metadata": {},
   "source": [
    "`elif` = else if\n",
    "- used when more branches are needed in an `if` statement "
   ]
  },
  {
   "cell_type": "code",
   "execution_count": 1,
   "id": "a0736ea9-9b04-4611-b882-acd7bb5dae96",
   "metadata": {},
   "outputs": [
    {
     "name": "stdout",
     "output_type": "stream",
     "text": [
      "Hello Batman!\n"
     ]
    }
   ],
   "source": [
    "name = 'Batman'\n",
    "\n",
    "if name == 'Batman':\n",
    "    print('Hello Batman!')\n",
    "elif name == 'Robin':\n",
    "    print('Hello Sidekick!')\n",
    "else:\n",
    "    print('Hello World!')"
   ]
  },
  {
   "cell_type": "code",
   "execution_count": 2,
   "id": "7b305f08-fefd-4df5-adf0-dff402efef60",
   "metadata": {},
   "outputs": [
    {
     "name": "stdout",
     "output_type": "stream",
     "text": [
      "Hello Sidekick!\n"
     ]
    }
   ],
   "source": [
    "name = 'Robin'\n",
    "\n",
    "if name == 'Batman':\n",
    "    print('Hello Batman!')\n",
    "elif name == 'Robin':\n",
    "    print('Hello Sidekick!')\n",
    "else:\n",
    "    print('Hello World!')"
   ]
  },
  {
   "cell_type": "code",
   "execution_count": 4,
   "id": "dce87174-320e-4903-950a-796170517d03",
   "metadata": {},
   "outputs": [
    {
     "name": "stdout",
     "output_type": "stream",
     "text": [
      "HAHAHHA\n"
     ]
    }
   ],
   "source": [
    "name = 'Joker'\n",
    "\n",
    "if name == 'Batman':\n",
    "    print('Hello Batman!')\n",
    "elif name == 'Robin':\n",
    "    print('Hello Sidekick')\n",
    "elif name == 'Joker':\n",
    "    print('HAHAHHA')\n",
    "else:\n",
    "    print('Hello World!')"
   ]
  },
  {
   "cell_type": "code",
   "execution_count": 5,
   "id": "ba2c0f2c-c3db-42a5-8487-806461711362",
   "metadata": {},
   "outputs": [
    {
     "name": "stdout",
     "output_type": "stream",
     "text": [
      "Hello World!\n"
     ]
    }
   ],
   "source": [
    "name = 'Nightwing'\n",
    "\n",
    "if name == 'Batman':\n",
    "    print('Hello Batman!')\n",
    "elif name == 'Robin':\n",
    "    print('Hello Sidekick!')\n",
    "else:\n",
    "    print('Hello World!')"
   ]
  },
  {
   "attachments": {},
   "cell_type": "markdown",
   "id": "d1dedadc",
   "metadata": {},
   "source": [
    "# Asking questions"
   ]
  },
  {
   "cell_type": "code",
   "execution_count": 6,
   "id": "b64d2763-223c-4aa5-ab39-54bc56b9e507",
   "metadata": {},
   "outputs": [],
   "source": [
    "fruits = ['apple', 'banana', 'pineapple', 'jackfruit']\n",
    "vegetables = ['celery', 'potato', 'broccoli', 'kale']"
   ]
  },
  {
   "cell_type": "code",
   "execution_count": 9,
   "id": "2d063979-fe88-4b65-9702-223f090cbd8b",
   "metadata": {},
   "outputs": [
    {
     "data": {
      "text/plain": [
       "True"
      ]
     },
     "execution_count": 9,
     "metadata": {},
     "output_type": "execute_result"
    }
   ],
   "source": [
    "'apple' in fruits # is apple IN 'fruits' list"
   ]
  },
  {
   "cell_type": "code",
   "execution_count": 10,
   "id": "4f8aaefa-ddc8-4dc6-81bf-4b1f12ee53eb",
   "metadata": {},
   "outputs": [
    {
     "data": {
      "text/plain": [
       "False"
      ]
     },
     "execution_count": 10,
     "metadata": {},
     "output_type": "execute_result"
    }
   ],
   "source": [
    "'peach' in fruits # is peach IN 'fruits' list"
   ]
  },
  {
   "cell_type": "code",
   "execution_count": 11,
   "id": "9bddce2f-6c86-45d1-a475-1bd86b7a0500",
   "metadata": {},
   "outputs": [
    {
     "data": {
      "text/plain": [
       "True"
      ]
     },
     "execution_count": 11,
     "metadata": {},
     "output_type": "execute_result"
    }
   ],
   "source": [
    "'peach' not in fruits # is peach NOT IN 'fruits' list"
   ]
  },
  {
   "cell_type": "code",
   "execution_count": 14,
   "id": "0d06a89c-332b-4695-8698-f6bcba64248f",
   "metadata": {},
   "outputs": [
    {
     "data": {
      "text/plain": [
       "True"
      ]
     },
     "execution_count": 14,
     "metadata": {},
     "output_type": "execute_result"
    }
   ],
   "source": [
    "('apple' in fruits) or ('kang kong' in vegetables) # is apple in 'fruits' OR celery in 'vegetables'"
   ]
  },
  {
   "cell_type": "code",
   "execution_count": 15,
   "id": "4854080c-fadf-4faa-8e68-4c49896011b6",
   "metadata": {},
   "outputs": [
    {
     "data": {
      "text/plain": [
       "False"
      ]
     },
     "execution_count": 15,
     "metadata": {},
     "output_type": "execute_result"
    }
   ],
   "source": [
    "('apple' in fruits) and ('kang kong' in vegetables) # is apple in 'fruits' AND celery in 'vegetables'"
   ]
  },
  {
   "cell_type": "code",
   "execution_count": 17,
   "id": "9f1dcd3b-4cf3-4f09-a329-d94f7cb41c1d",
   "metadata": {},
   "outputs": [
    {
     "data": {
      "text/plain": [
       "True"
      ]
     },
     "execution_count": 17,
     "metadata": {},
     "output_type": "execute_result"
    }
   ],
   "source": [
    "'ban' in 'banana' # is 'ban' IN 'banana'"
   ]
  },
  {
   "cell_type": "markdown",
   "id": "1692c7a4-1dfb-4970-b820-df7505f3622f",
   "metadata": {},
   "source": [
    "Use `not`, `in`, `or`, `and` to ask questions\n",
    "\n",
    "When asking, Python can only compare similar types i.e. numbers/English so you can compare 3 to 4 but not 3 to apple "
   ]
  },
  {
   "cell_type": "code",
   "execution_count": 18,
   "id": "6d6b1850-6638-4b2b-9d22-24fe2af48ef9",
   "metadata": {},
   "outputs": [
    {
     "data": {
      "text/plain": [
       "False"
      ]
     },
     "execution_count": 18,
     "metadata": {},
     "output_type": "execute_result"
    }
   ],
   "source": [
    "'apple' > 'banana'"
   ]
  },
  {
   "cell_type": "code",
   "execution_count": 19,
   "id": "0197a601-6e1b-4121-b82a-ac05dd8ba75f",
   "metadata": {},
   "outputs": [
    {
     "data": {
      "text/plain": [
       "True"
      ]
     },
     "execution_count": 19,
     "metadata": {},
     "output_type": "execute_result"
    }
   ],
   "source": [
    "'banana' > 'apple'"
   ]
  },
  {
   "cell_type": "markdown",
   "id": "6f44b79b-23f5-40d8-b3ea-5d988ea410e4",
   "metadata": {},
   "source": [
    "this works because english words are represented as **numbers** in code"
   ]
  },
  {
   "attachments": {},
   "cell_type": "markdown",
   "id": "dbf7357e",
   "metadata": {},
   "source": [
    "## Asking Math questions"
   ]
  },
  {
   "cell_type": "markdown",
   "id": "b2b66d46-6c4a-4ea9-ac9d-1dc9c568b20d",
   "metadata": {},
   "source": [
    "equal?: `==`\n",
    "\n",
    "not equal?: `!=`\n",
    "\n",
    "less than?: `<`\n",
    "\n",
    "greater than?: `>`\n",
    "\n",
    "less than or equal?: `<=`\n",
    "\n",
    "greater than or equal?: `>=`"
   ]
  },
  {
   "attachments": {},
   "cell_type": "markdown",
   "id": "184d513f",
   "metadata": {},
   "source": [
    "# Python stores information in different formats or types"
   ]
  },
  {
   "cell_type": "code",
   "execution_count": 1,
   "id": "5b17e26f-fb63-4dc8-9f02-7aaa0112836d",
   "metadata": {},
   "outputs": [
    {
     "name": "stdout",
     "output_type": "stream",
     "text": [
      "1 <class 'int'>\n"
     ]
    }
   ],
   "source": [
    "x = int(1.234)    # int() = integer (drops decimals)\n",
    "print(x, type(x)) "
   ]
  },
  {
   "cell_type": "code",
   "execution_count": 2,
   "id": "5fc17e6a-f6f8-45e8-8adb-4cef81ce5587",
   "metadata": {},
   "outputs": [
    {
     "name": "stdout",
     "output_type": "stream",
     "text": [
      "1.234 <class 'str'>\n"
     ]
    }
   ],
   "source": [
    "x = str(1.234)    # str() = string/English word\n",
    "print(x, type(x))"
   ]
  },
  {
   "cell_type": "code",
   "execution_count": 4,
   "id": "39bbedbe-31c7-4c24-a434-90b8dd15c0c7",
   "metadata": {},
   "outputs": [
    {
     "name": "stdout",
     "output_type": "stream",
     "text": [
      "1.234 <class 'float'>\n"
     ]
    }
   ],
   "source": [
    "x = float(1.234)  # float() = decimal number\n",
    "print(x, type(x))"
   ]
  },
  {
   "cell_type": "code",
   "execution_count": 8,
   "id": "19bef8b6-d6ea-408c-be81-7b3015f8e86b",
   "metadata": {},
   "outputs": [
    {
     "name": "stdout",
     "output_type": "stream",
     "text": [
      "(1.234+0j) <class 'complex'>\n"
     ]
    }
   ],
   "source": [
    "x = complex(1.234) # complex() = complex number (w/ imaginary component)\n",
    "print(x, type(x))"
   ]
  },
  {
   "cell_type": "markdown",
   "id": "b8b3d6e5-cae3-46ae-b90d-1ee4fa30ae8c",
   "metadata": {},
   "source": [
    "typecasting - changing the type of the variable "
   ]
  },
  {
   "attachments": {},
   "cell_type": "markdown",
   "id": "c6a52946",
   "metadata": {},
   "source": [
    "# Never compare floats directly"
   ]
  },
  {
   "attachments": {},
   "cell_type": "markdown",
   "id": "41236fa5",
   "metadata": {},
   "source": [
    "## The Problem"
   ]
  },
  {
   "cell_type": "code",
   "execution_count": 1,
   "id": "d18c9f75-21a5-4a2b-9e3b-d0efccc772cb",
   "metadata": {},
   "outputs": [
    {
     "data": {
      "text/plain": [
       "False"
      ]
     },
     "execution_count": 1,
     "metadata": {},
     "output_type": "execute_result"
    }
   ],
   "source": [
    "a = 0.1\n",
    "a3 = 0.3\n",
    "a * 3 == a3 # is 3a = a3?"
   ]
  },
  {
   "cell_type": "code",
   "execution_count": 3,
   "id": "c88177b7-1142-4f52-8b46-c1a5d081d770",
   "metadata": {},
   "outputs": [
    {
     "data": {
      "text/plain": [
       "'0.29999999999999999'"
      ]
     },
     "execution_count": 3,
     "metadata": {},
     "output_type": "execute_result"
    }
   ],
   "source": [
    "f'{0.3:.17f}' # print 0.3 to 17 d.p."
   ]
  },
  {
   "cell_type": "markdown",
   "id": "ef8c528d-6e6a-4e30-ac48-d73968765b5e",
   "metadata": {},
   "source": [
    "The above codes shows the problem with storing floating point numbers "
   ]
  },
  {
   "attachments": {},
   "cell_type": "markdown",
   "id": "ec7aa60b",
   "metadata": {},
   "source": [
    "## A solution"
   ]
  },
  {
   "cell_type": "markdown",
   "id": "973d0a7c-1d78-409c-bb5d-948a598c310b",
   "metadata": {},
   "source": [
    "To get around this, check if variable is close to the expected value"
   ]
  },
  {
   "cell_type": "code",
   "execution_count": 6,
   "id": "5fc789af-1cfc-47a2-8309-b84431170efe",
   "metadata": {},
   "outputs": [
    {
     "data": {
      "text/plain": [
       "True"
      ]
     },
     "execution_count": 6,
     "metadata": {},
     "output_type": "execute_result"
    }
   ],
   "source": [
    "eps = 1E-10\n",
    "abs(a*3-a3)<eps # absolute value of the difference between 3a and a3 less than 1E-10"
   ]
  },
  {
   "cell_type": "code",
   "execution_count": 10,
   "id": "3e14613a-1473-4ac4-b42e-744e28693a35",
   "metadata": {},
   "outputs": [
    {
     "data": {
      "text/plain": [
       "True"
      ]
     },
     "execution_count": 10,
     "metadata": {},
     "output_type": "execute_result"
    }
   ],
   "source": [
    "import numpy as np\n",
    "np.isclose(a*3,a3)"
   ]
  },
  {
   "attachments": {},
   "cell_type": "markdown",
   "id": "fde717ba",
   "metadata": {},
   "source": [
    "# Combining English and variables"
   ]
  },
  {
   "cell_type": "code",
   "execution_count": 11,
   "id": "03b28547-74fa-47b7-9e63-e29c592cbb04",
   "metadata": {},
   "outputs": [
    {
     "name": "stdout",
     "output_type": "stream",
     "text": [
      "Hello Keith!\n"
     ]
    }
   ],
   "source": [
    "name = \"Keith\"\n",
    "print(f\"Hello {name}!\")"
   ]
  },
  {
   "cell_type": "code",
   "execution_count": 13,
   "id": "f051bbd5-26e3-4885-9056-ac0504a74c81",
   "metadata": {},
   "outputs": [
    {
     "name": "stdout",
     "output_type": "stream",
     "text": [
      "Hello KEITH!\n"
     ]
    }
   ],
   "source": [
    "name = \"Keith\"\n",
    "print(f\"Hello {name.upper()}!\") # causes name to be all upper case"
   ]
  },
  {
   "cell_type": "code",
   "execution_count": 14,
   "id": "6844351f-eca6-4d3b-a40e-cdd44935a752",
   "metadata": {},
   "outputs": [
    {
     "name": "stdout",
     "output_type": "stream",
     "text": [
      "The value of 10 squared is 100!\n"
     ]
    }
   ],
   "source": [
    "x = 10\n",
    "print(f\"The value of {x} squared is {x**2}!\")"
   ]
  },
  {
   "cell_type": "markdown",
   "id": "3ad01c03-6502-47a2-9b1c-c332d503e4d6",
   "metadata": {},
   "source": [
    "the `f` and `{}` functions in the commands above form the **f-string** or **string interpolation**.\n",
    "\n",
    "basic format is `f'{}'`"
   ]
  },
  {
   "cell_type": "markdown",
   "id": "33c5e54f-ef06-4c4c-911b-af4ce17adf73",
   "metadata": {},
   "source": [
    "**Formatting text**\n",
    "\n",
    "using `f'{text:>number}'` where `>` can be replaced with `^` or `<` to align text accordingly and *number* to be replaced with an integer to determine the number of characters in the text block."
   ]
  },
  {
   "cell_type": "code",
   "execution_count": 15,
   "id": "60f2552c-2a56-4726-ac72-3ad5485611f9",
   "metadata": {},
   "outputs": [
    {
     "name": "stdout",
     "output_type": "stream",
     "text": [
      "Bruce Wayne is Batman.\n"
     ]
    }
   ],
   "source": [
    "text = 'Bruce Wayne is Batman.'\n",
    "print(f'{text}')"
   ]
  },
  {
   "cell_type": "code",
   "execution_count": 19,
   "id": "764b56e9-524f-4128-a988-20ff7442a0d6",
   "metadata": {},
   "outputs": [
    {
     "name": "stdout",
     "output_type": "stream",
     "text": [
      "                                                                              Bruce Wayne is Batman.\n"
     ]
    }
   ],
   "source": [
    "text = 'Bruce Wayne is Batman.'\n",
    "print(f'{text:>100}')           # aligned right"
   ]
  },
  {
   "cell_type": "code",
   "execution_count": 20,
   "id": "98981a7c-e565-4c22-b9bc-1bb20fa63af6",
   "metadata": {},
   "outputs": [
    {
     "name": "stdout",
     "output_type": "stream",
     "text": [
      "                                       Bruce Wayne is Batman.                                       \n"
     ]
    }
   ],
   "source": [
    "text = 'Bruce Wayne is Batman.'\n",
    "print(f'{text:^100}')           # aligned centre"
   ]
  },
  {
   "cell_type": "code",
   "execution_count": 21,
   "id": "afd4cc6e-17f3-470c-9bb0-feaa9bb17709",
   "metadata": {},
   "outputs": [
    {
     "name": "stdout",
     "output_type": "stream",
     "text": [
      "Bruce Wayne is Batman.                                                                              \n"
     ]
    }
   ],
   "source": [
    "text = 'Bruce Wayne is Batman.'\n",
    "print(f'{text:<100}')           # aligned left"
   ]
  },
  {
   "cell_type": "markdown",
   "id": "449ec039-651d-4b9d-8906-82110323fb4a",
   "metadata": {},
   "source": [
    "**Formatting numbers**"
   ]
  },
  {
   "cell_type": "code",
   "execution_count": 23,
   "id": "f3e495f1-2ff5-4a8f-8af5-7cae957b5f01",
   "metadata": {},
   "outputs": [
    {
     "name": "stdout",
     "output_type": "stream",
     "text": [
      "The value of pi to 10 decimal places is 3.1415926536\n"
     ]
    }
   ],
   "source": [
    "print(f'The value of pi to 10 decimal places is {np.pi:.10f}') "
   ]
  },
  {
   "cell_type": "markdown",
   "id": "fdbd4047-da6f-43a6-b5ca-1e5c6cf27ff6",
   "metadata": {},
   "source": [
    "in `.10f`, `f` tells the f-string to output in decimal notation and `.10` represents the number of decimal places the output will be in"
   ]
  },
  {
   "cell_type": "code",
   "execution_count": 24,
   "id": "05de2eec-940c-4f6f-9e04-10b58959fb7d",
   "metadata": {},
   "outputs": [
    {
     "name": "stdout",
     "output_type": "stream",
     "text": [
      "The value of pi to 10 decimal places is 3.1415926536e+00\n"
     ]
    }
   ],
   "source": [
    "print(f'The value of pi to 10 decimal places is {np.pi:.10e}') "
   ]
  },
  {
   "cell_type": "markdown",
   "id": "d544868b-eb9f-40be-aec8-18af6b2aa87d",
   "metadata": {},
   "source": [
    "`e` instead tells the f-string to output in scientific notation"
   ]
  },
  {
   "attachments": {},
   "cell_type": "markdown",
   "id": "29979192",
   "metadata": {},
   "source": [
    "## Structure of f-strings"
   ]
  },
  {
   "cell_type": "markdown",
   "id": "aa0849bf-9dd6-4f16-bd98-c5c1cd1179aa",
   "metadata": {},
   "source": [
    "Basic structure is `{X:>0Y.ZW}`\n",
    "\n",
    "- `X` - variable to format\n",
    "- `>` - alignment (use either >, ^ or <)\n",
    "- `0` - pad the space (can use normal space too)\n",
    "- `Y` - total number of characters\n",
    "- `Z` - number of d.p.\n",
    "- `W` - specifies type of variable\n",
    "\n",
    "[FOR MORE DETAILED LOOK ON FORMATTING](https://pyformat.info/)"
   ]
  },
  {
   "attachments": {},
   "cell_type": "markdown",
   "id": "2064e9c9",
   "metadata": {},
   "source": [
    "# Escape sequences"
   ]
  },
  {
   "cell_type": "markdown",
   "id": "c496e51b-4f82-4152-a41e-132e002b685e",
   "metadata": {},
   "source": [
    "Refers to special characters needed when writing english\n",
    "\n",
    "- `\\'` - single quotation marks\n",
    "- `\\\\` - backslash\n",
    "- `\\n` - new line\n",
    "- `\\t` - horizontal tab\n",
    "\n",
    "`\\` causes an \"escape\""
   ]
  },
  {
   "cell_type": "code",
   "execution_count": 29,
   "id": "ef14b8c6-3d83-4442-8613-55c2f81c3534",
   "metadata": {},
   "outputs": [
    {
     "name": "stdout",
     "output_type": "stream",
     "text": [
      "Bruce Wayne's real name is Batman\n"
     ]
    }
   ],
   "source": [
    "print('Bruce Wayne\\'s real name is Batman') "
   ]
  },
  {
   "cell_type": "code",
   "execution_count": 31,
   "id": "2ec24ef2-1e63-42c7-a578-06c590e48577",
   "metadata": {},
   "outputs": [
    {
     "name": "stdout",
     "output_type": "stream",
     "text": [
      "A\\B\\C\n"
     ]
    }
   ],
   "source": [
    "print('A\\\\B\\\\C')"
   ]
  },
  {
   "cell_type": "code",
   "execution_count": 32,
   "id": "04ea4646-bca5-4348-a168-51705a72ee36",
   "metadata": {},
   "outputs": [
    {
     "name": "stdout",
     "output_type": "stream",
     "text": [
      "A\n",
      "B\n",
      "C\n"
     ]
    }
   ],
   "source": [
    "print('A\\nB\\nC')"
   ]
  },
  {
   "cell_type": "code",
   "execution_count": 33,
   "id": "b0492dd8-bc6b-4c03-8999-7710a5a7f45f",
   "metadata": {},
   "outputs": [
    {
     "name": "stdout",
     "output_type": "stream",
     "text": [
      "A\tB\tC\n"
     ]
    }
   ],
   "source": [
    "print('A\\tB\\tC')"
   ]
  },
  {
   "attachments": {},
   "cell_type": "markdown",
   "id": "d502684d",
   "metadata": {},
   "source": [
    "# Computers read = from Right to Left!"
   ]
  },
  {
   "cell_type": "code",
   "execution_count": 34,
   "id": "3ec96f12-ea7f-41fc-bca4-e14cbdab9c4e",
   "metadata": {},
   "outputs": [],
   "source": [
    "x = 40\n",
    "y = x +2"
   ]
  },
  {
   "cell_type": "code",
   "execution_count": 36,
   "id": "2adb5c79-743a-4961-97bf-7b31e6b59ffa",
   "metadata": {},
   "outputs": [
    {
     "name": "stdout",
     "output_type": "stream",
     "text": [
      "42\n"
     ]
    }
   ],
   "source": [
    "y = 40\n",
    "y = y + 2\n",
    "print (y) # python allows this because it reads from right to left (doesn't work for math)"
   ]
  },
  {
   "attachments": {},
   "cell_type": "markdown",
   "id": "29eff749",
   "metadata": {},
   "source": [
    "# Shorter and Cleaner Code"
   ]
  },
  {
   "cell_type": "code",
   "execution_count": 39,
   "id": "c9a3ae07-b7a3-41ec-b69f-0c6bb3633a83",
   "metadata": {},
   "outputs": [
    {
     "data": {
      "text/plain": [
       "42"
      ]
     },
     "execution_count": 39,
     "metadata": {},
     "output_type": "execute_result"
    }
   ],
   "source": [
    "y = 40\n",
    "y += 2 # same as y = y + 2\n",
    "y      # prints y"
   ]
  },
  {
   "cell_type": "markdown",
   "id": "198f3fec-f351-47f8-ab20-25ee4869fb75",
   "metadata": {},
   "source": [
    "replace `+` with `-`, `*` and `/` for subtraction, multiplication and division respectively."
   ]
  },
  {
   "attachments": {},
   "cell_type": "markdown",
   "id": "d5e5e04d",
   "metadata": {},
   "source": [
    "# Python can be a prima-donna."
   ]
  },
  {
   "cell_type": "markdown",
   "id": "3edf08c3-58ac-4adf-9d34-002d65880fc4",
   "metadata": {},
   "source": [
    "Scroll to end of error messages to see error message to do **code debugging**"
   ]
  },
  {
   "attachments": {},
   "cell_type": "markdown",
   "id": "248c6dda",
   "metadata": {},
   "source": [
    "# Best Practices for Scientific Computing"
   ]
  },
  {
   "cell_type": "markdown",
   "id": "337d77e4-c70b-4c5e-863e-2aabddfa30ec",
   "metadata": {},
   "source": [
    "1. Write programs for people, not computers - must be understandable!!\n",
    "2. Optimise software only after it works correctly - make it work first!\n",
    "3. Document design and purpose, not mechanics - what's the code for and not how it works!\n",
    "4. Collaborate! "
   ]
  },
  {
   "attachments": {},
   "cell_type": "markdown",
   "id": "4208866d",
   "metadata": {},
   "source": [
    "# Looking for help"
   ]
  }
 ],
 "metadata": {
  "kernelspec": {
   "display_name": "Python 3 (ipykernel)",
   "language": "python",
   "name": "python3"
  },
  "language_info": {
   "codemirror_mode": {
    "name": "ipython",
    "version": 3
   },
   "file_extension": ".py",
   "mimetype": "text/x-python",
   "name": "python",
   "nbconvert_exporter": "python",
   "pygments_lexer": "ipython3",
   "version": "3.11.5"
  },
  "toc": {
   "base_numbering": 1,
   "nav_menu": {},
   "number_sections": true,
   "sideBar": true,
   "skip_h1_title": false,
   "title_cell": "Table of Contents",
   "title_sidebar": "Contents",
   "toc_cell": false,
   "toc_position": {},
   "toc_section_display": true,
   "toc_window_display": false
  },
  "vscode": {
   "interpreter": {
    "hash": "31f2aee4e71d21fbe5cf8b01ff0e069b9275f58929596ceb00d14d90e3e16cd6"
   }
  }
 },
 "nbformat": 4,
 "nbformat_minor": 5
}

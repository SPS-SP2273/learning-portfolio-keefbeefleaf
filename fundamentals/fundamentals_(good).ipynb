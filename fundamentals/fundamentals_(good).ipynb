{
 "cells": [
  {
   "attachments": {},
   "cell_type": "markdown",
   "id": "123456",
   "metadata": {},
   "source": [
    "<div style=\"text-align:left;font-size:2em\"><span style=\"font-weight:bolder;font-size:1.25em\">SP2273 | Learning Portfolio</span><br><br><span style=\"font-weight:bold;color:darkred\">Fundamentals (Good)</span></div>"
   ]
  },
  {
   "attachments": {},
   "cell_type": "markdown",
   "id": "8f98e9f6",
   "metadata": {},
   "source": [
    "# There is more to `if`"
   ]
  },
  {
   "cell_type": "markdown",
   "id": "f88780fd-1fd8-4a3a-8aba-98409cac8cfa",
   "metadata": {},
   "source": [
    "`elif` = else if\n",
    "- used when more branches are needed in an `if` statement "
   ]
  },
  {
   "cell_type": "code",
   "execution_count": 1,
   "id": "a0736ea9-9b04-4611-b882-acd7bb5dae96",
   "metadata": {},
   "outputs": [
    {
     "name": "stdout",
     "output_type": "stream",
     "text": [
      "Hello Batman!\n"
     ]
    }
   ],
   "source": [
    "name = 'Batman'\n",
    "\n",
    "if name == 'Batman':\n",
    "    print('Hello Batman!')\n",
    "elif name == 'Robin':\n",
    "    print('Hello Sidekick!')\n",
    "else:\n",
    "    print('Hello World!')"
   ]
  },
  {
   "cell_type": "code",
   "execution_count": 2,
   "id": "7b305f08-fefd-4df5-adf0-dff402efef60",
   "metadata": {},
   "outputs": [
    {
     "name": "stdout",
     "output_type": "stream",
     "text": [
      "Hello Sidekick!\n"
     ]
    }
   ],
   "source": [
    "name = 'Robin'\n",
    "\n",
    "if name == 'Batman':\n",
    "    print('Hello Batman!')\n",
    "elif name == 'Robin':\n",
    "    print('Hello Sidekick!')\n",
    "else:\n",
    "    print('Hello World!')"
   ]
  },
  {
   "cell_type": "code",
   "execution_count": 4,
   "id": "dce87174-320e-4903-950a-796170517d03",
   "metadata": {},
   "outputs": [
    {
     "name": "stdout",
     "output_type": "stream",
     "text": [
      "HAHAHHA\n"
     ]
    }
   ],
   "source": [
    "name = 'Joker'\n",
    "\n",
    "if name == 'Batman':\n",
    "    print('Hello Batman!')\n",
    "elif name == 'Robin':\n",
    "    print('Hello Sidekick')\n",
    "elif name == 'Joker':\n",
    "    print('HAHAHHA')\n",
    "else:\n",
    "    print('Hello World!')"
   ]
  },
  {
   "cell_type": "code",
   "execution_count": 5,
   "id": "ba2c0f2c-c3db-42a5-8487-806461711362",
   "metadata": {},
   "outputs": [
    {
     "name": "stdout",
     "output_type": "stream",
     "text": [
      "Hello World!\n"
     ]
    }
   ],
   "source": [
    "name = 'Nightwing'\n",
    "\n",
    "if name == 'Batman':\n",
    "    print('Hello Batman!')\n",
    "elif name == 'Robin':\n",
    "    print('Hello Sidekick!')\n",
    "else:\n",
    "    print('Hello World!')"
   ]
  },
  {
   "attachments": {},
   "cell_type": "markdown",
   "id": "d1dedadc",
   "metadata": {},
   "source": [
    "# Asking questions"
   ]
  },
  {
   "cell_type": "code",
   "execution_count": 6,
   "id": "b64d2763-223c-4aa5-ab39-54bc56b9e507",
   "metadata": {},
   "outputs": [],
   "source": [
    "fruits = ['apple', 'banana', 'pineapple', 'jackfruit']\n",
    "vegetables = ['celery', 'potato', 'broccoli', 'kale']"
   ]
  },
  {
   "cell_type": "code",
   "execution_count": 9,
   "id": "2d063979-fe88-4b65-9702-223f090cbd8b",
   "metadata": {},
   "outputs": [
    {
     "data": {
      "text/plain": [
       "True"
      ]
     },
     "execution_count": 9,
     "metadata": {},
     "output_type": "execute_result"
    }
   ],
   "source": [
    "'apple' in fruits # is apple IN 'fruits' list"
   ]
  },
  {
   "cell_type": "code",
   "execution_count": 10,
   "id": "4f8aaefa-ddc8-4dc6-81bf-4b1f12ee53eb",
   "metadata": {},
   "outputs": [
    {
     "data": {
      "text/plain": [
       "False"
      ]
     },
     "execution_count": 10,
     "metadata": {},
     "output_type": "execute_result"
    }
   ],
   "source": [
    "'peach' in fruits # is peach IN 'fruits' list"
   ]
  },
  {
   "cell_type": "code",
   "execution_count": 11,
   "id": "9bddce2f-6c86-45d1-a475-1bd86b7a0500",
   "metadata": {},
   "outputs": [
    {
     "data": {
      "text/plain": [
       "True"
      ]
     },
     "execution_count": 11,
     "metadata": {},
     "output_type": "execute_result"
    }
   ],
   "source": [
    "'peach' not in fruits # is peach NOT IN 'fruits' list"
   ]
  },
  {
   "cell_type": "code",
   "execution_count": 14,
   "id": "0d06a89c-332b-4695-8698-f6bcba64248f",
   "metadata": {},
   "outputs": [
    {
     "data": {
      "text/plain": [
       "True"
      ]
     },
     "execution_count": 14,
     "metadata": {},
     "output_type": "execute_result"
    }
   ],
   "source": [
    "('apple' in fruits) or ('kang kong' in vegetables) # is apple in 'fruits' OR celery in 'vegetables'"
   ]
  },
  {
   "cell_type": "code",
   "execution_count": 15,
   "id": "4854080c-fadf-4faa-8e68-4c49896011b6",
   "metadata": {},
   "outputs": [
    {
     "data": {
      "text/plain": [
       "False"
      ]
     },
     "execution_count": 15,
     "metadata": {},
     "output_type": "execute_result"
    }
   ],
   "source": [
    "('apple' in fruits) and ('kang kong' in vegetables) # is apple in 'fruits' AND celery in 'vegetables'"
   ]
  },
  {
   "cell_type": "code",
   "execution_count": 17,
   "id": "9f1dcd3b-4cf3-4f09-a329-d94f7cb41c1d",
   "metadata": {},
   "outputs": [
    {
     "data": {
      "text/plain": [
       "True"
      ]
     },
     "execution_count": 17,
     "metadata": {},
     "output_type": "execute_result"
    }
   ],
   "source": [
    "'ban' in 'banana' # is 'ban' IN 'banana'"
   ]
  },
  {
   "cell_type": "markdown",
   "id": "1692c7a4-1dfb-4970-b820-df7505f3622f",
   "metadata": {},
   "source": [
    "Use `not`, `in`, `or`, `and` to ask questions\n",
    "\n",
    "When asking, Python can only compare similar types i.e. numbers/English so you can compare 3 to 4 but not 3 to apple "
   ]
  },
  {
   "cell_type": "code",
   "execution_count": 18,
   "id": "6d6b1850-6638-4b2b-9d22-24fe2af48ef9",
   "metadata": {},
   "outputs": [
    {
     "data": {
      "text/plain": [
       "False"
      ]
     },
     "execution_count": 18,
     "metadata": {},
     "output_type": "execute_result"
    }
   ],
   "source": [
    "'apple' > 'banana'"
   ]
  },
  {
   "cell_type": "code",
   "execution_count": 19,
   "id": "0197a601-6e1b-4121-b82a-ac05dd8ba75f",
   "metadata": {},
   "outputs": [
    {
     "data": {
      "text/plain": [
       "True"
      ]
     },
     "execution_count": 19,
     "metadata": {},
     "output_type": "execute_result"
    }
   ],
   "source": [
    "'banana' > 'apple'"
   ]
  },
  {
   "cell_type": "markdown",
   "id": "6f44b79b-23f5-40d8-b3ea-5d988ea410e4",
   "metadata": {},
   "source": [
    "this works because english words are represented as **numbers** in code"
   ]
  },
  {
   "attachments": {},
   "cell_type": "markdown",
   "id": "dbf7357e",
   "metadata": {},
   "source": [
    "## Asking Math questions"
   ]
  },
  {
   "cell_type": "markdown",
   "id": "b2b66d46-6c4a-4ea9-ac9d-1dc9c568b20d",
   "metadata": {},
   "source": [
    "equal?: `==`\n",
    "\n",
    "not equal?: `!=`\n",
    "\n",
    "less than?: `<`\n",
    "\n",
    "greater than?: `>`\n",
    "\n",
    "less than or equal?: `<=`\n",
    "\n",
    "greater than or equal?: `>=`"
   ]
  },
  {
   "attachments": {},
   "cell_type": "markdown",
   "id": "184d513f",
   "metadata": {},
   "source": [
    "# Python stores information in different formats or types"
   ]
  },
  {
   "cell_type": "code",
   "execution_count": 1,
   "id": "5b17e26f-fb63-4dc8-9f02-7aaa0112836d",
   "metadata": {},
   "outputs": [
    {
     "name": "stdout",
     "output_type": "stream",
     "text": [
      "1 <class 'int'>\n"
     ]
    }
   ],
   "source": [
    "x = int(1.234)    # int() = integer (drops decimals)\n",
    "print(x, type(x)) "
   ]
  },
  {
   "cell_type": "code",
   "execution_count": 2,
   "id": "5fc17e6a-f6f8-45e8-8adb-4cef81ce5587",
   "metadata": {},
   "outputs": [
    {
     "name": "stdout",
     "output_type": "stream",
     "text": [
      "1.234 <class 'str'>\n"
     ]
    }
   ],
   "source": [
    "x = str(1.234)    # str() = string/English word\n",
    "print(x, type(x))"
   ]
  },
  {
   "cell_type": "code",
   "execution_count": 4,
   "id": "39bbedbe-31c7-4c24-a434-90b8dd15c0c7",
   "metadata": {},
   "outputs": [
    {
     "name": "stdout",
     "output_type": "stream",
     "text": [
      "1.234 <class 'float'>\n"
     ]
    }
   ],
   "source": [
    "x = float(1.234)  # float() = decimal number\n",
    "print(x, type(x))"
   ]
  },
  {
   "cell_type": "code",
   "execution_count": 8,
   "id": "19bef8b6-d6ea-408c-be81-7b3015f8e86b",
   "metadata": {},
   "outputs": [
    {
     "name": "stdout",
     "output_type": "stream",
     "text": [
      "(1.234+0j) <class 'complex'>\n"
     ]
    }
   ],
   "source": [
    "x = complex(1.234) # complex() = complex number (w/ imaginary component)\n",
    "print(x, type(x))"
   ]
  },
  {
   "cell_type": "markdown",
   "id": "b8b3d6e5-cae3-46ae-b90d-1ee4fa30ae8c",
   "metadata": {},
   "source": [
    "typecasting - changing the type of the variable "
   ]
  },
  {
   "attachments": {},
   "cell_type": "markdown",
   "id": "c6a52946",
   "metadata": {},
   "source": [
    "# 5 Never compare floats directly"
   ]
  },
  {
   "attachments": {},
   "cell_type": "markdown",
   "id": "41236fa5",
   "metadata": {},
   "source": [
    "## 5.1 The Problem"
   ]
  },
  {
   "attachments": {},
   "cell_type": "markdown",
   "id": "ec7aa60b",
   "metadata": {},
   "source": [
    "## 5.2 A solution"
   ]
  },
  {
   "attachments": {},
   "cell_type": "markdown",
   "id": "fde717ba",
   "metadata": {},
   "source": [
    "# 6 Combining English and variables"
   ]
  },
  {
   "attachments": {},
   "cell_type": "markdown",
   "id": "29979192",
   "metadata": {},
   "source": [
    "## 6.1 Structure of f-strings"
   ]
  },
  {
   "attachments": {},
   "cell_type": "markdown",
   "id": "2064e9c9",
   "metadata": {},
   "source": [
    "# 7 Escape sequences"
   ]
  },
  {
   "attachments": {},
   "cell_type": "markdown",
   "id": "d502684d",
   "metadata": {},
   "source": [
    "# 8 Computers read = from Right to Left!"
   ]
  },
  {
   "attachments": {},
   "cell_type": "markdown",
   "id": "29eff749",
   "metadata": {},
   "source": [
    "# 9 Shorter and Cleaner Code"
   ]
  },
  {
   "attachments": {},
   "cell_type": "markdown",
   "id": "d5e5e04d",
   "metadata": {},
   "source": [
    "# 10 Python can be a prima-donna."
   ]
  },
  {
   "attachments": {},
   "cell_type": "markdown",
   "id": "248c6dda",
   "metadata": {},
   "source": [
    "# 11 Best Practices for Scientific Computing"
   ]
  },
  {
   "attachments": {},
   "cell_type": "markdown",
   "id": "4208866d",
   "metadata": {},
   "source": [
    "# 12 Looking for help"
   ]
  },
  {
   "attachments": {},
   "cell_type": "markdown",
   "id": "ed7ac700",
   "metadata": {},
   "source": [
    "## References"
   ]
  },
  {
   "attachments": {},
   "cell_type": "markdown",
   "id": "b193598f",
   "metadata": {},
   "source": [
    "## Footnotes"
   ]
  }
 ],
 "metadata": {
  "kernelspec": {
   "display_name": "Python 3 (ipykernel)",
   "language": "python",
   "name": "python3"
  },
  "language_info": {
   "codemirror_mode": {
    "name": "ipython",
    "version": 3
   },
   "file_extension": ".py",
   "mimetype": "text/x-python",
   "name": "python",
   "nbconvert_exporter": "python",
   "pygments_lexer": "ipython3",
   "version": "3.11.5"
  },
  "toc": {
   "base_numbering": 1,
   "nav_menu": {},
   "number_sections": true,
   "sideBar": true,
   "skip_h1_title": false,
   "title_cell": "Table of Contents",
   "title_sidebar": "Contents",
   "toc_cell": false,
   "toc_position": {},
   "toc_section_display": true,
   "toc_window_display": false
  },
  "vscode": {
   "interpreter": {
    "hash": "31f2aee4e71d21fbe5cf8b01ff0e069b9275f58929596ceb00d14d90e3e16cd6"
   }
  }
 },
 "nbformat": 4,
 "nbformat_minor": 5
}

{
 "cells": [
  {
   "cell_type": "markdown",
   "id": "123456",
   "metadata": {},
   "source": [
    "<div style=\"text-align:left;font-size:2em\"><span style=\"font-weight:bolder;font-size:1.25em\">SP2273 | Learning Portfolio</span><br><br><span style=\"font-weight:bold;color:darkred\">Fundamentals (Need)</span></div>"
   ]
  },
  {
   "cell_type": "markdown",
   "id": "0959d409",
   "metadata": {},
   "source": [
    "# What to expect in this chapter"
   ]
  },
  {
   "cell_type": "markdown",
   "id": "283fb9dc",
   "metadata": {},
   "source": [
    "# 1 Functions"
   ]
  },
  {
   "cell_type": "markdown",
   "id": "643a176e",
   "metadata": {},
   "source": [
    "# 2 Remember"
   ]
  },
  {
   "cell_type": "markdown",
   "id": "e8cfe5ba",
   "metadata": {},
   "source": [
    "# 3 Python is interpreted"
   ]
  },
  {
   "cell_type": "markdown",
   "id": "10f3e999",
   "metadata": {},
   "source": [
    "# 4 Python is sensitive."
   ]
  },
  {
   "cell_type": "markdown",
   "id": "ed96f868",
   "metadata": {},
   "source": [
    "# 5 Remember"
   ]
  },
  {
   "cell_type": "markdown",
   "id": "91f75266",
   "metadata": {},
   "source": [
    "# 6 Comments"
   ]
  },
  {
   "cell_type": "markdown",
   "id": "25796e0d",
   "metadata": {},
   "source": [
    "# 7 Remember"
   ]
  },
  {
   "cell_type": "markdown",
   "id": "07207fae",
   "metadata": {},
   "source": [
    "# 8 = is not the same as =="
   ]
  },
  {
   "cell_type": "markdown",
   "id": "0d988b8c",
   "metadata": {},
   "source": [
    "# 9 Remember"
   ]
  },
  {
   "cell_type": "markdown",
   "id": "b9257918",
   "metadata": {},
   "source": [
    "# 10 Use if to make decisions"
   ]
  },
  {
   "cell_type": "code",
   "execution_count": 3,
   "id": "b299cfa3",
   "metadata": {},
   "outputs": [
    {
     "name": "stdout",
     "output_type": "stream",
     "text": [
      "hello keith!\n"
     ]
    }
   ],
   "source": [
    "name = 'keith'\n",
    "\n",
    "if name == 'keith':\n",
    "    print('hello keith!')\n",
    "else:\n",
    "    print('go away!')"
   ]
  },
  {
   "cell_type": "markdown",
   "id": "5a8d765a",
   "metadata": {},
   "source": [
    "# 11 Remember"
   ]
  },
  {
   "cell_type": "markdown",
   "id": "f4cea3dc",
   "metadata": {},
   "source": [
    "# 12 Indentations (spaces) are sooo IMPORTANT!"
   ]
  },
  {
   "cell_type": "markdown",
   "id": "b9ab3ac1",
   "metadata": {},
   "source": [
    "# 13 Remember"
   ]
  },
  {
   "cell_type": "markdown",
   "id": "99680376",
   "metadata": {},
   "source": [
    "# 14 ‘age’ is English, age is a variable."
   ]
  },
  {
   "cell_type": "code",
   "execution_count": 12,
   "id": "654a8ea0",
   "metadata": {},
   "outputs": [
    {
     "name": "stdout",
     "output_type": "stream",
     "text": [
      "60\n",
      "kg\n"
     ]
    }
   ],
   "source": [
    "weight = 60\n",
    "print(weight) \n",
    "print(\"kg\")"
   ]
  },
  {
   "cell_type": "markdown",
   "id": "776a2bf9",
   "metadata": {},
   "source": [
    "# 15 Brackets"
   ]
  },
  {
   "cell_type": "markdown",
   "id": "b764f8ae",
   "metadata": {},
   "source": [
    "# 16 Giving Python superpowers with Packages"
   ]
  },
  {
   "cell_type": "markdown",
   "id": "588853a2",
   "metadata": {},
   "source": [
    "## 16.1 Some Context"
   ]
  },
  {
   "cell_type": "code",
   "execution_count": 1,
   "id": "fb115e70",
   "metadata": {},
   "outputs": [
    {
     "data": {
      "text/plain": [
       "40.5"
      ]
     },
     "execution_count": 1,
     "metadata": {},
     "output_type": "execute_result"
    }
   ],
   "source": [
    "1 * ((2-3) + 4) ** 5 / 6"
   ]
  },
  {
   "cell_type": "markdown",
   "id": "c3d2cade",
   "metadata": {},
   "source": [
    "## 16.2 Importing the math package"
   ]
  },
  {
   "cell_type": "code",
   "execution_count": 4,
   "id": "708575bf",
   "metadata": {},
   "outputs": [
    {
     "data": {
      "text/plain": [
       "2.0"
      ]
     },
     "execution_count": 4,
     "metadata": {},
     "output_type": "execute_result"
    }
   ],
   "source": [
    "import math\n",
    "math.sqrt(4)"
   ]
  },
  {
   "cell_type": "markdown",
   "id": "7304e4ca",
   "metadata": {},
   "source": [
    "## 16.3 Importing the numpy package"
   ]
  },
  {
   "cell_type": "code",
   "execution_count": 5,
   "id": "036b69b4",
   "metadata": {},
   "outputs": [
    {
     "data": {
      "text/plain": [
       "2.0"
      ]
     },
     "execution_count": 5,
     "metadata": {},
     "output_type": "execute_result"
    }
   ],
   "source": [
    "import numpy as np\n",
    "np.sqrt(4)"
   ]
  },
  {
   "cell_type": "markdown",
   "id": "37486aa6",
   "metadata": {},
   "source": [
    "## 16.4 Why so many packages?"
   ]
  },
  {
   "cell_type": "code",
   "execution_count": 6,
   "id": "9a1d3efb",
   "metadata": {},
   "outputs": [
    {
     "data": {
      "text/plain": [
       "array([2., 3., 4.])"
      ]
     },
     "execution_count": 6,
     "metadata": {},
     "output_type": "execute_result"
    }
   ],
   "source": [
    "np.sqrt([4, 9, 16])"
   ]
  },
  {
   "cell_type": "markdown",
   "id": "cc5a8e21",
   "metadata": {},
   "source": [
    "# 17 Remember"
   ]
  },
  {
   "cell_type": "markdown",
   "id": "7b659f6b",
   "metadata": {},
   "source": [
    "# 18 The dot (.)"
   ]
  },
  {
   "cell_type": "markdown",
   "id": "63327625",
   "metadata": {},
   "source": [
    "# 19 Remember"
   ]
  },
  {
   "cell_type": "markdown",
   "id": "b0ceecf3",
   "metadata": {},
   "source": [
    "## Footnotes"
   ]
  }
 ],
 "metadata": {
  "kernelspec": {
   "display_name": "Python 3 (ipykernel)",
   "language": "python",
   "name": "python3"
  },
  "language_info": {
   "codemirror_mode": {
    "name": "ipython",
    "version": 3
   },
   "file_extension": ".py",
   "mimetype": "text/x-python",
   "name": "python",
   "nbconvert_exporter": "python",
   "pygments_lexer": "ipython3",
   "version": "3.11.5"
  },
  "toc": {
   "base_numbering": 1,
   "nav_menu": {},
   "number_sections": true,
   "sideBar": true,
   "skip_h1_title": false,
   "title_cell": "Table of Contents",
   "title_sidebar": "Contents",
   "toc_cell": false,
   "toc_position": {},
   "toc_section_display": true,
   "toc_window_display": false
  },
  "vscode": {
   "interpreter": {
    "hash": "31f2aee4e71d21fbe5cf8b01ff0e069b9275f58929596ceb00d14d90e3e16cd6"
   }
  }
 },
 "nbformat": 4,
 "nbformat_minor": 5
}

{
 "cells": [
  {
   "cell_type": "markdown",
   "id": "123456",
   "metadata": {},
   "source": [
    "<div style=\"text-align:left;font-size:2em\"><span style=\"font-weight:bolder;font-size:1.25em\">SP2273 | Learning Portfolio</span><br><br><span style=\"font-weight:bold;color:darkred\">Fundamentals (Need)</span></div>"
   ]
  },
  {
   "cell_type": "markdown",
   "id": "283fb9dc",
   "metadata": {},
   "source": [
    "# Functions"
   ]
  },
  {
   "cell_type": "code",
   "execution_count": 1,
   "id": "21235996-535b-4438-aa35-0a78e9f09b96",
   "metadata": {},
   "outputs": [
    {
     "name": "stdout",
     "output_type": "stream",
     "text": [
      "Hello world!\n"
     ]
    }
   ],
   "source": [
    "print('Hello world!')"
   ]
  },
  {
   "cell_type": "markdown",
   "id": "2ddc6d62-ad3c-4811-ada8-9d68406855ce",
   "metadata": {},
   "source": [
    "`print()` is a ***function***. \n",
    "*Functions* do a specific task.\n",
    "\n",
    "'Hello world!' is an ***argument*** \n",
    "\n",
    "`()` - Parentheses always follow a *function*, allowing us to pass *arguments* to the *functions*. It is left blank if the *function* doesn't require a *argument*.\n",
    "\n",
    "`print` is a core *function* of python but we can also define our own *functions*.\n",
    "\n",
    "the whole line above is a ***code*** "
   ]
  },
  {
   "cell_type": "markdown",
   "id": "e8cfe5ba",
   "metadata": {},
   "source": [
    "# Python is interpreted"
   ]
  },
  {
   "cell_type": "code",
   "execution_count": 2,
   "id": "65651127-fcc6-4496-a7d0-36cd920b7bdd",
   "metadata": {},
   "outputs": [
    {
     "name": "stdout",
     "output_type": "stream",
     "text": [
      "Hello World\n",
      "Hello World again\n"
     ]
    }
   ],
   "source": [
    "print('Hello World')\n",
    "print('Hello World again')"
   ]
  },
  {
   "cell_type": "markdown",
   "id": "e7ca67f7-1845-47cc-8d98-3c47bc277451",
   "metadata": {},
   "source": [
    "Python = Python *interpreter*\n",
    "\n",
    "*Intepreters* work sequentially, one command at a time\n",
    "i.e. `print('Hello World')` is interpreted first\n",
    "`print('Hello World again')` is interpreted next\n",
    "\n",
    "NOTE: the interpreter will stop and complain if the command it is currently executing has an error.\n"
   ]
  },
  {
   "cell_type": "markdown",
   "id": "10f3e999",
   "metadata": {},
   "source": [
    "# Python is sensitive."
   ]
  },
  {
   "cell_type": "code",
   "execution_count": 3,
   "id": "0125867f-a4fd-49ac-b826-107ef3ee0ccd",
   "metadata": {},
   "outputs": [
    {
     "name": "stdout",
     "output_type": "stream",
     "text": [
      "Hello world\n"
     ]
    }
   ],
   "source": [
    "print('Hello world')"
   ]
  },
  {
   "cell_type": "code",
   "execution_count": 4,
   "id": "e033c9da-6a85-469e-b962-921f81f6c043",
   "metadata": {},
   "outputs": [
    {
     "ename": "NameError",
     "evalue": "name 'Print' is not defined",
     "output_type": "error",
     "traceback": [
      "\u001b[0;31m---------------------------------------------------------------------------\u001b[0m",
      "\u001b[0;31mNameError\u001b[0m                                 Traceback (most recent call last)",
      "Cell \u001b[0;32mIn[4], line 1\u001b[0m\n\u001b[0;32m----> 1\u001b[0m Print(\u001b[38;5;124m'\u001b[39m\u001b[38;5;124mHello World\u001b[39m\u001b[38;5;124m'\u001b[39m)\n",
      "\u001b[0;31mNameError\u001b[0m: name 'Print' is not defined"
     ]
    }
   ],
   "source": [
    "Print('Hello World')"
   ]
  },
  {
   "cell_type": "markdown",
   "id": "262a087a-ce60-4022-a57f-cbddc850b868",
   "metadata": {},
   "source": [
    "Python is case-sensitive so that's why `print()` works and `Print()` will not work!"
   ]
  },
  {
   "cell_type": "markdown",
   "id": "91f75266",
   "metadata": {},
   "source": [
    "# Comments"
   ]
  },
  {
   "cell_type": "code",
   "execution_count": 5,
   "id": "83b9ffd3-3b40-4c66-bfb3-20d46ea2d559",
   "metadata": {},
   "outputs": [
    {
     "name": "stdout",
     "output_type": "stream",
     "text": [
      "One\n",
      "Three\n"
     ]
    }
   ],
   "source": [
    "# This is a comment\n",
    "print('One')              # This is a comment.\n",
    "# print('Two')            # The interpreter ignores this line.\n",
    "print('Three')            # This is\n",
    "                          # also a way to\n",
    "                          # write comments"
   ]
  },
  {
   "cell_type": "markdown",
   "id": "c94c6b32-fb23-4ea4-8eb3-4c580cd56fdc",
   "metadata": {},
   "source": [
    "Use `#` to write *comments* in the code which will be ignored by Python\n",
    "Aything between `#` and the end of the line is a *comment*\n",
    "\n",
    "**DO NOT** write unecessary comments as it creates clutter and hinders the readability of the code, rather use the comments to help you understand the **purpose** of the code. "
   ]
  },
  {
   "cell_type": "markdown",
   "id": "07207fae",
   "metadata": {},
   "source": [
    "# = is not the same as =="
   ]
  },
  {
   "cell_type": "code",
   "execution_count": 6,
   "id": "c64c378e-7e51-43b0-a80e-4739142f8e26",
   "metadata": {},
   "outputs": [],
   "source": [
    "name = 'Batman'   # Make name carry 'Batman'"
   ]
  },
  {
   "cell_type": "code",
   "execution_count": 7,
   "id": "ef2409d7-5bb7-4903-9446-df75dc3641ce",
   "metadata": {},
   "outputs": [
    {
     "data": {
      "text/plain": [
       "True"
      ]
     },
     "execution_count": 7,
     "metadata": {},
     "output_type": "execute_result"
    }
   ],
   "source": [
    "name == 'Batman'  # Tell me if name is equal to 'Batman'?\n",
    "                  # Answer:  True or False"
   ]
  },
  {
   "cell_type": "code",
   "execution_count": 8,
   "id": "0cc0d7a7-06c4-4225-9cda-5f1a40618695",
   "metadata": {},
   "outputs": [],
   "source": [
    "name = 'Robin'"
   ]
  },
  {
   "cell_type": "code",
   "execution_count": 9,
   "id": "da95bf4c-35d3-4c96-a810-54a62641ba35",
   "metadata": {},
   "outputs": [
    {
     "data": {
      "text/plain": [
       "False"
      ]
     },
     "execution_count": 9,
     "metadata": {},
     "output_type": "execute_result"
    }
   ],
   "source": [
    "name == 'Batman'"
   ]
  },
  {
   "cell_type": "markdown",
   "id": "a8d076d0-5b3e-417a-b66a-c819361039d2",
   "metadata": {},
   "source": [
    "`=` is used to set something (i.e. name) equal\n",
    "\n",
    "`==` is used to check if something (i.e. name) is equal"
   ]
  },
  {
   "cell_type": "markdown",
   "id": "b9257918",
   "metadata": {},
   "source": [
    "# Use if to make decisions"
   ]
  },
  {
   "cell_type": "code",
   "execution_count": 3,
   "id": "b299cfa3",
   "metadata": {},
   "outputs": [
    {
     "name": "stdout",
     "output_type": "stream",
     "text": [
      "hello keith!\n"
     ]
    }
   ],
   "source": [
    "name = 'keith'\n",
    "\n",
    "if name == 'keith':\n",
    "    print('hello keith!')\n",
    "else:\n",
    "    print('go away!')"
   ]
  },
  {
   "cell_type": "code",
   "execution_count": 10,
   "id": "a6768a9e-985f-4477-b40e-80d4ea212b60",
   "metadata": {},
   "outputs": [
    {
     "name": "stdout",
     "output_type": "stream",
     "text": [
      "go away!\n"
     ]
    }
   ],
   "source": [
    "name = 'chua'\n",
    "\n",
    "if name == 'keith':\n",
    "    print('hello keith!')\n",
    "else:\n",
    "    print('go away!')"
   ]
  },
  {
   "cell_type": "markdown",
   "id": "eb6aa974-d212-40fb-a09b-989a113115ad",
   "metadata": {},
   "source": [
    "using `if` asks a question/tests a condition\n",
    "- does something if the answer is True\n",
    "- does something else if the answer is False\n",
    "\n",
    "make sure to use `:` and indentations (spaces or tabs) to define the command properly.  "
   ]
  },
  {
   "cell_type": "markdown",
   "id": "f4cea3dc",
   "metadata": {},
   "source": [
    "# Indentations (spaces) are sooo IMPORTANT!"
   ]
  },
  {
   "cell_type": "code",
   "execution_count": 11,
   "id": "b75f0210-374d-4d1e-97c4-77b0b923c8ee",
   "metadata": {},
   "outputs": [
    {
     "name": "stdout",
     "output_type": "stream",
     "text": [
      "10\n"
     ]
    }
   ],
   "source": [
    "x = 10\n",
    "print(x)"
   ]
  },
  {
   "cell_type": "code",
   "execution_count": 12,
   "id": "7c0c6b15-7ebd-4db2-a1f1-7d17e5f6d44e",
   "metadata": {},
   "outputs": [
    {
     "ename": "IndentationError",
     "evalue": "unexpected indent (1537435392.py, line 2)",
     "output_type": "error",
     "traceback": [
      "\u001b[0;36m  Cell \u001b[0;32mIn[12], line 2\u001b[0;36m\u001b[0m\n\u001b[0;31m    print(x)\u001b[0m\n\u001b[0m    ^\u001b[0m\n\u001b[0;31mIndentationError\u001b[0m\u001b[0;31m:\u001b[0m unexpected indent\n"
     ]
    }
   ],
   "source": [
    "x = 10\n",
    " print(x)"
   ]
  },
  {
   "cell_type": "markdown",
   "id": "81576aa5-e4ed-4d90-8226-287d9d9a6ccd",
   "metadata": {},
   "source": [
    "The above shows the 'unexpected indent' error because **identation are to separate True and False 'blocks' in python** so must be careful of when/when not to use indentations. "
   ]
  },
  {
   "cell_type": "markdown",
   "id": "99680376",
   "metadata": {},
   "source": [
    "# ‘age’ is English, age is a variable."
   ]
  },
  {
   "cell_type": "code",
   "execution_count": 19,
   "id": "654a8ea0",
   "metadata": {},
   "outputs": [
    {
     "name": "stdout",
     "output_type": "stream",
     "text": [
      "12\n",
      "student_age\n"
     ]
    }
   ],
   "source": [
    "student_age = 12\n",
    "print(student_age) \n",
    "print('student_age')"
   ]
  },
  {
   "cell_type": "markdown",
   "id": "e6f6c3c5-d901-4197-920b-2754ca601463",
   "metadata": {},
   "source": [
    "***variables*** hold information and you can give the variable a name and store data inside it i.e. student age\n",
    "\n",
    "`student_age` is a variable while `\"student_age\"` is English.\n",
    "\n",
    "Variables must be *assigned a value* if not `print()` function will encounter an error\n",
    "\n",
    "for English, `''` or `\"\"` can be used as long as they are matching"
   ]
  },
  {
   "cell_type": "markdown",
   "id": "776a2bf9",
   "metadata": {},
   "source": [
    "# Brackets"
   ]
  },
  {
   "cell_type": "markdown",
   "id": "81e49a1c-66b3-4cb0-bdc4-a88aae86b078",
   "metadata": {},
   "source": [
    "`()` is used for functions and math"
   ]
  },
  {
   "cell_type": "code",
   "execution_count": 20,
   "id": "6e22c514-d216-410d-8af5-90d4e1aec9a5",
   "metadata": {},
   "outputs": [
    {
     "name": "stdout",
     "output_type": "stream",
     "text": [
      "Hello!\n"
     ]
    }
   ],
   "source": [
    "print('Hello!') # functions"
   ]
  },
  {
   "cell_type": "code",
   "execution_count": 23,
   "id": "9e76f768-ac26-4bca-ba82-cb91ae97246d",
   "metadata": {},
   "outputs": [
    {
     "data": {
      "text/plain": [
       "15"
      ]
     },
     "execution_count": 23,
     "metadata": {},
     "output_type": "execute_result"
    }
   ],
   "source": [
    "(1+2)*5         # math"
   ]
  },
  {
   "cell_type": "markdown",
   "id": "84d4009d-0508-4535-8a16-0079c55699cc",
   "metadata": {},
   "source": [
    "`[]` is used for lists of data"
   ]
  },
  {
   "cell_type": "code",
   "execution_count": 25,
   "id": "62949c55-3418-4656-92aa-28d7a1cf4721",
   "metadata": {},
   "outputs": [],
   "source": [
    "py_list = [1, 2, 3, 4, 5]   # A 1D list\n",
    "\n",
    "py_list_2 = [               # A 2D list\n",
    "                [1, \"A\"],      \n",
    "                [2, \"B\"],\n",
    "                [3, \"C\"],\n",
    "                [4, \"D\"],\n",
    "                [5, \"E\"]\n",
    "            ]"
   ]
  },
  {
   "cell_type": "markdown",
   "id": "4d3f2802-6473-4185-ab97-ea15f23bd8b5",
   "metadata": {},
   "source": [
    "`{}` is used to store data in a dictionary"
   ]
  },
  {
   "cell_type": "code",
   "execution_count": 26,
   "id": "515e7b0b-db74-494d-ae56-e5f778c0afe2",
   "metadata": {},
   "outputs": [],
   "source": [
    "personal_info = {\n",
    "    'Name': 'Batman',\n",
    "    'Real Name': 'Bruce Wayne',\n",
    "    'Age': 55,\n",
    "    'Affiliation': 'Justice League',\n",
    "    'Universe': 'DC'\n",
    "}"
   ]
  },
  {
   "cell_type": "markdown",
   "id": "346ece82-be61-4227-9d78-519143d5663d",
   "metadata": {},
   "source": [
    "dictionary uses a **key** to identify a **value**\n",
    "\n",
    "keys: Name, Real Name, Age, Affliation, Universe\n",
    "values: Batman, Bruce Wayne, 55, Justice League, DC\n",
    "\n",
    "this helps to store data and quickly access information\n"
   ]
  },
  {
   "cell_type": "code",
   "execution_count": 28,
   "id": "8fef1690-7c3c-461e-8440-1c9c908fc9af",
   "metadata": {},
   "outputs": [
    {
     "name": "stdout",
     "output_type": "stream",
     "text": [
      "Bruce Wayne\n"
     ]
    }
   ],
   "source": [
    "print(personal_info['Real Name']) "
   ]
  },
  {
   "cell_type": "markdown",
   "id": "b764f8ae",
   "metadata": {},
   "source": [
    "# Giving Python superpowers with Packages"
   ]
  },
  {
   "cell_type": "markdown",
   "id": "588853a2",
   "metadata": {},
   "source": [
    "## Some Context"
   ]
  },
  {
   "cell_type": "code",
   "execution_count": 29,
   "id": "fb115e70",
   "metadata": {},
   "outputs": [
    {
     "data": {
      "text/plain": [
       "40.5"
      ]
     },
     "execution_count": 29,
     "metadata": {},
     "output_type": "execute_result"
    }
   ],
   "source": [
    "1 * ((2-3) + 4) ** 5 / 6 # simple math is ok!"
   ]
  },
  {
   "cell_type": "code",
   "execution_count": 31,
   "id": "e268e213-f8e1-492b-9dc9-f65eb2858301",
   "metadata": {},
   "outputs": [
    {
     "ename": "NameError",
     "evalue": "name 'sqrt' is not defined",
     "output_type": "error",
     "traceback": [
      "\u001b[0;31m---------------------------------------------------------------------------\u001b[0m",
      "\u001b[0;31mNameError\u001b[0m                                 Traceback (most recent call last)",
      "Cell \u001b[0;32mIn[31], line 1\u001b[0m\n\u001b[0;32m----> 1\u001b[0m sqrt(\u001b[38;5;241m4\u001b[39m)\n",
      "\u001b[0;31mNameError\u001b[0m: name 'sqrt' is not defined"
     ]
    }
   ],
   "source": [
    "sqrt(4) # doesn't work because math functions in Python is limited"
   ]
  },
  {
   "cell_type": "markdown",
   "id": "e5ac4b96-f92a-44c7-be3d-0b2ec3270e1b",
   "metadata": {},
   "source": [
    "BUT, there can be more functions given to python by using packages"
   ]
  },
  {
   "cell_type": "markdown",
   "id": "c3d2cade",
   "metadata": {},
   "source": [
    "##  Importing the math package"
   ]
  },
  {
   "cell_type": "code",
   "execution_count": 35,
   "id": "708575bf",
   "metadata": {},
   "outputs": [
    {
     "data": {
      "text/plain": [
       "2.0"
      ]
     },
     "execution_count": 35,
     "metadata": {},
     "output_type": "execute_result"
    }
   ],
   "source": [
    "import math # adding functions of 'math' package\n",
    "math.sqrt(4) # use the package's sqrt function "
   ]
  },
  {
   "cell_type": "markdown",
   "id": "7304e4ca",
   "metadata": {},
   "source": [
    "## Importing the numpy package"
   ]
  },
  {
   "cell_type": "code",
   "execution_count": 32,
   "id": "036b69b4",
   "metadata": {},
   "outputs": [
    {
     "data": {
      "text/plain": [
       "2.0"
      ]
     },
     "execution_count": 32,
     "metadata": {},
     "output_type": "execute_result"
    }
   ],
   "source": [
    "import numpy as np # give 'numpy' package 'np' alias so can use 'np' instead of 'numpy'\n",
    "np.sqrt(4) # numpy's square root function"
   ]
  },
  {
   "cell_type": "markdown",
   "id": "37486aa6",
   "metadata": {},
   "source": [
    "## Why so many packages?"
   ]
  },
  {
   "cell_type": "code",
   "execution_count": 33,
   "id": "9a1d3efb",
   "metadata": {},
   "outputs": [
    {
     "data": {
      "text/plain": [
       "array([2., 3., 4.])"
      ]
     },
     "execution_count": 33,
     "metadata": {},
     "output_type": "execute_result"
    }
   ],
   "source": [
    "np.sqrt([4, 9, 16]) # numpy package can handle this while math package cannot"
   ]
  },
  {
   "cell_type": "markdown",
   "id": "2d126365-be51-4eb4-a7d4-f9a1d968d38e",
   "metadata": {},
   "source": [
    "NOTE: packages will be remembered until the Python interpreter is restarted"
   ]
  },
  {
   "cell_type": "markdown",
   "id": "7b659f6b",
   "metadata": {},
   "source": [
    "# The dot (.)"
   ]
  },
  {
   "cell_type": "markdown",
   "id": "0120eaa6-99cf-4466-a038-b8c13686e141",
   "metadata": {},
   "source": [
    "The dot \"`.`\" indicates ownership \n",
    "\n",
    "i.e. indicating which package the function belongs to "
   ]
  },
  {
   "cell_type": "code",
   "execution_count": 36,
   "id": "6140c618-9fd9-4919-9e36-bddaf9ae4e7c",
   "metadata": {},
   "outputs": [
    {
     "data": {
      "text/plain": [
       "2.0"
      ]
     },
     "execution_count": 36,
     "metadata": {},
     "output_type": "execute_result"
    }
   ],
   "source": [
    "math.sqrt(4) # belongs to math package\n",
    "np.sqrt(4)   # belongs to numpy package"
   ]
  }
 ],
 "metadata": {
  "kernelspec": {
   "display_name": "Python 3 (ipykernel)",
   "language": "python",
   "name": "python3"
  },
  "language_info": {
   "codemirror_mode": {
    "name": "ipython",
    "version": 3
   },
   "file_extension": ".py",
   "mimetype": "text/x-python",
   "name": "python",
   "nbconvert_exporter": "python",
   "pygments_lexer": "ipython3",
   "version": "3.11.5"
  },
  "toc": {
   "base_numbering": 1,
   "nav_menu": {},
   "number_sections": true,
   "sideBar": true,
   "skip_h1_title": false,
   "title_cell": "Table of Contents",
   "title_sidebar": "Contents",
   "toc_cell": false,
   "toc_position": {},
   "toc_section_display": true,
   "toc_window_display": false
  },
  "vscode": {
   "interpreter": {
    "hash": "31f2aee4e71d21fbe5cf8b01ff0e069b9275f58929596ceb00d14d90e3e16cd6"
   }
  }
 },
 "nbformat": 4,
 "nbformat_minor": 5
}

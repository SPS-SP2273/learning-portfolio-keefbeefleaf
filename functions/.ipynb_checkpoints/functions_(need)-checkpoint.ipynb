{
 "cells": [
  {
   "cell_type": "markdown",
   "id": "123456",
   "metadata": {},
   "source": [
    "<div style=\"text-align:left;font-size:2em\"><span style=\"font-weight:bolder;font-size:1.25em\">SP2273 | Learning Portfolio</span><br><br><span style=\"font-weight:bold;color:darkred\">Functions (Need)</span></div>"
   ]
  },
  {
   "cell_type": "markdown",
   "id": "99897dd8",
   "metadata": {},
   "source": [
    "# User-defined functions"
   ]
  },
  {
   "cell_type": "markdown",
   "id": "a053517d-5889-4a95-aa2a-52177cce25cd",
   "metadata": {},
   "source": [
    "Other than internal functions in python, you can create your own functions."
   ]
  },
  {
   "cell_type": "markdown",
   "id": "4f10aafb",
   "metadata": {},
   "source": [
    "## Named Functions"
   ]
  },
  {
   "cell_type": "markdown",
   "id": "d7b0ab54",
   "metadata": {},
   "source": [
    "### Named functions that return"
   ]
  },
  {
   "cell_type": "code",
   "execution_count": 1,
   "id": "d89274ab-9782-4853-8674-5c536428b755",
   "metadata": {},
   "outputs": [],
   "source": [
    "def greeting(name):\n",
    "    if name == 'lippydippy':\n",
    "        return 'Welcome back Eater of Worlds!'\n",
    "    else:\n",
    "        return f'{name}, go away you normie!'"
   ]
  },
  {
   "cell_type": "code",
   "execution_count": 3,
   "id": "0f2f798f-12d0-4193-b9a6-e30109681966",
   "metadata": {},
   "outputs": [
    {
     "data": {
      "text/plain": [
       "'keith, go away you normie!'"
      ]
     },
     "execution_count": 3,
     "metadata": {},
     "output_type": "execute_result"
    }
   ],
   "source": [
    "greeting(\"keith\")"
   ]
  },
  {
   "cell_type": "code",
   "execution_count": 5,
   "id": "fda9d22a-c88f-4ecb-9e21-6e5063fcb4bb",
   "metadata": {},
   "outputs": [
    {
     "data": {
      "text/plain": [
       "'Welcome back Eater of Worlds!'"
      ]
     },
     "execution_count": 5,
     "metadata": {},
     "output_type": "execute_result"
    }
   ],
   "source": [
    "greeting(name=\"lippydippy\")"
   ]
  },
  {
   "cell_type": "markdown",
   "id": "89d9a7a1-0afb-4300-a39b-ead57c85e0b8",
   "metadata": {},
   "source": [
    "`return` gives an output from the function - python jumps out of the function with the return value. \n",
    "\n",
    "can pick up the returned value by asigning it to a variable or use it directly:"
   ]
  },
  {
   "cell_type": "code",
   "execution_count": 6,
   "id": "c6aefcfa-4c01-4642-b475-a9687df90570",
   "metadata": {},
   "outputs": [
    {
     "name": "stdout",
     "output_type": "stream",
     "text": [
      "Welcome back Eater of Worlds!\n"
     ]
    }
   ],
   "source": [
    "greet=greeting('lippydippy')\n",
    "print(greet)"
   ]
  },
  {
   "cell_type": "code",
   "execution_count": 7,
   "id": "7822d853-48dd-4e87-84a2-0b8585d04305",
   "metadata": {},
   "outputs": [
    {
     "name": "stdout",
     "output_type": "stream",
     "text": [
      "keith, go away you normie!\n"
     ]
    }
   ],
   "source": [
    "print(greeting('keith'))"
   ]
  },
  {
   "cell_type": "markdown",
   "id": "e4c7d57f-ff17-4dc4-aad3-f21018305d5b",
   "metadata": {},
   "source": [
    "NOTE: `return` can only be used within a function.\n",
    "\n",
    "`return` can return almost anything, example:"
   ]
  },
  {
   "cell_type": "code",
   "execution_count": 20,
   "id": "443ad884-8c9b-4ecf-b353-dde689d18ed9",
   "metadata": {},
   "outputs": [],
   "source": [
    "import numpy as np\n",
    "def basic_stats(numbers):                 # define the function\n",
    "    np_numbers = np.array(numbers)       \n",
    "    my_min = np_numbers.min()\n",
    "    my_max = np_numbers.max()\n",
    "    my_mean = np_numbers.mean()\n",
    "    return my_max, my_min, my_mean        # function gives this output when used"
   ]
  },
  {
   "cell_type": "code",
   "execution_count": 19,
   "id": "82d3dd5d-fb57-432d-bc47-6230aa8de0df",
   "metadata": {},
   "outputs": [
    {
     "name": "stdout",
     "output_type": "stream",
     "text": [
      "5 1 3.0\n"
     ]
    }
   ],
   "source": [
    "list_min, list_max, list_mean = basic_stats([1, 2, 3, 4, 5])\n",
    "print(list_min, list_max, list_mean)"
   ]
  },
  {
   "cell_type": "markdown",
   "id": "d36a766d",
   "metadata": {},
   "source": [
    "### Named functions that don’t return"
   ]
  },
  {
   "cell_type": "markdown",
   "id": "77971277-1cae-45a4-b258-2c3e6fabfb52",
   "metadata": {},
   "source": [
    "Functions don't always need to `return` something i.e. `print()`"
   ]
  },
  {
   "cell_type": "code",
   "execution_count": 21,
   "id": "82317e97-2315-4123-8b35-127c4c756cb7",
   "metadata": {},
   "outputs": [],
   "source": [
    "def greeting(name):\n",
    "    if name == 'lippydippy':\n",
    "        print('Welcome back Eater of Worlds!')\n",
    "    else:\n",
    "        print(f'{name}, go away you normie!')"
   ]
  },
  {
   "cell_type": "code",
   "execution_count": 23,
   "id": "13d8bce4-3d30-492b-a5fe-7f5d21c9547a",
   "metadata": {},
   "outputs": [
    {
     "name": "stdout",
     "output_type": "stream",
     "text": [
      "Welcome back Eater of Worlds!\n"
     ]
    }
   ],
   "source": [
    "greeting('lippydippy')"
   ]
  },
  {
   "cell_type": "code",
   "execution_count": 24,
   "id": "c5c96687-eb29-42e7-a819-80e7758f8162",
   "metadata": {},
   "outputs": [
    {
     "name": "stdout",
     "output_type": "stream",
     "text": [
      "keith, go away you normie!\n"
     ]
    }
   ],
   "source": [
    "greeting('keith')"
   ]
  },
  {
   "cell_type": "markdown",
   "id": "22f9d35e",
   "metadata": {},
   "source": [
    "## Anonymous functions"
   ]
  },
  {
   "cell_type": "code",
   "execution_count": 25,
   "id": "a1d0e8ac-d60f-4670-80b4-6bb973df285c",
   "metadata": {},
   "outputs": [],
   "source": [
    "my_short_function = lambda name: f\"Hello {name}!\""
   ]
  },
  {
   "cell_type": "code",
   "execution_count": 26,
   "id": "7b6b46c8-40e4-44cd-9b42-927165600c58",
   "metadata": {},
   "outputs": [
    {
     "data": {
      "text/plain": [
       "'Hello Super Man!'"
      ]
     },
     "execution_count": 26,
     "metadata": {},
     "output_type": "execute_result"
    }
   ],
   "source": [
    "my_short_function(name=\"Super Man\")"
   ]
  },
  {
   "cell_type": "markdown",
   "id": "ebfaf2bc-2847-4a3a-9e22-9f7ba35375af",
   "metadata": {},
   "source": [
    "NOTE: `lambda` returns the value of the last statement"
   ]
  },
  {
   "cell_type": "code",
   "execution_count": 27,
   "id": "347aac6f-ac71-4ae6-8fae-f1c9cd2be897",
   "metadata": {},
   "outputs": [],
   "source": [
    "numbers=[[9, 0, -10],\n",
    "         [8, 1, -11],\n",
    "         [7, 2, -12],\n",
    "         [6, 3, -13],\n",
    "         [5, 4, -14],\n",
    "         [4, 5, -15],\n",
    "         [3, 6, -16],\n",
    "         [2, 7, -17],\n",
    "         [1, 8, -18],\n",
    "         [0, 9, -19]]"
   ]
  },
  {
   "cell_type": "code",
   "execution_count": 29,
   "id": "55088cf9-4729-472f-a284-a836674229cf",
   "metadata": {},
   "outputs": [
    {
     "data": {
      "text/plain": [
       "[[0, 9, -19],\n",
       " [1, 8, -18],\n",
       " [2, 7, -17],\n",
       " [3, 6, -16],\n",
       " [4, 5, -15],\n",
       " [5, 4, -14],\n",
       " [6, 3, -13],\n",
       " [7, 2, -12],\n",
       " [8, 1, -11],\n",
       " [9, 0, -10]]"
      ]
     },
     "execution_count": 29,
     "metadata": {},
     "output_type": "execute_result"
    }
   ],
   "source": [
    "sorted(numbers)   # sorts based on first element in ascending order"
   ]
  },
  {
   "cell_type": "code",
   "execution_count": 30,
   "id": "8d3130e2-4b41-4df9-a1f6-f1efbb5314b7",
   "metadata": {},
   "outputs": [
    {
     "data": {
      "text/plain": [
       "[[9, 0, -10],\n",
       " [8, 1, -11],\n",
       " [7, 2, -12],\n",
       " [6, 3, -13],\n",
       " [5, 4, -14],\n",
       " [4, 5, -15],\n",
       " [3, 6, -16],\n",
       " [2, 7, -17],\n",
       " [1, 8, -18],\n",
       " [0, 9, -19]]"
      ]
     },
     "execution_count": 30,
     "metadata": {},
     "output_type": "execute_result"
    }
   ],
   "source": [
    "sorted(numbers, key=lambda x:x[1])   # sorts based on key given (second element)"
   ]
  },
  {
   "cell_type": "code",
   "execution_count": 32,
   "id": "b493f60d-0f33-4a4a-9deb-92b0fbf36acd",
   "metadata": {},
   "outputs": [
    {
     "data": {
      "text/plain": [
       "[[0, 9, -19],\n",
       " [1, 8, -18],\n",
       " [2, 7, -17],\n",
       " [3, 6, -16],\n",
       " [4, 5, -15],\n",
       " [5, 4, -14],\n",
       " [6, 3, -13],\n",
       " [7, 2, -12],\n",
       " [8, 1, -11],\n",
       " [9, 0, -10]]"
      ]
     },
     "execution_count": 32,
     "metadata": {},
     "output_type": "execute_result"
    }
   ],
   "source": [
    "sorted(numbers, key=lambda x: sum(x))  # sorts based on sum of elements "
   ]
  },
  {
   "cell_type": "markdown",
   "id": "e89b9f49",
   "metadata": {},
   "source": [
    "## Optional arguments"
   ]
  },
  {
   "cell_type": "markdown",
   "id": "c85c5166-5ca0-4631-a383-d5a5f10be58a",
   "metadata": {},
   "source": [
    "Python can make arguments of our function optional. Give the argument a default value first:"
   ]
  },
  {
   "cell_type": "code",
   "execution_count": 33,
   "id": "87decbba-ddd7-460d-9a95-f003e2b79241",
   "metadata": {},
   "outputs": [],
   "source": [
    "def greeting(name='no one'):\n",
    "    if name == 'Batman':\n",
    "        return 'Hello Batman! So, nice to meet you!'\n",
    "    else:\n",
    "        return f'Hello {name}!'"
   ]
  },
  {
   "cell_type": "code",
   "execution_count": 34,
   "id": "803bde0b-7d11-4707-9d62-95b1b8e9b6e6",
   "metadata": {},
   "outputs": [
    {
     "data": {
      "text/plain": [
       "'Hello no one!'"
      ]
     },
     "execution_count": 34,
     "metadata": {},
     "output_type": "execute_result"
    }
   ],
   "source": [
    "greeting()"
   ]
  },
  {
   "cell_type": "code",
   "execution_count": 35,
   "id": "8524c70e-38fa-4ae3-9953-f10d72777eb6",
   "metadata": {},
   "outputs": [
    {
     "data": {
      "text/plain": [
       "\u001b[0;31mSignature:\u001b[0m \u001b[0mprint\u001b[0m\u001b[0;34m(\u001b[0m\u001b[0;34m*\u001b[0m\u001b[0margs\u001b[0m\u001b[0;34m,\u001b[0m \u001b[0msep\u001b[0m\u001b[0;34m=\u001b[0m\u001b[0;34m' '\u001b[0m\u001b[0;34m,\u001b[0m \u001b[0mend\u001b[0m\u001b[0;34m=\u001b[0m\u001b[0;34m'\\n'\u001b[0m\u001b[0;34m,\u001b[0m \u001b[0mfile\u001b[0m\u001b[0;34m=\u001b[0m\u001b[0;32mNone\u001b[0m\u001b[0;34m,\u001b[0m \u001b[0mflush\u001b[0m\u001b[0;34m=\u001b[0m\u001b[0;32mFalse\u001b[0m\u001b[0;34m)\u001b[0m\u001b[0;34m\u001b[0m\u001b[0;34m\u001b[0m\u001b[0m\n",
       "\u001b[0;31mDocstring:\u001b[0m\n",
       "Prints the values to a stream, or to sys.stdout by default.\n",
       "\n",
       "sep\n",
       "  string inserted between values, default a space.\n",
       "end\n",
       "  string appended after the last value, default a newline.\n",
       "file\n",
       "  a file-like object (stream); defaults to the current sys.stdout.\n",
       "flush\n",
       "  whether to forcibly flush the stream.\n",
       "\u001b[0;31mType:\u001b[0m      builtin_function_or_method"
      ]
     },
     "metadata": {},
     "output_type": "display_data"
    }
   ],
   "source": [
    "?print"
   ]
  },
  {
   "cell_type": "markdown",
   "id": "7aa48424-413e-4d92-b191-02f37a232a1d",
   "metadata": {},
   "source": [
    "^ can see that `print()` can accept other arguments that are optional with default values"
   ]
  },
  {
   "cell_type": "code",
   "execution_count": 36,
   "id": "0550e3eb-d2cc-4419-a30d-3e9f374ae138",
   "metadata": {},
   "outputs": [
    {
     "name": "stdout",
     "output_type": "stream",
     "text": [
      "I am Batman!\n"
     ]
    }
   ],
   "source": [
    "print ('I', 'am', 'Batman!')   # using default values"
   ]
  },
  {
   "cell_type": "code",
   "execution_count": 37,
   "id": "ba8b98f8-1c28-4a93-9916-94548651361a",
   "metadata": {},
   "outputs": [
    {
     "name": "stdout",
     "output_type": "stream",
     "text": [
      "I---am---Batman!\n"
     ]
    }
   ],
   "source": [
    "print ('I', 'am', 'Batman!', sep='---')   # specififying optional argument \n",
    "                                          # ('---' inserted between arguments)\n"
   ]
  },
  {
   "cell_type": "markdown",
   "id": "e7c88a1d",
   "metadata": {},
   "source": [
    "## The importance of functions?"
   ]
  },
  {
   "cell_type": "markdown",
   "id": "7a998bf8",
   "metadata": {},
   "source": [
    "### An argument for functions"
   ]
  },
  {
   "cell_type": "markdown",
   "id": "6612608c-8fc0-4c88-a50a-c5382d794044",
   "metadata": {},
   "source": [
    "1. Abstraction of details\n",
    "- break up complicated solution into modular chunks\n",
    "- allows us to not be distracted by unecessary information\n",
    "- hiding of 'stuff' = abstraction\n",
    "2. Reusability of code\n",
    "- don't need to keepy copy and pasting code at different places\n",
    "- make your code shorter and more compact\n",
    "3. Maintainability of code\n",
    "- code is easier to change and maintain as you only make changes in one place"
   ]
  },
  {
   "cell_type": "markdown",
   "id": "02708b9b",
   "metadata": {},
   "source": [
    "### A word of caution"
   ]
  },
  {
   "cell_type": "markdown",
   "id": "efc306a9-c1cd-482b-9018-1ef067ab840f",
   "metadata": {},
   "source": [
    "DON'T:\n",
    "\n",
    "- have too many arguments in a single function\n",
    "- use too many functions"
   ]
  }
 ],
 "metadata": {
  "kernelspec": {
   "display_name": "Python 3 (ipykernel)",
   "language": "python",
   "name": "python3"
  },
  "language_info": {
   "codemirror_mode": {
    "name": "ipython",
    "version": 3
   },
   "file_extension": ".py",
   "mimetype": "text/x-python",
   "name": "python",
   "nbconvert_exporter": "python",
   "pygments_lexer": "ipython3",
   "version": "3.11.5"
  },
  "toc": {
   "base_numbering": 1,
   "nav_menu": {},
   "number_sections": true,
   "sideBar": true,
   "skip_h1_title": false,
   "title_cell": "Table of Contents",
   "title_sidebar": "Contents",
   "toc_cell": false,
   "toc_position": {},
   "toc_section_display": true,
   "toc_window_display": false
  },
  "vscode": {
   "interpreter": {
    "hash": "31f2aee4e71d21fbe5cf8b01ff0e069b9275f58929596ceb00d14d90e3e16cd6"
   }
  }
 },
 "nbformat": 4,
 "nbformat_minor": 5
}

{
 "cells": [
  {
   "cell_type": "markdown",
   "id": "5d3fcd2f",
   "metadata": {},
   "source": [
    "<div style=\"text-align:left;font-size:2em\"><span style=\"font-weight:bolder;font-size:1.25em\">SP2273 | Learning Portfolio</span><br><br><span style=\"font-weight:bold;color:darkred\">Using Jupyter (Need)</span></div>"
   ]
  },
  {
   "cell_type": "markdown",
   "id": "a48c454f",
   "metadata": {},
   "source": [
    "# 1 What to expect in this chapter"
   ]
  },
  {
   "cell_type": "markdown",
   "id": "9cccb275",
   "metadata": {},
   "source": [
    "# 2 Getting ready"
   ]
  },
  {
   "cell_type": "markdown",
   "id": "74ccaa89",
   "metadata": {},
   "source": [
    "# 3 Getting started with Jupyter"
   ]
  },
  {
   "cell_type": "markdown",
   "id": "be0f37b6",
   "metadata": {},
   "source": [
    "## 3.1 It is all about running cells"
   ]
  },
  {
   "cell_type": "markdown",
   "id": "974f6b3e",
   "metadata": {},
   "source": [
    "To run a cell use **`CMD + ENTER`**\n",
    "\n",
    "Running a:\n",
    "- Code cell causes Python to run\n",
    "- Markdown cell renders Markdown text"
   ]
  },
  {
   "cell_type": "markdown",
   "id": "2e8971b8",
   "metadata": {},
   "source": [
    "## 3.2 A traditional start"
   ]
  },
  {
   "cell_type": "code",
   "execution_count": 3,
   "id": "ee819cbe",
   "metadata": {},
   "outputs": [
    {
     "name": "stdout",
     "output_type": "stream",
     "text": [
      "Hello World!\n"
     ]
    }
   ],
   "source": [
    "print('Hello World!')"
   ]
  },
  {
   "cell_type": "markdown",
   "id": "53c297c5",
   "metadata": {},
   "source": [
    "number before code cell is to keep track of the history of commands issued"
   ]
  },
  {
   "cell_type": "markdown",
   "id": "fb942b50",
   "metadata": {},
   "source": [
    "# 4 All about Markdown"
   ]
  },
  {
   "cell_type": "markdown",
   "id": "6dc0b33d",
   "metadata": {},
   "source": [
    "## 4.1 Rendering Markdown cells"
   ]
  },
  {
   "cell_type": "markdown",
   "id": "1ebe6c9f",
   "metadata": {},
   "source": [
    "To render text use a markdown cell **(`ESC + M`)**\n",
    "\n",
    "Example:\n",
    "The ships hung in the sky in much the same way that bricks don't."
   ]
  },
  {
   "cell_type": "markdown",
   "id": "8d9f1eef",
   "metadata": {},
   "source": [
    "## 4.2 Some basic syntax"
   ]
  },
  {
   "cell_type": "markdown",
   "id": "e979d531",
   "metadata": {},
   "source": [
    "- bold - `** **`\n",
    "- italic - `* *`\n",
    "- all bold and italic - `*** ***`\n",
    "- subscript - `<sub> </sub>`\n",
    "\n",
    "The ships *hung in the sky* in much the same way that **bricks don’t.**<sup>1</sup><sub>QUOTE</sub>"
   ]
  },
  {
   "cell_type": "markdown",
   "id": "80056a29",
   "metadata": {},
   "source": [
    "## 4.3 Headings"
   ]
  },
  {
   "cell_type": "markdown",
   "id": "2c0d7072",
   "metadata": {},
   "source": [
    "- largest heading - `#`\n",
    "- second-largest - `##`\n",
    "- third-largest - `###`\n",
    "- smallest - `####`"
   ]
  },
  {
   "cell_type": "markdown",
   "id": "41d9b44f",
   "metadata": {},
   "source": [
    "## 4.4 Displaying Code"
   ]
  },
  {
   "cell_type": "markdown",
   "id": "f7b17994",
   "metadata": {},
   "source": [
    "- to mention code - use `\n",
    "\n",
    "for a block of code:\n",
    "\n",
    "```python \n",
    "print('Hello World!')\n",
    "```"
   ]
  },
  {
   "cell_type": "markdown",
   "id": "f98aa6ee",
   "metadata": {},
   "source": [
    "## 4.5 Links"
   ]
  },
  {
   "cell_type": "markdown",
   "id": "a92ea03d",
   "metadata": {},
   "source": [
    "for links do:\n",
    "\n",
    "`[link name](actual website link)`\n",
    "\n",
    "example:\n",
    "[Not a Rick Roll](https://www.youtube.com/watch?v=dQw4w9WgXcQ&ab_channel=RickAstley)"
   ]
  },
  {
   "cell_type": "markdown",
   "id": "91433563",
   "metadata": {},
   "source": [
    "## 4.6 Images"
   ]
  },
  {
   "cell_type": "code",
   "execution_count": null,
   "id": "4b2ac325",
   "metadata": {},
   "outputs": [],
   "source": []
  },
  {
   "cell_type": "markdown",
   "id": "81076b24",
   "metadata": {},
   "source": [
    "## 4.7 Tables"
   ]
  },
  {
   "cell_type": "markdown",
   "id": "851ef7c5",
   "metadata": {},
   "source": [
    "## 4.8 Lists"
   ]
  },
  {
   "cell_type": "markdown",
   "id": "27fc8ab8",
   "metadata": {},
   "source": [
    "## 4.9 Equations"
   ]
  },
  {
   "cell_type": "markdown",
   "id": "2256642a",
   "metadata": {},
   "source": [
    "## Footnotes"
   ]
  }
 ],
 "metadata": {
  "kernelspec": {
   "display_name": "Python 3 (ipykernel)",
   "language": "python",
   "name": "python3"
  },
  "language_info": {
   "codemirror_mode": {
    "name": "ipython",
    "version": 3
   },
   "file_extension": ".py",
   "mimetype": "text/x-python",
   "name": "python",
   "nbconvert_exporter": "python",
   "pygments_lexer": "ipython3",
   "version": "3.11.5"
  },
  "toc": {
   "base_numbering": 1,
   "nav_menu": {},
   "number_sections": true,
   "sideBar": true,
   "skip_h1_title": false,
   "title_cell": "Table of Contents",
   "title_sidebar": "Contents",
   "toc_cell": false,
   "toc_position": {},
   "toc_section_display": true,
   "toc_window_display": false
  },
  "vscode": {
   "interpreter": {
    "hash": "31f2aee4e71d21fbe5cf8b01ff0e069b9275f58929596ceb00d14d90e3e16cd6"
   }
  }
 },
 "nbformat": 4,
 "nbformat_minor": 5
}

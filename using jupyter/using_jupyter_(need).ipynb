{
 "cells": [
  {
   "cell_type": "markdown",
   "id": "8bcb42f6",
   "metadata": {},
   "source": [
    "<div style=\"text-align:left;font-size:2em\"><span style=\"font-weight:bolder;font-size:1.25em\">SP2273 | Learning Portfolio</span><br><br><span style=\"font-weight:bold;color:darkred\">Using Jupyter (Need)</span></div>"
   ]
  },
  {
   "cell_type": "markdown",
   "id": "a48c454f",
   "metadata": {},
   "source": [
    "# 1 What to expect in this chapter"
   ]
  },
  {
   "cell_type": "markdown",
   "id": "9cccb275",
   "metadata": {},
   "source": [
    "# 2 Getting ready"
   ]
  },
  {
   "cell_type": "markdown",
   "id": "74ccaa89",
   "metadata": {},
   "source": [
    "# 3 Getting started with Jupyter"
   ]
  },
  {
   "cell_type": "markdown",
   "id": "be0f37b6",
   "metadata": {},
   "source": [
    "## 3.1 It is all about running cells"
   ]
  },
  {
   "cell_type": "markdown",
   "id": "358146a7",
   "metadata": {},
   "source": [
    "To run a cell use **`CMD + ENTER`**\n",
    "\n",
    "Running a:\n",
    "- Code cell causes Python to run\n",
    "- Markdown cell renders Markdown text"
   ]
  },
  {
   "cell_type": "markdown",
   "id": "2e8971b8",
   "metadata": {},
   "source": [
    "## 3.2 A traditional start"
   ]
  },
  {
   "cell_type": "code",
   "execution_count": 3,
   "id": "869e2d9c",
   "metadata": {},
   "outputs": [
    {
     "name": "stdout",
     "output_type": "stream",
     "text": [
      "Hello World!\n"
     ]
    }
   ],
   "source": [
    "print('Hello World!')"
   ]
  },
  {
   "cell_type": "markdown",
   "id": "e7928033",
   "metadata": {},
   "source": [
    "number before code cell is to keep track of the history of commands issued"
   ]
  },
  {
   "cell_type": "markdown",
   "id": "fb942b50",
   "metadata": {},
   "source": [
    "# 4 All about Markdown"
   ]
  },
  {
   "cell_type": "markdown",
   "id": "6dc0b33d",
   "metadata": {},
   "source": [
    "## 4.1 Rendering Markdown cells"
   ]
  },
  {
   "cell_type": "markdown",
   "id": "945c3334",
   "metadata": {},
   "source": [
    "To render text use a markdown cell **(`ESC + M`)**\n",
    "\n",
    "Example:\n",
    "The ships hung in the sky in much the same way that bricks don't."
   ]
  },
  {
   "cell_type": "markdown",
   "id": "8d9f1eef",
   "metadata": {},
   "source": [
    "## 4.2 Some basic syntax"
   ]
  },
  {
   "cell_type": "markdown",
   "id": "f2d7f189",
   "metadata": {},
   "source": [
    "- bold - `** **`\n",
    "- italic - `* *`\n",
    "- all bold and italic - `*** ***`\n",
    "- subscript - `<sub> </sub>`\n",
    "\n",
    "The ships *hung in the sky* in much the same way that **bricks don’t.**<sup>1</sup><sub>QUOTE</sub>"
   ]
  },
  {
   "cell_type": "markdown",
   "id": "80056a29",
   "metadata": {},
   "source": [
    "## 4.3 Headings"
   ]
  },
  {
   "cell_type": "markdown",
   "id": "86075922",
   "metadata": {},
   "source": [
    "- largest heading - `#`\n",
    "- second-largest - `##`\n",
    "- third-largest - `###`\n",
    "- smallest - `####`"
   ]
  },
  {
   "cell_type": "markdown",
   "id": "41d9b44f",
   "metadata": {},
   "source": [
    "## 4.4 Displaying Code"
   ]
  },
  {
   "cell_type": "markdown",
   "id": "27fa669f",
   "metadata": {},
   "source": [
    "- to mention code - use `\n",
    "\n",
    "for a block of code:\n",
    "\n",
    "```python \n",
    "print('Hello World!')\n",
    "```"
   ]
  },
  {
   "cell_type": "markdown",
   "id": "f98aa6ee",
   "metadata": {},
   "source": [
    "## 4.5 Links"
   ]
  },
  {
   "cell_type": "markdown",
   "id": "9268e3b5",
   "metadata": {},
   "source": [
    "for links do:\n",
    "\n",
    "`[link name](actual website link)`\n",
    "\n",
    "example:\n",
    "[Not a Rick Roll](https://www.youtube.com/watch?v=dQw4w9WgXcQ&ab_channel=RickAstley)"
   ]
  },
  {
   "cell_type": "markdown",
   "id": "91433563",
   "metadata": {},
   "source": [
    "## 4.6 Images"
   ]
  },
  {
   "cell_type": "markdown",
   "id": "c46728d2",
   "metadata": {},
   "source": [
    "for images do:\n",
    "\n",
    "`![](image link address)`\n",
    "\n",
    "example: ![](https://encrypted-tbn2.gstatic.com/images?q=tbn:ANd9GcRzsYiL9kjdhPv0iYCewl6D8eUdJVV2nHA3avypXo0PZjvh4naJ)"
   ]
  },
  {
   "cell_type": "markdown",
   "id": "81076b24",
   "metadata": {},
   "source": [
    "## 4.7 Tables"
   ]
  },
  {
   "cell_type": "markdown",
   "id": "ae6404ec",
   "metadata": {},
   "source": [
    "To create a table:\n",
    "\n",
    "|A|B|C|\n",
    "|:--|:--:|--:|\n",
    "|a1|b1|c1|\n",
    "|a2|b2|c2|\n",
    "|a3|b3|c3|\n",
    "\n",
    "or use a [Table Generator](https://www.tablesgenerator.com/)"
   ]
  },
  {
   "cell_type": "markdown",
   "id": "851ef7c5",
   "metadata": {},
   "source": [
    "## 4.8 Lists"
   ]
  },
  {
   "cell_type": "markdown",
   "id": "3f2dc867",
   "metadata": {},
   "source": [
    "***Numbered lists:***\n",
    "```python\n",
    "1. Alisson Becker\n",
    "1. Joe Gomez\n",
    "1. Wataru Endo\n",
    "1. Virgil van Dijk\n",
    "```\n",
    "\n",
    "1. Alisson Becker\n",
    "1. Joe Gomez\n",
    "1. Wataru Endo\n",
    "1. Virgil van Dijk\n",
    "\n",
    "***Unnumbered lists:***\n",
    "```python\n",
    "- Alisson Becker\n",
    "- Joe Gomez\n",
    "- Wataru Endo\n",
    "- Virgil van Dijk\n",
    "```\n",
    "\n",
    "- Alisson Becker\n",
    "- Joe Gomez\n",
    "- Wataru Endo\n",
    "- Virgil van Dijk\n",
    "\n",
    "***Numbered-numbered lists:***\n",
    "```python\n",
    "1. Alisson Becker\n",
    "    1. GK\n",
    "    1. Brazil\n",
    "1. Joe Gomez\n",
    "    1. RB\n",
    "    1. England\n",
    "1. Wataru Endo\n",
    "    1. CDM\n",
    "    1. Japan\n",
    "1. Virgil van Dijk\n",
    "    1. CB\n",
    "    1. Netherlands\n",
    "```\n",
    "\n",
    "1. Alisson Becker\n",
    "    1. GK\n",
    "    1. Brazil\n",
    "1. Joe Gomez\n",
    "    1. RB\n",
    "    1. England\n",
    "1. Wataru Endo\n",
    "    1. CDM\n",
    "    1. Japan\n",
    "1. Virgil van Dijk\n",
    "    1. CB\n",
    "    1. Netherlands\n",
    "    \n",
    "***Numbered-unnumbered lists:***\n",
    "```python\n",
    "1. Alisson Becker\n",
    "    - GK\n",
    "    - Brazil\n",
    "1. Joe Gomez\n",
    "    - RB\n",
    "    - England\n",
    "1. Wataru Endo\n",
    "    - CDM\n",
    "    - Japan\n",
    "1. Virgil van Dijk\n",
    "    - CB\n",
    "    - Netherlands\n",
    "```\n",
    "\n",
    "1. Alisson Becker\n",
    "    - GK\n",
    "    - Brazil\n",
    "1. Joe Gomez\n",
    "    - RB\n",
    "    - England\n",
    "1. Wataru Endo\n",
    "    - CDM\n",
    "    - Japan\n",
    "1. Virgil van Dijk\n",
    "    - CB\n",
    "    - Netherlands"
   ]
  },
  {
   "cell_type": "markdown",
   "id": "27fc8ab8",
   "metadata": {},
   "source": [
    "## 4.9 Equations"
   ]
  },
  {
   "cell_type": "markdown",
   "id": "e172579f",
   "metadata": {},
   "source": [
    "For math equations, use 2 `$` signs like `$\\sqrt{b^2-4ac}$` which gives $\\sqrt{b^2-4ac}$\n",
    "\n",
    "math block\n",
    "```python\n",
    "$$\n",
    "x = \\dfrac{-b \\pm \\sqrt{b^2-4ac}}{2a}\n",
    "$$\n",
    "```\n",
    "which gives\n",
    "$$\n",
    "x = \\dfrac{-b \\pm \\sqrt{b^2-4ac}}{2a}\n",
    "$$\n",
    "\n",
    "**Math commands**\n",
    "\n",
    "[Overleaf math documentation for more information](https://www.overleaf.com/learn/latex/Mathematical_expressions)\n",
    "\n",
    "[SP2273 WEBSITE TO MATH COMMANDS](https://sps.nus.edu.sg/sp2273/docs/python_basics/01_using_jupyter/1_using-jupyter_need.html#images)\n"
   ]
  },
  {
   "cell_type": "markdown",
   "id": "2256642a",
   "metadata": {},
   "source": [
    "## Footnotes"
   ]
  }
 ],
 "metadata": {
  "kernelspec": {
   "display_name": "Python 3 (ipykernel)",
   "language": "python",
   "name": "python3"
  },
  "language_info": {
   "codemirror_mode": {
    "name": "ipython",
    "version": 3
   },
   "file_extension": ".py",
   "mimetype": "text/x-python",
   "name": "python",
   "nbconvert_exporter": "python",
   "pygments_lexer": "ipython3",
   "version": "3.11.5"
  },
  "toc": {
   "base_numbering": 1,
   "nav_menu": {},
   "number_sections": true,
   "sideBar": true,
   "skip_h1_title": false,
   "title_cell": "Table of Contents",
   "title_sidebar": "Contents",
   "toc_cell": false,
   "toc_position": {},
   "toc_section_display": true,
   "toc_window_display": false
  },
  "vscode": {
   "interpreter": {
    "hash": "31f2aee4e71d21fbe5cf8b01ff0e069b9275f58929596ceb00d14d90e3e16cd6"
   }
  }
 },
 "nbformat": 4,
 "nbformat_minor": 5
}

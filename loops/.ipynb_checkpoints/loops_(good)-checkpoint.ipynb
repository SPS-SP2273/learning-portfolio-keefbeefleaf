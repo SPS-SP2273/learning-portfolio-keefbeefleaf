{
 "cells": [
  {
   "attachments": {},
   "cell_type": "markdown",
   "id": "123456",
   "metadata": {},
   "source": [
    "<div style=\"text-align:left;font-size:2em\"><span style=\"font-weight:bolder;font-size:1.25em\">SP2273 | Learning Portfolio</span><br><br><span style=\"font-weight:bold;color:darkred\">Loops (Good)</span></div>"
   ]
  },
  {
   "attachments": {},
   "cell_type": "markdown",
   "id": "a3ce0e0c",
   "metadata": {},
   "source": [
    "# Interrupting the flow"
   ]
  },
  {
   "cell_type": "markdown",
   "id": "e4c8636e-8f93-472c-b7da-3f827227fcd7",
   "metadata": {},
   "source": [
    "To change the flow of the loop from within, `break` and `continue` can be used"
   ]
  },
  {
   "cell_type": "code",
   "execution_count": 3,
   "id": "78d6e06a-4a67-4a71-be04-f38ad973851d",
   "metadata": {},
   "outputs": [
    {
     "name": "stdout",
     "output_type": "stream",
     "text": [
      "0 1\n",
      "1 10\n",
      "2 100\n",
      "3 1000\n"
     ]
    }
   ],
   "source": [
    "for power in range(5):\n",
    "    number = 10**power\n",
    "    if number > 5000:            # breaks out of the loop if this condition is met\n",
    "        break\n",
    "    print(power, number)"
   ]
  },
  {
   "cell_type": "code",
   "execution_count": 4,
   "id": "25c896b7-d1fb-49e0-b4c1-c631e72e3e35",
   "metadata": {},
   "outputs": [
    {
     "name": "stdout",
     "output_type": "stream",
     "text": [
      "0 1\n",
      "1 10\n",
      "2 100\n",
      "4 10000\n"
     ]
    }
   ],
   "source": [
    "for power in range(5):\n",
    "    if power == 3:\n",
    "        continue        # skips everything after this command for power = 3 \n",
    "    number = 10**power\n",
    "    print(power, number)"
   ]
  },
  {
   "cell_type": "code",
   "execution_count": 5,
   "id": "8352f4f4-8f04-4e64-985c-091cd8b96707",
   "metadata": {},
   "outputs": [
    {
     "name": "stdout",
     "output_type": "stream",
     "text": [
      "1\n",
      "3\n",
      "5\n",
      "7\n",
      "9\n"
     ]
    }
   ],
   "source": [
    "for number in range(10):\n",
    "    if number % 2 == 0:     # skip numbers with remainder = 0 after division by 2 (even numbers)\n",
    "        continue          \n",
    "    print(number)"
   ]
  },
  {
   "cell_type": "code",
   "execution_count": 7,
   "id": "710dfe55-863e-4d98-85b5-82a739a30048",
   "metadata": {},
   "outputs": [
    {
     "name": "stdout",
     "output_type": "stream",
     "text": [
      "0\n",
      "1\n",
      "2\n",
      "3\n",
      "4\n"
     ]
    }
   ],
   "source": [
    "number=0\n",
    "\n",
    "while True:                 # loop will run forever\n",
    "    print(number)\n",
    "    number += 1\n",
    "    if number > 4: break    # loop stopped by break after certain conditions"
   ]
  },
  {
   "attachments": {},
   "cell_type": "markdown",
   "id": "63b075ab",
   "metadata": {},
   "source": [
    "# List comprehension!"
   ]
  },
  {
   "attachments": {},
   "cell_type": "markdown",
   "id": "30205afc",
   "metadata": {},
   "source": [
    "## Basic syntax"
   ]
  },
  {
   "cell_type": "code",
   "execution_count": 8,
   "id": "d6db9a60-6c94-4c2f-a248-f15dfa32ee3d",
   "metadata": {},
   "outputs": [
    {
     "data": {
      "text/plain": [
       "[0, 1, 2, 3, 4]"
      ]
     },
     "execution_count": 8,
     "metadata": {},
     "output_type": "execute_result"
    }
   ],
   "source": [
    "[number for number in range(5)]"
   ]
  },
  {
   "cell_type": "markdown",
   "id": "765d10a5-448c-4f94-a1a9-2ecd0919feeb",
   "metadata": {},
   "source": [
    "- creates a list by putting the variable you want as the output at the front\n",
    "\n",
    "can create a list of squares by squaring the variable in the command:"
   ]
  },
  {
   "cell_type": "code",
   "execution_count": 9,
   "id": "9e9723f1-1d2d-426b-a5a1-cc8df78a04eb",
   "metadata": {},
   "outputs": [
    {
     "data": {
      "text/plain": [
       "[0, 1, 4, 9, 16]"
      ]
     },
     "execution_count": 9,
     "metadata": {},
     "output_type": "execute_result"
    }
   ],
   "source": [
    "[number**2 for number in range(5)]"
   ]
  },
  {
   "attachments": {},
   "cell_type": "markdown",
   "id": "c9becb3c",
   "metadata": {},
   "source": [
    "## List comprehension with conditions"
   ]
  },
  {
   "cell_type": "code",
   "execution_count": 11,
   "id": "262434fd-69a4-4dbd-b441-6363b603add7",
   "metadata": {},
   "outputs": [
    {
     "data": {
      "text/plain": [
       "[0, 2, 4, 6, 8]"
      ]
     },
     "execution_count": 11,
     "metadata": {},
     "output_type": "execute_result"
    }
   ],
   "source": [
    "[number for number in range(10) if number % 2 ==0]  # add conditions using the if function"
   ]
  },
  {
   "attachments": {},
   "cell_type": "markdown",
   "id": "1397b7b7",
   "metadata": {},
   "source": [
    "# Other useful stuff"
   ]
  },
  {
   "attachments": {},
   "cell_type": "markdown",
   "id": "bfbdda59",
   "metadata": {},
   "source": [
    "## `for` with unpacking"
   ]
  },
  {
   "cell_type": "markdown",
   "id": "be4a708c-809b-487e-a695-f8128009ccc5",
   "metadata": {},
   "source": [
    "**Unpacking** works like this:"
   ]
  },
  {
   "cell_type": "code",
   "execution_count": 12,
   "id": "5c7a27fe-3c49-4df0-a7a5-a16975ba4b03",
   "metadata": {},
   "outputs": [
    {
     "name": "stdout",
     "output_type": "stream",
     "text": [
      "x = 1, y = 2, z = 3\n"
     ]
    }
   ],
   "source": [
    "x, y, z=[1, 2, 3]\n",
    "print(f'x = {x}, y = {y}, z = {z}')"
   ]
  },
  {
   "cell_type": "markdown",
   "id": "6a5f57c5-38b0-4f14-8bee-df3965f6cc9d",
   "metadata": {},
   "source": [
    "Using unpacking in a 2D list:"
   ]
  },
  {
   "cell_type": "code",
   "execution_count": 14,
   "id": "537901de-4ecb-45cf-966b-3ace03f65f3c",
   "metadata": {},
   "outputs": [
    {
     "name": "stdout",
     "output_type": "stream",
     "text": [
      "Natasha Romanoff is Marvel's Black Widow!\n",
      "Tony Stark is Marvel's Iron Man!\n",
      "Stephen Strange is Marvel's Doctor Strange!\n"
     ]
    }
   ],
   "source": [
    "py_superhero_info = [['Natasha Romanoff', 'Black Widow'],\n",
    "                     ['Tony Stark', 'Iron Man'],\n",
    "                     ['Stephen Strange', 'Doctor Strange']]\n",
    "\n",
    "for real_name, super_name in py_superhero_info:           # associating the first elements with real_name and second with super_name\n",
    "    print(f\"{real_name} is Marvel's {super_name}!\")"
   ]
  },
  {
   "attachments": {},
   "cell_type": "markdown",
   "id": "e19c3b1e",
   "metadata": {},
   "source": [
    "## `for` with zip()"
   ]
  },
  {
   "cell_type": "markdown",
   "id": "f4c01f13-49a5-45ee-a392-abef819e2d51",
   "metadata": {},
   "source": [
    "`zip()` can be used to combine 2 lists to perform loop functions:"
   ]
  },
  {
   "cell_type": "code",
   "execution_count": 16,
   "id": "85eaa028-bf3e-4f8b-9971-b72b433b2ed6",
   "metadata": {},
   "outputs": [
    {
     "name": "stdout",
     "output_type": "stream",
     "text": [
      "Natasha Romanoff is Marvel's Black Widow!\n",
      "Tony Stark is Marvel's Iron Man!\n",
      "Stephen Strange is Marvel's Doctor Strange!\n"
     ]
    }
   ],
   "source": [
    "super_names = [\"Black Widow\", \"Iron Man\", \"Doctor Strange\"]\n",
    "real_names = [\"Natasha Romanoff\", \"Tony Stark\", \"Stephen Strange\"]\n",
    "\n",
    "for real_name, super_name in zip(real_names,super_names):  # zip() combines the 2 lists above \n",
    "    print(f\"{real_name} is Marvel's {super_name}!\")"
   ]
  },
  {
   "attachments": {},
   "cell_type": "markdown",
   "id": "cec09c6e",
   "metadata": {},
   "source": [
    "## `for` with dictionaries"
   ]
  },
  {
   "cell_type": "markdown",
   "id": "53ea82b3-bfd4-41de-aba5-756f401c2fbb",
   "metadata": {},
   "source": [
    "For looping with dictionaries:"
   ]
  },
  {
   "cell_type": "code",
   "execution_count": 17,
   "id": "3b4221ca-07c2-4347-993f-801e2e1c002a",
   "metadata": {},
   "outputs": [
    {
     "name": "stdout",
     "output_type": "stream",
     "text": [
      "Natasha Romanoff is Marvel's Black Widow!\n",
      "Tony Stark is Marvel's Iron Man!\n",
      "Stephen Strange is Marvel's Doctor Strange!\n"
     ]
    }
   ],
   "source": [
    "superhero_info={\"Natasha Romanoff\": \"Black Widow\",\n",
    "                \"Tony Stark\": \"Iron Man\",\n",
    "                \"Stephen Strange\": \"Doctor Strange\"}\n",
    "\n",
    "for key, value in superhero_info.items():  # use .items() command to refer to the keys and values in the dictionary\n",
    "    print(f\"{key} is Marvel's {value}!\")"
   ]
  },
  {
   "cell_type": "markdown",
   "id": "54f28e9a-4736-4480-9935-7e892754b693",
   "metadata": {},
   "source": [
    "It is also possible to directly access the keys using `.keys()`:"
   ]
  },
  {
   "cell_type": "code",
   "execution_count": 18,
   "id": "64e20291-7c93-4c4e-b856-72ff42677576",
   "metadata": {},
   "outputs": [
    {
     "name": "stdout",
     "output_type": "stream",
     "text": [
      "Natasha Romanoff is Marvel's Black Widow!\n",
      "Tony Stark is Marvel's Iron Man!\n",
      "Stephen Strange is Marvel's Doctor Strange!\n"
     ]
    }
   ],
   "source": [
    "for key in superhero_info.keys():\n",
    "    value=superhero_info[key]\n",
    "    print(f\"{key} is Marvel's {value}!\")"
   ]
  },
  {
   "cell_type": "markdown",
   "id": "25f7c032-006d-4aad-8902-3717249b1a9f",
   "metadata": {},
   "source": [
    "NOTE: key and value can be replaced by any other variable names i.e."
   ]
  },
  {
   "cell_type": "code",
   "execution_count": 21,
   "id": "c9cb4527-bdd6-4617-a656-6867b0292ad7",
   "metadata": {},
   "outputs": [
    {
     "name": "stdout",
     "output_type": "stream",
     "text": [
      "Natasha Romanoff is Marvel's Black Widow!\n",
      "Tony Stark is Marvel's Iron Man!\n",
      "Stephen Strange is Marvel's Doctor Strange!\n"
     ]
    }
   ],
   "source": [
    "for real_name, super_name in superhero_info.items():\n",
    "    print(f\"{real_name} is Marvel's {super_name}!\")"
   ]
  }
 ],
 "metadata": {
  "kernelspec": {
   "display_name": "Python 3 (ipykernel)",
   "language": "python",
   "name": "python3"
  },
  "language_info": {
   "codemirror_mode": {
    "name": "ipython",
    "version": 3
   },
   "file_extension": ".py",
   "mimetype": "text/x-python",
   "name": "python",
   "nbconvert_exporter": "python",
   "pygments_lexer": "ipython3",
   "version": "3.11.5"
  },
  "toc": {
   "base_numbering": 1,
   "nav_menu": {},
   "number_sections": true,
   "sideBar": true,
   "skip_h1_title": false,
   "title_cell": "Table of Contents",
   "title_sidebar": "Contents",
   "toc_cell": false,
   "toc_position": {},
   "toc_section_display": true,
   "toc_window_display": false
  },
  "vscode": {
   "interpreter": {
    "hash": "31f2aee4e71d21fbe5cf8b01ff0e069b9275f58929596ceb00d14d90e3e16cd6"
   }
  }
 },
 "nbformat": 4,
 "nbformat_minor": 5
}

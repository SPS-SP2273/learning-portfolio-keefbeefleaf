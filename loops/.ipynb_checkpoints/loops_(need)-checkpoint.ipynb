{
 "cells": [
  {
   "attachments": {},
   "cell_type": "markdown",
   "id": "123456",
   "metadata": {},
   "source": [
    "<div style=\"text-align:left;font-size:2em\"><span style=\"font-weight:bolder;font-size:1.25em\">SP2273 | Learning Portfolio</span><br><br><span style=\"font-weight:bold;color:darkred\">Loops (Need)</span></div>"
   ]
  },
  {
   "attachments": {},
   "cell_type": "markdown",
   "id": "92d25ea5",
   "metadata": {},
   "source": [
    "# The `for` iterator"
   ]
  },
  {
   "cell_type": "code",
   "execution_count": 2,
   "id": "67c8fb89-be87-47a7-86be-112f9ba09b51",
   "metadata": {},
   "outputs": [
    {
     "name": "stdout",
     "output_type": "stream",
     "text": [
      "Natasha Romanoff is a Marvel superhero!\n",
      "Tony Stark is a Marvel superhero!\n",
      "Stephen Strange is a Marvel superhero!\n"
     ]
    }
   ],
   "source": [
    "real_names = [\"Natasha Romanoff\", \"Tony Stark\", \"Stephen Strange\"]\n",
    "name=real_names[0]\n",
    "print(f\"{name} is a Marvel superhero!\")\n",
    "\n",
    "name=real_names[1]\n",
    "print(f\"{name} is a Marvel superhero!\")\n",
    "\n",
    "name=real_names[2]\n",
    "print(f\"{name} is a Marvel superhero!\")"
   ]
  },
  {
   "cell_type": "markdown",
   "id": "99ffe01a-6126-4a49-941d-04c3a29540a7",
   "metadata": {},
   "source": [
    "This is not the best way to print the 3 messages because:\n",
    "- it does not scale well (won't work well when there are many more names)\n",
    "- difficult to make changes as need to change each line of code individually\n",
    "- highly error prone\n",
    "\n",
    "`for` loop can be used instead!"
   ]
  },
  {
   "attachments": {},
   "cell_type": "markdown",
   "id": "13bc8d5a",
   "metadata": {},
   "source": [
    "## `for` with a list"
   ]
  },
  {
   "cell_type": "code",
   "execution_count": 3,
   "id": "3f1d5688-5a02-4f43-ab6a-75f281e757b1",
   "metadata": {},
   "outputs": [
    {
     "name": "stdout",
     "output_type": "stream",
     "text": [
      "Natasha Romanoff is a Marvel superhero!\n",
      "Tony Stark is a Marvel superhero!\n",
      "Stephen Strange is a Marvel superhero!\n"
     ]
    }
   ],
   "source": [
    "for name in real_names:\n",
    "    print(f\"{name} is a Marvel superhero!\")"
   ]
  },
  {
   "cell_type": "markdown",
   "id": "fe3596a4-49cf-4f76-b285-8af71dfd9ede",
   "metadata": {},
   "source": [
    "Structure of `for` loop:\n",
    "- goes through `real_names` list and assigns `name` the value of each element in the list\n",
    "- runs the `print()` code block using each value of `name`\n",
    "- uses `:` and tabs\n",
    "\n",
    "can work for any variable name:"
   ]
  },
  {
   "cell_type": "code",
   "execution_count": 4,
   "id": "4bf3c21e-7c76-4d43-9888-6cef32af19af",
   "metadata": {},
   "outputs": [
    {
     "name": "stdout",
     "output_type": "stream",
     "text": [
      "Natasha Romanoff is a Marvel superhero!\n",
      "Tony Stark is a Marvel superhero!\n",
      "Stephen Strange is a Marvel superhero!\n"
     ]
    }
   ],
   "source": [
    "for x in real_names:\n",
    "    print(f\"{x} is a Marvel superhero!\")"
   ]
  },
  {
   "attachments": {},
   "cell_type": "markdown",
   "id": "d35eeb3f",
   "metadata": {},
   "source": [
    "## `for` with enumerate"
   ]
  },
  {
   "cell_type": "code",
   "execution_count": 5,
   "id": "345b3b51-737a-4571-8296-2b2a9fd88913",
   "metadata": {},
   "outputs": [],
   "source": [
    "super_names = [\"Black Widow\", \"Iron Man\", \"Doctor Strange\"]\n",
    "real_names = [\"Natasha Romanoff\", \"Tony Stark\", \"Stephen Strange\"]"
   ]
  },
  {
   "cell_type": "markdown",
   "id": "413bd551-d001-4237-aa07-585697b32fca",
   "metadata": {},
   "source": [
    "`for` loop only accepts one list so can use `enumerate()` to access the data in both lists:"
   ]
  },
  {
   "cell_type": "code",
   "execution_count": 6,
   "id": "e5f504b2-d364-4416-ad73-0b938c2c1c39",
   "metadata": {},
   "outputs": [
    {
     "name": "stdout",
     "output_type": "stream",
     "text": [
      "0: Natasha Romanoff is a Marvel superhero!\n",
      "1: Tony Stark is a Marvel superhero!\n",
      "2: Stephen Strange is a Marvel superhero!\n"
     ]
    }
   ],
   "source": [
    "for count, name in enumerate(real_names):\n",
    "    print(f'{count}: {name} is a Marvel superhero!')"
   ]
  },
  {
   "cell_type": "markdown",
   "id": "75d05727-abfb-445d-bdb9-1e9e171d8f68",
   "metadata": {},
   "source": [
    "- `enumerate()` keeps count\n",
    "- gives the elements of the lists and also give a number (which is stored in `count`)\n",
    "\n",
    "can use the count to index the other list:"
   ]
  },
  {
   "cell_type": "code",
   "execution_count": 7,
   "id": "edc5b813-7aa5-4276-8964-d73edecf9c3a",
   "metadata": {},
   "outputs": [
    {
     "name": "stdout",
     "output_type": "stream",
     "text": [
      "Natasha Romanoff is Black Widow!\n",
      "Tony Stark is Iron Man!\n",
      "Stephen Strange is Doctor Strange!\n"
     ]
    }
   ],
   "source": [
    "for index, name in enumerate(real_names):\n",
    "    superhero_name = super_names[index]\n",
    "    print(f'{name} is {superhero_name}!')"
   ]
  },
  {
   "cell_type": "markdown",
   "id": "9e274b88-0b20-48a8-aa8b-8bb1c1360e5b",
   "metadata": {},
   "source": [
    "- the variable names 'count' and 'index' doesn't matter to python but it is for ease of reading the code\n",
    "- can change `enumerate()` to start counting from another value instead of 0"
   ]
  },
  {
   "cell_type": "code",
   "execution_count": 9,
   "id": "5337f2de-24bb-4357-9358-e06f3bfed8af",
   "metadata": {},
   "outputs": [
    {
     "name": "stdout",
     "output_type": "stream",
     "text": [
      "100: Natasha Romanoff is a Marvel superhero!\n",
      "101: Tony Stark is a Marvel superhero!\n",
      "102: Stephen Strange is a Marvel superhero!\n"
     ]
    }
   ],
   "source": [
    "for count, name in enumerate(real_names, 100):        # starts count from 100 instead\n",
    "    print(f'{count}: {name} is a Marvel superhero!')"
   ]
  },
  {
   "attachments": {},
   "cell_type": "markdown",
   "id": "e1a207fc",
   "metadata": {},
   "source": [
    "## `for` with range"
   ]
  },
  {
   "cell_type": "code",
   "execution_count": 11,
   "id": "dff06143-39ce-4815-99fa-800f15ca69e8",
   "metadata": {},
   "outputs": [
    {
     "name": "stdout",
     "output_type": "stream",
     "text": [
      "0\n",
      "1\n",
      "2\n",
      "3\n",
      "4\n"
     ]
    }
   ],
   "source": [
    "for i in range(5):   # get the `for` loop to run 5 times\n",
    "    print(i)"
   ]
  },
  {
   "cell_type": "code",
   "execution_count": 12,
   "id": "5fd5095d-839b-43ec-9580-eb950a1b3f86",
   "metadata": {},
   "outputs": [
    {
     "name": "stdout",
     "output_type": "stream",
     "text": [
      "5\n",
      "6\n",
      "7\n",
      "8\n",
      "9\n"
     ]
    }
   ],
   "source": [
    "for i in range(5, 10):    # can change the starting and ending values\n",
    "    print(i)"
   ]
  },
  {
   "cell_type": "code",
   "execution_count": 13,
   "id": "436f6034-532e-4b01-ac75-6b5471440cb6",
   "metadata": {},
   "outputs": [
    {
     "name": "stdout",
     "output_type": "stream",
     "text": [
      "1\n",
      "4\n",
      "7\n"
     ]
    }
   ],
   "source": [
    "for i in range(1, 10, 3):   # adjust step size (3 in this case)\n",
    "    print(i)"
   ]
  },
  {
   "cell_type": "markdown",
   "id": "70d7b75c-4214-4f29-8045-5bbad6b31c2e",
   "metadata": {},
   "source": [
    "NOTE:\n",
    "- only works with looping structures\n",
    "- `range()` always ends one short of the ending number"
   ]
  },
  {
   "cell_type": "code",
   "execution_count": 16,
   "id": "9ca1c1f3-8cb1-4d27-b743-37b714c819fb",
   "metadata": {},
   "outputs": [
    {
     "name": "stdout",
     "output_type": "stream",
     "text": [
      "Natasha Romanoff is Marvel's Black Widow!\n",
      "Tony Stark is Marvel's Iron Man!\n",
      "Stephen Strange is Marvel's Doctor Strange!\n"
     ]
    }
   ],
   "source": [
    "for i in range(len(real_names)):    # len(real_names) for how many times the loop should run\n",
    "    real_name = real_names[i]\n",
    "    super_name = super_names[i]        \n",
    "    print(f\"{real_name} is Marvel's {super_name}!\")"
   ]
  },
  {
   "attachments": {},
   "cell_type": "markdown",
   "id": "5bd11ddf",
   "metadata": {},
   "source": [
    "# `while`"
   ]
  },
  {
   "cell_type": "code",
   "execution_count": 19,
   "id": "459e3625-a3c3-4dc9-9d21-3527ff9b5828",
   "metadata": {},
   "outputs": [
    {
     "name": "stdout",
     "output_type": "stream",
     "text": [
      "0\n",
      "1\n",
      "2\n",
      "3\n",
      "4\n"
     ]
    }
   ],
   "source": [
    "number = 0\n",
    "\n",
    "while number < 5:   # the loop keeps repeating as long as the number is less than 5\n",
    "    print(number)\n",
    "    number += 1     # increase 'number' by 1"
   ]
  },
  {
   "cell_type": "markdown",
   "id": "32960740-5e6d-4cf2-8616-1b035d0caec5",
   "metadata": {},
   "source": [
    "`while` loop is set up so that it will keep running **while** the condition is true. "
   ]
  }
 ],
 "metadata": {
  "kernelspec": {
   "display_name": "Python 3 (ipykernel)",
   "language": "python",
   "name": "python3"
  },
  "language_info": {
   "codemirror_mode": {
    "name": "ipython",
    "version": 3
   },
   "file_extension": ".py",
   "mimetype": "text/x-python",
   "name": "python",
   "nbconvert_exporter": "python",
   "pygments_lexer": "ipython3",
   "version": "3.11.5"
  },
  "toc": {
   "base_numbering": 1,
   "nav_menu": {},
   "number_sections": true,
   "sideBar": true,
   "skip_h1_title": false,
   "title_cell": "Table of Contents",
   "title_sidebar": "Contents",
   "toc_cell": false,
   "toc_position": {},
   "toc_section_display": true,
   "toc_window_display": false
  },
  "vscode": {
   "interpreter": {
    "hash": "31f2aee4e71d21fbe5cf8b01ff0e069b9275f58929596ceb00d14d90e3e16cd6"
   }
  }
 },
 "nbformat": 4,
 "nbformat_minor": 5
}

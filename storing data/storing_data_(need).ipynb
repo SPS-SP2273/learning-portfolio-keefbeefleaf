{
 "cells": [
  {
   "attachments": {},
   "cell_type": "markdown",
   "id": "123456",
   "metadata": {},
   "source": [
    "<div style=\"text-align:left;font-size:2em\"><span style=\"font-weight:bolder;font-size:1.25em\">SP2273 | Learning Portfolio</span><br><br><span style=\"font-weight:bold;color:darkred\">Storing Data (Need)</span></div>"
   ]
  },
  {
   "attachments": {},
   "cell_type": "markdown",
   "id": "46b69b09",
   "metadata": {},
   "source": [
    "# Lists, Arrays & Dictionaries"
   ]
  },
  {
   "attachments": {},
   "cell_type": "markdown",
   "id": "2011afbf",
   "metadata": {},
   "source": [
    "## Let’s compare"
   ]
  },
  {
   "cell_type": "code",
   "execution_count": 1,
   "id": "6d1d2fb0-e0b7-473b-8824-2caff5e0a196",
   "metadata": {},
   "outputs": [],
   "source": [
    "py_super_names = [\"Black Widow\", \"Iron Man\", \"Doctor Strange\"]                   # python lists\n",
    "py_real_names = [\"Natasha Romanoff\", \"Tony Stark\", \"Stephen Strange\"]"
   ]
  },
  {
   "cell_type": "code",
   "execution_count": 5,
   "id": "4bb36876-f94f-4846-8d36-d3f5a8d8a408",
   "metadata": {},
   "outputs": [],
   "source": [
    "import numpy as np \n",
    "np_super_names = np.array([\"Black Widow\", \"Iron Man\", \"Doctor Strange\"])         # NumPy arrays\n",
    "np_real_names = np.array([\"Natasha Romanoff\", \"Tony Stark\", \"Stephen Strange\"])"
   ]
  },
  {
   "cell_type": "markdown",
   "id": "bbb64475-c87a-4c5a-8c5a-7bcb1596ee7f",
   "metadata": {},
   "source": [
    "For list and arrays as shown above, the order matters i.e. Iron Man and Tony Stark must be in same position in both lists/arrays."
   ]
  },
  {
   "cell_type": "code",
   "execution_count": 4,
   "id": "1f0c8c0b-9b73-49a7-a87f-c4687eac65d6",
   "metadata": {},
   "outputs": [],
   "source": [
    "superhero_info = {\n",
    "    \"Natasha Romanoff\": \"Black Widow\",\n",
    "    \"Tony Stark\": \"Iron Man\",\n",
    "    \"Stephen Strange\": \"Doctor Strange\"\n",
    "}"
   ]
  },
  {
   "cell_type": "markdown",
   "id": "d4400307-576d-4321-a3d4-dbd384457927",
   "metadata": {},
   "source": [
    "Dictionaries are used in the format of \n",
    "```\n",
    "dictionary_name = {\n",
    "    \"key\": \"associated value\",\n",
    "    \"key2\": \"associated value2\",\n",
    "}\n",
    "```"
   ]
  },
  {
   "attachments": {},
   "cell_type": "markdown",
   "id": "578631b9",
   "metadata": {},
   "source": [
    "## Accessing data from a list (or array)"
   ]
  },
  {
   "cell_type": "markdown",
   "id": "38d891c9-5f3c-44d6-80c9-5f09269bf89f",
   "metadata": {},
   "source": [
    "Data in lists/arrays must be assessed by zero-based index - starting from **zero**"
   ]
  },
  {
   "cell_type": "code",
   "execution_count": 8,
   "id": "7df30db8-a6d3-4e46-abbe-02ecc247b8c9",
   "metadata": {},
   "outputs": [
    {
     "data": {
      "text/plain": [
       "'Natasha Romanoff'"
      ]
     },
     "execution_count": 8,
     "metadata": {},
     "output_type": "execute_result"
    }
   ],
   "source": [
    "py_real_names[0]  # first item in the list"
   ]
  },
  {
   "cell_type": "code",
   "execution_count": 10,
   "id": "c1409a72-1b48-4d11-a604-df5dbeb3bcf6",
   "metadata": {},
   "outputs": [
    {
     "data": {
      "text/plain": [
       "'Doctor Strange'"
      ]
     },
     "execution_count": 10,
     "metadata": {},
     "output_type": "execute_result"
    }
   ],
   "source": [
    "py_super_names[2] # third item in the list"
   ]
  },
  {
   "cell_type": "code",
   "execution_count": 11,
   "id": "7ad1bdf4-cb3c-49f2-94a7-e052f7664a8b",
   "metadata": {},
   "outputs": [
    {
     "data": {
      "text/plain": [
       "'Doctor Strange'"
      ]
     },
     "execution_count": 11,
     "metadata": {},
     "output_type": "execute_result"
    }
   ],
   "source": [
    "py_super_names[-1] # first item from the back in the list"
   ]
  },
  {
   "cell_type": "markdown",
   "id": "8dcac2f2-2ace-4d38-b400-f1cc41e9d0d5",
   "metadata": {},
   "source": [
    "Reverse indexing i.e. `[-1]` is useful to find out last element from the list without knowing the size of the list as it counts from the back of the list."
   ]
  },
  {
   "attachments": {},
   "cell_type": "markdown",
   "id": "151a4414",
   "metadata": {},
   "source": [
    "## Accessing data from a dictionary"
   ]
  },
  {
   "cell_type": "code",
   "execution_count": 20,
   "id": "43ef9a63-e960-42ca-ac25-c1ffa4cb3fa0",
   "metadata": {},
   "outputs": [
    {
     "data": {
      "text/plain": [
       "'Iron Man'"
      ]
     },
     "execution_count": 20,
     "metadata": {},
     "output_type": "execute_result"
    }
   ],
   "source": [
    "superhero_info[\"Tony Stark\"]   # prints associated value with key input"
   ]
  },
  {
   "cell_type": "code",
   "execution_count": 16,
   "id": "01b39f59-18d5-476c-befc-eed08c4f1fa2",
   "metadata": {},
   "outputs": [
    {
     "data": {
      "text/plain": [
       "dict_keys(['Natasha Romanoff', 'Tony Stark', 'Stephen Strange'])"
      ]
     },
     "execution_count": 16,
     "metadata": {},
     "output_type": "execute_result"
    }
   ],
   "source": [
    "superhero_info.keys()          # shows all keys (left side) in the dictionary"
   ]
  },
  {
   "cell_type": "code",
   "execution_count": 17,
   "id": "b0e754f8-f885-4baf-89b2-1689538780df",
   "metadata": {},
   "outputs": [
    {
     "data": {
      "text/plain": [
       "dict_values(['Black Widow', 'Iron Man', 'Doctor Strange'])"
      ]
     },
     "execution_count": 17,
     "metadata": {},
     "output_type": "execute_result"
    }
   ],
   "source": [
    "superhero_info.values()        # shows all values (right side) in the dictionary"
   ]
  },
  {
   "attachments": {},
   "cell_type": "markdown",
   "id": "e4dc4a9e",
   "metadata": {},
   "source": [
    "## Higher dimensional lists"
   ]
  },
  {
   "cell_type": "markdown",
   "id": "873bfe6e-9205-405e-a231-f98fda86de25",
   "metadata": {},
   "source": [
    "Instead of having 2 lists, can create a 2D list/array instead:"
   ]
  },
  {
   "cell_type": "code",
   "execution_count": 21,
   "id": "b86f51a7-c597-4158-8268-89bde8b72bd0",
   "metadata": {},
   "outputs": [],
   "source": [
    "py_superhero_info = [['Natasha Romanoff', 'Black Widow'],\n",
    "                     ['Tony Stark', 'Iron Man'],\n",
    "                     ['Stephen Strange', 'Doctor Strange']]"
   ]
  },
  {
   "attachments": {},
   "cell_type": "markdown",
   "id": "04a9ba6e",
   "metadata": {},
   "source": [
    "# Lists vs. Arrays"
   ]
  },
  {
   "attachments": {},
   "cell_type": "markdown",
   "id": "fd91bdbd",
   "metadata": {},
   "source": [
    "## Size"
   ]
  },
  {
   "cell_type": "code",
   "execution_count": 22,
   "id": "7f8459ae-bc5c-4d7b-952a-477cf72aba47",
   "metadata": {},
   "outputs": [],
   "source": [
    "py_list_2d = [[1, \"A\"], [2, \"B\"], [3, \"C\"], [4, \"D\"],\n",
    "              [5, \"E\"], [6, \"F\"], [7, \"G\"], [8, \"H\"],\n",
    "              [9, \"I\"], [10, \"J\"]]\n",
    "\n",
    "np_array_2d = np.array(py_list_2d)      "
   ]
  },
  {
   "cell_type": "code",
   "execution_count": 23,
   "id": "0fe082e5-ec9f-4040-a1e7-21688eac78ad",
   "metadata": {},
   "outputs": [
    {
     "data": {
      "text/plain": [
       "10"
      ]
     },
     "execution_count": 23,
     "metadata": {},
     "output_type": "execute_result"
    }
   ],
   "source": [
    "len(py_list_2d) # number of elements "
   ]
  },
  {
   "cell_type": "code",
   "execution_count": 24,
   "id": "09e778bc-d1fd-4e70-8b80-180db74619d3",
   "metadata": {},
   "outputs": [
    {
     "data": {
      "text/plain": [
       "10"
      ]
     },
     "execution_count": 24,
     "metadata": {},
     "output_type": "execute_result"
    }
   ],
   "source": [
    "len(np_array_2d)"
   ]
  },
  {
   "cell_type": "code",
   "execution_count": 25,
   "id": "6b911901-8e48-4f75-ac0f-f3b444d008d2",
   "metadata": {},
   "outputs": [
    {
     "data": {
      "text/plain": [
       "(10, 2)"
      ]
     },
     "execution_count": 25,
     "metadata": {},
     "output_type": "execute_result"
    }
   ],
   "source": [
    "np_array_2d.shape"
   ]
  },
  {
   "cell_type": "markdown",
   "id": "820ee625-8a4d-425c-9c30-c39c88202e43",
   "metadata": {},
   "source": [
    "shape indicates the number of rows and columns the list has for a 2D list so in this case, 10 rows and 2 columns."
   ]
  },
  {
   "attachments": {},
   "cell_type": "markdown",
   "id": "4b592cb2",
   "metadata": {},
   "source": [
    "## Arrays are fussy about type"
   ]
  },
  {
   "cell_type": "markdown",
   "id": "b11304ed-df90-42a6-8b5b-708d5e734e3c",
   "metadata": {},
   "source": [
    "Arrays insist on strictly only 1 data type while lists are more accomodating\n"
   ]
  },
  {
   "cell_type": "code",
   "execution_count": 27,
   "id": "3848d74b-d203-4abc-b446-98c4b983d0a4",
   "metadata": {},
   "outputs": [],
   "source": [
    "py_list = [1, 1.5, 'A']\n",
    "np_array = np.array(py_list)"
   ]
  },
  {
   "cell_type": "code",
   "execution_count": 29,
   "id": "1d7e8a34-3fa8-40bf-b164-a518bd474755",
   "metadata": {},
   "outputs": [
    {
     "data": {
      "text/plain": [
       "[1, 1.5, 'A']"
      ]
     },
     "execution_count": 29,
     "metadata": {},
     "output_type": "execute_result"
    }
   ],
   "source": [
    "py_list"
   ]
  },
  {
   "cell_type": "code",
   "execution_count": 32,
   "id": "50c06a31-3f8b-4d14-9f5c-f63dfa99fab7",
   "metadata": {},
   "outputs": [
    {
     "data": {
      "text/plain": [
       "array(['1', '1.5', 'A'], dtype='<U32')"
      ]
     },
     "execution_count": 32,
     "metadata": {},
     "output_type": "execute_result"
    }
   ],
   "source": [
    "np_array # numbers converted to English"
   ]
  },
  {
   "attachments": {},
   "cell_type": "markdown",
   "id": "18b7987c",
   "metadata": {},
   "source": [
    "## Adding a number"
   ]
  },
  {
   "cell_type": "markdown",
   "id": "4c2df672-0d54-4a22-9882-8a93300fd01c",
   "metadata": {},
   "source": [
    "Adding a number to a list for:\n",
    "- Python lists - won't work\n",
    "- Numpy arrays - adds the number to each element in the list"
   ]
  },
  {
   "cell_type": "code",
   "execution_count": 33,
   "id": "5cfaa90f-4249-4918-b12b-4578301916f9",
   "metadata": {},
   "outputs": [],
   "source": [
    "py_list = [1, 2, 3, 4, 5]\n",
    "np_array = np.array(py_list)"
   ]
  },
  {
   "cell_type": "code",
   "execution_count": 34,
   "id": "bfea7917-2063-49f7-ad22-bf178e68bcf3",
   "metadata": {},
   "outputs": [
    {
     "ename": "TypeError",
     "evalue": "can only concatenate list (not \"int\") to list",
     "output_type": "error",
     "traceback": [
      "\u001b[0;31m---------------------------------------------------------------------------\u001b[0m",
      "\u001b[0;31mTypeError\u001b[0m                                 Traceback (most recent call last)",
      "Cell \u001b[0;32mIn[34], line 1\u001b[0m\n\u001b[0;32m----> 1\u001b[0m py_list \u001b[38;5;241m+\u001b[39m \u001b[38;5;241m10\u001b[39m\n",
      "\u001b[0;31mTypeError\u001b[0m: can only concatenate list (not \"int\") to list"
     ]
    }
   ],
   "source": [
    "py_list + 10"
   ]
  },
  {
   "cell_type": "code",
   "execution_count": 35,
   "id": "1f0f4684-ca74-4e9d-8e4d-bd576c5b163d",
   "metadata": {},
   "outputs": [
    {
     "data": {
      "text/plain": [
       "array([11, 12, 13, 14, 15])"
      ]
     },
     "execution_count": 35,
     "metadata": {},
     "output_type": "execute_result"
    }
   ],
   "source": [
    "np_array + 10"
   ]
  },
  {
   "attachments": {},
   "cell_type": "markdown",
   "id": "2968603b",
   "metadata": {},
   "source": [
    "## Adding another list"
   ]
  },
  {
   "cell_type": "code",
   "execution_count": 38,
   "id": "19f091e8-8551-487f-bb91-872e36432774",
   "metadata": {},
   "outputs": [],
   "source": [
    "py_list_1 = [1, 2, 3, 4, 5]\n",
    "py_list_2 = [10, 20, 30, 40, 50]\n",
    "\n",
    "np_array_1 = np.array(py_list_1)\n",
    "np_array_2 = np.array(py_list_2)"
   ]
  },
  {
   "cell_type": "code",
   "execution_count": 39,
   "id": "0f9cfbb4-1de0-4269-a0bb-0bf0aa7132d4",
   "metadata": {},
   "outputs": [
    {
     "data": {
      "text/plain": [
       "[1, 2, 3, 4, 5, 10, 20, 30, 40, 50]"
      ]
     },
     "execution_count": 39,
     "metadata": {},
     "output_type": "execute_result"
    }
   ],
   "source": [
    "py_list_1 + py_list_2"
   ]
  },
  {
   "cell_type": "code",
   "execution_count": 40,
   "id": "64a3bf8f-3da6-4f93-9137-ed27f923a58f",
   "metadata": {},
   "outputs": [
    {
     "data": {
      "text/plain": [
       "array([11, 22, 33, 44, 55])"
      ]
     },
     "execution_count": 40,
     "metadata": {},
     "output_type": "execute_result"
    }
   ],
   "source": [
    "np_array_1 + np_array_2 "
   ]
  },
  {
   "cell_type": "code",
   "execution_count": 41,
   "id": "59839272-0c9c-4ac3-af90-b7d927472708",
   "metadata": {},
   "outputs": [
    {
     "data": {
      "text/plain": [
       "array([ 2,  4,  6,  8, 10])"
      ]
     },
     "execution_count": 41,
     "metadata": {},
     "output_type": "execute_result"
    }
   ],
   "source": [
    "py_list_1 + np_array_1"
   ]
  },
  {
   "cell_type": "code",
   "execution_count": 42,
   "id": "bc982338-7054-4225-b512-e24f16e07416",
   "metadata": {},
   "outputs": [
    {
     "data": {
      "text/plain": [
       "array([ 2,  4,  6,  8, 10])"
      ]
     },
     "execution_count": 42,
     "metadata": {},
     "output_type": "execute_result"
    }
   ],
   "source": [
    "np_array_1 + py_list_1"
   ]
  },
  {
   "cell_type": "markdown",
   "id": "dad259e2-b618-4185-bc3e-8fdf38849337",
   "metadata": {},
   "source": [
    "- Python lists: adding them will combine the lists into one big list\n",
    "- Numpy arrays: adding them is an element-wise operation, where the first elements of each array will add together, the second elements of each array will add together and so on and so forth"
   ]
  },
  {
   "attachments": {},
   "cell_type": "markdown",
   "id": "9a33f618",
   "metadata": {},
   "source": [
    "## Multiplying by a Number"
   ]
  },
  {
   "cell_type": "code",
   "execution_count": 43,
   "id": "d65fbbc5-a2d1-463e-b75e-88ec4a23cef1",
   "metadata": {},
   "outputs": [],
   "source": [
    "py_list = [1, 2, 3, 4, 5]\n",
    "np_array = np.array(py_list)"
   ]
  },
  {
   "cell_type": "code",
   "execution_count": 44,
   "id": "d88e26a3-b47e-4779-bc0d-b6c1e50975d2",
   "metadata": {},
   "outputs": [
    {
     "data": {
      "text/plain": [
       "[1, 2, 3, 4, 5, 1, 2, 3, 4, 5]"
      ]
     },
     "execution_count": 44,
     "metadata": {},
     "output_type": "execute_result"
    }
   ],
   "source": [
    "py_list*2"
   ]
  },
  {
   "cell_type": "code",
   "execution_count": 45,
   "id": "a45cf2e5-b31b-4c5b-9055-582f31b00ac2",
   "metadata": {},
   "outputs": [
    {
     "data": {
      "text/plain": [
       "array([ 2,  4,  6,  8, 10])"
      ]
     },
     "execution_count": 45,
     "metadata": {},
     "output_type": "execute_result"
    }
   ],
   "source": [
    "np_array*2"
   ]
  },
  {
   "cell_type": "markdown",
   "id": "9a6f06ca-f341-4b2e-94bb-59324a185f0c",
   "metadata": {},
   "source": [
    "- Python lists: multiplying will cause the list to grow by that number of lists\n",
    "- Numpy arrays: multiplying will cause the array elements to be multiplied by that number"
   ]
  },
  {
   "attachments": {},
   "cell_type": "markdown",
   "id": "90550072",
   "metadata": {},
   "source": [
    "## Squaring"
   ]
  },
  {
   "cell_type": "code",
   "execution_count": 46,
   "id": "4d81c7b2-35a2-441f-b762-9d7718b8fc3a",
   "metadata": {},
   "outputs": [],
   "source": [
    "py_list = [1, 2, 3, 4, 5]\n",
    "np_array = np.array(py_list)"
   ]
  },
  {
   "cell_type": "code",
   "execution_count": 47,
   "id": "ce429c5d-8851-44d7-8ad6-99e9ec74daf9",
   "metadata": {},
   "outputs": [
    {
     "ename": "TypeError",
     "evalue": "unsupported operand type(s) for ** or pow(): 'list' and 'int'",
     "output_type": "error",
     "traceback": [
      "\u001b[0;31m---------------------------------------------------------------------------\u001b[0m",
      "\u001b[0;31mTypeError\u001b[0m                                 Traceback (most recent call last)",
      "Cell \u001b[0;32mIn[47], line 1\u001b[0m\n\u001b[0;32m----> 1\u001b[0m py_list\u001b[38;5;241m*\u001b[39m\u001b[38;5;241m*\u001b[39m\u001b[38;5;241m2\u001b[39m\n",
      "\u001b[0;31mTypeError\u001b[0m: unsupported operand type(s) for ** or pow(): 'list' and 'int'"
     ]
    }
   ],
   "source": [
    "py_list**2"
   ]
  },
  {
   "cell_type": "code",
   "execution_count": 48,
   "id": "9895244a-601b-4acc-82dd-f1d40f727e0a",
   "metadata": {},
   "outputs": [
    {
     "data": {
      "text/plain": [
       "array([ 1,  4,  9, 16, 25])"
      ]
     },
     "execution_count": 48,
     "metadata": {},
     "output_type": "execute_result"
    }
   ],
   "source": [
    "np_array**2"
   ]
  },
  {
   "cell_type": "markdown",
   "id": "35e3a679-465e-4b03-88f8-2de04c5c3789",
   "metadata": {},
   "source": [
    "- Python lists: cannot be squared\n",
    "- Numpy arrays: squaring will cause each array element to be squared"
   ]
  },
  {
   "attachments": {},
   "cell_type": "markdown",
   "id": "fbc5d35f",
   "metadata": {},
   "source": [
    "## Asking questions"
   ]
  },
  {
   "cell_type": "code",
   "execution_count": 49,
   "id": "6f209fe6-4cff-47ab-8474-48941779b15b",
   "metadata": {},
   "outputs": [],
   "source": [
    "py_list = [1, 2, 3, 4, 5]\n",
    "np_array = np.array(py_list)"
   ]
  },
  {
   "cell_type": "code",
   "execution_count": 61,
   "id": "94838740-7702-43ba-812f-68a040a98b18",
   "metadata": {},
   "outputs": [
    {
     "data": {
      "text/plain": [
       "False"
      ]
     },
     "execution_count": 61,
     "metadata": {},
     "output_type": "execute_result"
    }
   ],
   "source": [
    "py_list == 3 # asks whether the list is equal to 3 which doesn't really make sense as it is comparing a list to an integer"
   ]
  },
  {
   "cell_type": "code",
   "execution_count": 62,
   "id": "b0194d65-c7d8-4401-89e9-922185ebd097",
   "metadata": {},
   "outputs": [
    {
     "data": {
      "text/plain": [
       "array([False, False,  True, False, False])"
      ]
     },
     "execution_count": 62,
     "metadata": {},
     "output_type": "execute_result"
    }
   ],
   "source": [
    "np_array == 3"
   ]
  },
  {
   "cell_type": "code",
   "execution_count": 63,
   "id": "f37fbcdc-bad1-4a0d-a596-ad9c6cfb90ec",
   "metadata": {},
   "outputs": [
    {
     "data": {
      "text/plain": [
       "array([False, False, False,  True,  True])"
      ]
     },
     "execution_count": 63,
     "metadata": {},
     "output_type": "execute_result"
    }
   ],
   "source": [
    "np_array > 3"
   ]
  },
  {
   "cell_type": "markdown",
   "id": "e71b8aa8-1cdc-4f7c-946e-a50feab0cef4",
   "metadata": {},
   "source": [
    "Numpy array: checks whether each element is equal to (`==`) or greater (`>`) or smaller (`<`) than the value given "
   ]
  },
  {
   "attachments": {},
   "cell_type": "markdown",
   "id": "2c7dc990",
   "metadata": {},
   "source": [
    "## Mathematics"
   ]
  },
  {
   "cell_type": "code",
   "execution_count": 64,
   "id": "e93a5e85-3f59-4b5f-90e0-73a3d47a7b27",
   "metadata": {},
   "outputs": [],
   "source": [
    "py_list = [1, 2, 3, 4, 5]\n",
    "np_array = np.array(py_list)"
   ]
  },
  {
   "cell_type": "code",
   "execution_count": 66,
   "id": "73037af2-1365-4291-9ab9-6bca2e8d6001",
   "metadata": {},
   "outputs": [
    {
     "data": {
      "text/plain": [
       "15"
      ]
     },
     "execution_count": 66,
     "metadata": {},
     "output_type": "execute_result"
    }
   ],
   "source": [
    "sum(py_list) # sum of all elements in the list"
   ]
  },
  {
   "cell_type": "code",
   "execution_count": 67,
   "id": "9066398d-e640-449f-ba9e-61a59319b229",
   "metadata": {},
   "outputs": [
    {
     "data": {
      "text/plain": [
       "5"
      ]
     },
     "execution_count": 67,
     "metadata": {},
     "output_type": "execute_result"
    }
   ],
   "source": [
    "max(py_list) # biggest element in the list"
   ]
  },
  {
   "cell_type": "code",
   "execution_count": null,
   "id": "b30e361b-334c-4217-a006-ae54f33740ab",
   "metadata": {},
   "outputs": [],
   "source": [
    "min(py_list) # smallest element in the list"
   ]
  },
  {
   "cell_type": "code",
   "execution_count": 68,
   "id": "3853f631-68c3-4585-9881-0cd67a5e09c2",
   "metadata": {},
   "outputs": [
    {
     "data": {
      "text/plain": [
       "15"
      ]
     },
     "execution_count": 68,
     "metadata": {},
     "output_type": "execute_result"
    }
   ],
   "source": [
    "np_array.sum() # sum of all elements in the array"
   ]
  },
  {
   "cell_type": "code",
   "execution_count": 69,
   "id": "1f3232d0-acc6-43d9-9efd-750c475d35eb",
   "metadata": {},
   "outputs": [
    {
     "data": {
      "text/plain": [
       "5"
      ]
     },
     "execution_count": 69,
     "metadata": {},
     "output_type": "execute_result"
    }
   ],
   "source": [
    "np_array.max() # biggest element in the array"
   ]
  },
  {
   "cell_type": "code",
   "execution_count": 70,
   "id": "f14b6306-ccc4-4037-b8ec-2666a7b6e179",
   "metadata": {},
   "outputs": [
    {
     "data": {
      "text/plain": [
       "1"
      ]
     },
     "execution_count": 70,
     "metadata": {},
     "output_type": "execute_result"
    }
   ],
   "source": [
    "np_array.min() # smallest element in the array"
   ]
  },
  {
   "cell_type": "code",
   "execution_count": 71,
   "id": "ebea1a00-499a-4aed-8d5c-f3e448a2d9e7",
   "metadata": {},
   "outputs": [
    {
     "data": {
      "text/plain": [
       "3.0"
      ]
     },
     "execution_count": 71,
     "metadata": {},
     "output_type": "execute_result"
    }
   ],
   "source": [
    "np_array.mean() # average of all elements in the array"
   ]
  },
  {
   "cell_type": "code",
   "execution_count": null,
   "id": "38f921ad-07ff-47c1-85b7-5b3b640cd165",
   "metadata": {},
   "outputs": [],
   "source": [
    "np_array.std() # standard deviation of all elements in the array"
   ]
  },
  {
   "attachments": {},
   "cell_type": "markdown",
   "id": "8913d2f6",
   "metadata": {},
   "source": [
    "# Exercises & Self-Assessment"
   ]
  },
  {
   "cell_type": "code",
   "execution_count": null,
   "id": "90ea6765",
   "metadata": {},
   "outputs": [],
   "source": [
    "\n",
    "\n",
    "\n",
    "# Your solution here\n",
    "\n",
    "\n"
   ]
  }
 ],
 "metadata": {
  "kernelspec": {
   "display_name": "Python 3 (ipykernel)",
   "language": "python",
   "name": "python3"
  },
  "language_info": {
   "codemirror_mode": {
    "name": "ipython",
    "version": 3
   },
   "file_extension": ".py",
   "mimetype": "text/x-python",
   "name": "python",
   "nbconvert_exporter": "python",
   "pygments_lexer": "ipython3",
   "version": "3.11.5"
  },
  "toc": {
   "base_numbering": 1,
   "nav_menu": {},
   "number_sections": true,
   "sideBar": true,
   "skip_h1_title": false,
   "title_cell": "Table of Contents",
   "title_sidebar": "Contents",
   "toc_cell": false,
   "toc_position": {},
   "toc_section_display": true,
   "toc_window_display": false
  },
  "vscode": {
   "interpreter": {
    "hash": "31f2aee4e71d21fbe5cf8b01ff0e069b9275f58929596ceb00d14d90e3e16cd6"
   }
  }
 },
 "nbformat": 4,
 "nbformat_minor": 5
}

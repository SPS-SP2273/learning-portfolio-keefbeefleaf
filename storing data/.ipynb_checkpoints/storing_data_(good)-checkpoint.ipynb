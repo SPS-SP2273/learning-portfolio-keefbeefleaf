{
 "cells": [
  {
   "attachments": {},
   "cell_type": "markdown",
   "id": "123456",
   "metadata": {},
   "source": [
    "<div style=\"text-align:left;font-size:2em\"><span style=\"font-weight:bolder;font-size:1.25em\">SP2273 | Learning Portfolio</span><br><br><span style=\"font-weight:bold;color:darkred\">Storing Data (Good)</span></div>"
   ]
  },
  {
   "attachments": {},
   "cell_type": "markdown",
   "id": "bed4addb",
   "metadata": {},
   "source": [
    "# Subsetting: Indexing and Slicing"
   ]
  },
  {
   "cell_type": "markdown",
   "id": "71d5819f-b89f-4180-b902-05301e7f5ed2",
   "metadata": {},
   "source": [
    "Subsetting: Choosing a subset of data from a list/array\n",
    "- Indexing: picking a single element from the list/array\n",
    "- Slicing: picking a range of elements from the list/array"
   ]
  },
  {
   "attachments": {},
   "cell_type": "markdown",
   "id": "15214f8f",
   "metadata": {},
   "source": [
    "## Lists & Arrays in 1D | Subsetting & Indexing"
   ]
  },
  {
   "cell_type": "code",
   "execution_count": 2,
   "id": "9153f1f6-6856-407a-9842-360ddb096925",
   "metadata": {},
   "outputs": [],
   "source": [
    "import numpy as np\n",
    "py_list=[\"a1\", \"b2\", \"c3\", \"d4\", \"e5\",\n",
    "         \"f6\", \"g7\", \"h8\", \"i9\", \"j10\"]\n",
    "np_array=np.array(py_list)\n",
    "\n",
    "x = py_list  "
   ]
  },
  {
   "cell_type": "code",
   "execution_count": 4,
   "id": "441f866d-4b63-4b11-a977-c9d63be039ad",
   "metadata": {},
   "outputs": [
    {
     "data": {
      "text/plain": [
       "'a1'"
      ]
     },
     "execution_count": 4,
     "metadata": {},
     "output_type": "execute_result"
    }
   ],
   "source": [
    "x[0]   # first element"
   ]
  },
  {
   "cell_type": "code",
   "execution_count": 8,
   "id": "392cd447-3725-4a11-a175-185a31310985",
   "metadata": {},
   "outputs": [
    {
     "data": {
      "text/plain": [
       "'j10'"
      ]
     },
     "execution_count": 8,
     "metadata": {},
     "output_type": "execute_result"
    }
   ],
   "source": [
    "x[-1]  # last element"
   ]
  },
  {
   "cell_type": "code",
   "execution_count": 9,
   "id": "0f3c3251-f841-4440-a573-b524cea674bd",
   "metadata": {},
   "outputs": [
    {
     "data": {
      "text/plain": [
       "['a1', 'b2', 'c3']"
      ]
     },
     "execution_count": 9,
     "metadata": {},
     "output_type": "execute_result"
    }
   ],
   "source": [
    "x[0:3]  # index 0 to 2"
   ]
  },
  {
   "cell_type": "code",
   "execution_count": 10,
   "id": "1d70f1d9-f742-45b9-b363-2501874992c3",
   "metadata": {},
   "outputs": [
    {
     "data": {
      "text/plain": [
       "['b2', 'd4', 'f6']"
      ]
     },
     "execution_count": 10,
     "metadata": {},
     "output_type": "execute_result"
    }
   ],
   "source": [
    "x[1:6:2]  # index 1 to 5 in steps of 2"
   ]
  },
  {
   "cell_type": "code",
   "execution_count": 11,
   "id": "ab269c3e-83a0-4f9f-9f23-334d3e5943c1",
   "metadata": {},
   "outputs": [
    {
     "data": {
      "text/plain": [
       "['f6', 'g7', 'h8', 'i9', 'j10']"
      ]
     },
     "execution_count": 11,
     "metadata": {},
     "output_type": "execute_result"
    }
   ],
   "source": [
    "x[5:]  # index 5 to the end"
   ]
  },
  {
   "cell_type": "code",
   "execution_count": 12,
   "id": "f2399b5b-bc45-41a6-a809-f0ea68dc6287",
   "metadata": {},
   "outputs": [
    {
     "data": {
      "text/plain": [
       "['a1', 'b2', 'c3', 'd4', 'e5']"
      ]
     },
     "execution_count": 12,
     "metadata": {},
     "output_type": "execute_result"
    }
   ],
   "source": [
    "x[:5]  # index 0 to 4"
   ]
  },
  {
   "cell_type": "code",
   "execution_count": 13,
   "id": "81afc391-d0fd-4231-a2f3-db9b9777e42b",
   "metadata": {},
   "outputs": [
    {
     "data": {
      "text/plain": [
       "['f6', 'e5', 'd4']"
      ]
     },
     "execution_count": 13,
     "metadata": {},
     "output_type": "execute_result"
    }
   ],
   "source": [
    "x[5:2:-1]  # index 5 to 3 in reverse"
   ]
  },
  {
   "cell_type": "code",
   "execution_count": 14,
   "id": "763b36a7-d0d3-4610-a925-97cd791d2705",
   "metadata": {},
   "outputs": [
    {
     "data": {
      "text/plain": [
       "['j10', 'i9', 'h8', 'g7', 'f6', 'e5', 'd4', 'c3', 'b2', 'a1']"
      ]
     },
     "execution_count": 14,
     "metadata": {},
     "output_type": "execute_result"
    }
   ],
   "source": [
    "x[::-1]  # reverses the list"
   ]
  },
  {
   "cell_type": "markdown",
   "id": "3511857e-bb38-4a53-a9ba-ec4c498aab10",
   "metadata": {},
   "source": [
    "- applies for **BOTH** lists and arrays\n",
    "- slice `[i:j]`, the slice will start from `i` and end at `j-1`, giving a total of `j-i` elements."
   ]
  },
  {
   "attachments": {},
   "cell_type": "markdown",
   "id": "f4e73c3d",
   "metadata": {},
   "source": [
    "## Arrays only | Subsetting by masking"
   ]
  },
  {
   "cell_type": "code",
   "execution_count": 15,
   "id": "88902383-83ba-4190-a304-e746eca341ba",
   "metadata": {},
   "outputs": [
    {
     "data": {
      "text/plain": [
       "array([False, False, False,  True,  True,  True,  True,  True,  True,\n",
       "        True])"
      ]
     },
     "execution_count": 15,
     "metadata": {},
     "output_type": "execute_result"
    }
   ],
   "source": [
    "np_array = np.array([1, 2, 3, 4, 5, 6, 7, 8, 9, 10])\n",
    "my_mask = np_array > 3\n",
    "my_mask"
   ]
  },
  {
   "cell_type": "code",
   "execution_count": 16,
   "id": "3cd8229c-56bb-4102-8d24-3c76b9474bbf",
   "metadata": {},
   "outputs": [
    {
     "data": {
      "text/plain": [
       "array([ 4,  5,  6,  7,  8,  9, 10])"
      ]
     },
     "execution_count": 16,
     "metadata": {},
     "output_type": "execute_result"
    }
   ],
   "source": [
    "np_array[my_mask]"
   ]
  },
  {
   "cell_type": "markdown",
   "id": "00ac7baf-39c7-452c-ae3c-aaad2d1ab0d8",
   "metadata": {},
   "source": [
    "the mask allows only true answers to be seen when inputted back into the numpy array. to make it more succint, this can also be done:"
   ]
  },
  {
   "cell_type": "code",
   "execution_count": 17,
   "id": "ba94b1b7-1ef9-4d73-baeb-32297f08c15d",
   "metadata": {},
   "outputs": [
    {
     "data": {
      "text/plain": [
       "array([ 4,  5,  6,  7,  8,  9, 10])"
      ]
     },
     "execution_count": 17,
     "metadata": {},
     "output_type": "execute_result"
    }
   ],
   "source": [
    "np_array[np_array > 3]"
   ]
  },
  {
   "cell_type": "code",
   "execution_count": 18,
   "id": "b37a2ad9-3794-44d2-b286-fc7cdead30ee",
   "metadata": {},
   "outputs": [
    {
     "data": {
      "text/plain": [
       "array([1, 2, 3])"
      ]
     },
     "execution_count": 18,
     "metadata": {},
     "output_type": "execute_result"
    }
   ],
   "source": [
    "np_array[~(np_array > 3)]   # `~` inverts the mask"
   ]
  },
  {
   "cell_type": "code",
   "execution_count": 20,
   "id": "b1b31ab8-b709-404d-990f-f32da84b102e",
   "metadata": {},
   "outputs": [
    {
     "data": {
      "text/plain": [
       "array([4, 5, 6, 7])"
      ]
     },
     "execution_count": 20,
     "metadata": {},
     "output_type": "execute_result"
    }
   ],
   "source": [
    "np_array[(np_array > 3) & (np_array < 8)]   # `&` means 'and', considers both masks"
   ]
  },
  {
   "cell_type": "code",
   "execution_count": 21,
   "id": "c7e9e58b-2357-4ccf-bc26-e3bc2cc39ad0",
   "metadata": {},
   "outputs": [
    {
     "data": {
      "text/plain": [
       "array([ 1,  2,  9, 10])"
      ]
     },
     "execution_count": 21,
     "metadata": {},
     "output_type": "execute_result"
    }
   ],
   "source": [
    "np_array[(np_array < 3) | (np_array > 8)]   # `|` means 'or', will show if either is true"
   ]
  },
  {
   "attachments": {},
   "cell_type": "markdown",
   "id": "b90721e0",
   "metadata": {},
   "source": [
    "## 1.3 Lists & Arrays in 2D | Indexing & Slicing"
   ]
  },
  {
   "cell_type": "code",
   "execution_count": 22,
   "id": "d623a5a8-1025-4e2b-9217-07b723fb0823",
   "metadata": {},
   "outputs": [],
   "source": [
    "py_list_2d = [[1, \"A\"], [2, \"B\"], [3, \"C\"], [4, \"D\"],\n",
    "              [5, \"E\"], [6, \"F\"], [7, \"G\"], [8, \"H\"],\n",
    "              [9, \"I\"], [10, \"J\"]]\n",
    "\n",
    "np_array_2d = np.array(py_list_2d)"
   ]
  },
  {
   "cell_type": "code",
   "execution_count": 24,
   "id": "45ebfd4f-4913-4045-b50e-1b8becd17361",
   "metadata": {},
   "outputs": [
    {
     "data": {
      "text/plain": [
       "[4, 'D']"
      ]
     },
     "execution_count": 24,
     "metadata": {},
     "output_type": "execute_result"
    }
   ],
   "source": [
    "py_list_2d[3]  "
   ]
  },
  {
   "cell_type": "code",
   "execution_count": 25,
   "id": "da9a86e4-28f4-476b-86fe-1198604c1f35",
   "metadata": {},
   "outputs": [
    {
     "data": {
      "text/plain": [
       "array(['4', 'D'], dtype='<U21')"
      ]
     },
     "execution_count": 25,
     "metadata": {},
     "output_type": "execute_result"
    }
   ],
   "source": [
    "np_array_2d[3]"
   ]
  },
  {
   "cell_type": "code",
   "execution_count": 26,
   "id": "505bcdef-76bd-48ee-bcd5-7808d87c135b",
   "metadata": {},
   "outputs": [
    {
     "data": {
      "text/plain": [
       "4"
      ]
     },
     "execution_count": 26,
     "metadata": {},
     "output_type": "execute_result"
    }
   ],
   "source": [
    "py_list_2d[3][0]   # first element at index 3"
   ]
  },
  {
   "cell_type": "code",
   "execution_count": 27,
   "id": "e6636d7f-6813-4a8e-9eec-b46a59c0a54f",
   "metadata": {},
   "outputs": [
    {
     "data": {
      "text/plain": [
       "'4'"
      ]
     },
     "execution_count": 27,
     "metadata": {},
     "output_type": "execute_result"
    }
   ],
   "source": [
    "np_array_2d[3, 0]  # same as above but only uses a single '[]'"
   ]
  },
  {
   "cell_type": "code",
   "execution_count": 28,
   "id": "f5a30fe9-40c6-4b6a-b5fb-a22dd4ec9e70",
   "metadata": {},
   "outputs": [
    {
     "data": {
      "text/plain": [
       "[[1, 'A'], [2, 'B'], [3, 'C']]"
      ]
     },
     "execution_count": 28,
     "metadata": {},
     "output_type": "execute_result"
    }
   ],
   "source": [
    "py_list_2d[:3]"
   ]
  },
  {
   "cell_type": "code",
   "execution_count": 29,
   "id": "fc4aa5c6-b52a-4750-9b13-3bd7fe3c8f68",
   "metadata": {},
   "outputs": [
    {
     "data": {
      "text/plain": [
       "array([['1', 'A'],\n",
       "       ['2', 'B'],\n",
       "       ['3', 'C']], dtype='<U21')"
      ]
     },
     "execution_count": 29,
     "metadata": {},
     "output_type": "execute_result"
    }
   ],
   "source": [
    "np_array_2d[:3]"
   ]
  },
  {
   "cell_type": "code",
   "execution_count": 31,
   "id": "ba1df6ea-44c5-4078-8586-87561b1a8cb8",
   "metadata": {},
   "outputs": [
    {
     "data": {
      "text/plain": [
       "[1, 'A']"
      ]
     },
     "execution_count": 31,
     "metadata": {},
     "output_type": "execute_result"
    }
   ],
   "source": [
    "py_list_2d[:3][0]  # first element from the list of the first 3 elements"
   ]
  },
  {
   "cell_type": "code",
   "execution_count": 32,
   "id": "f69a9c61-3318-414a-8455-0c3f90691d91",
   "metadata": {},
   "outputs": [
    {
     "data": {
      "text/plain": [
       "array(['1', '2', '3'], dtype='<U21')"
      ]
     },
     "execution_count": 32,
     "metadata": {},
     "output_type": "execute_result"
    }
   ],
   "source": [
    "np_array_2d[:3, 0]  # first element of each index in the list of first 3 elements"
   ]
  },
  {
   "cell_type": "code",
   "execution_count": 35,
   "id": "897624ea-57f9-43df-8f88-6d7a839b0ace",
   "metadata": {},
   "outputs": [
    {
     "data": {
      "text/plain": [
       "[4, 'D']"
      ]
     },
     "execution_count": 35,
     "metadata": {},
     "output_type": "execute_result"
    }
   ],
   "source": [
    "py_list_2d[3:6][0]  # first element from list of elements indexed 3 to 6 (index 3)"
   ]
  },
  {
   "cell_type": "code",
   "execution_count": 36,
   "id": "1dd9dc7c-7640-4d1f-b468-173d59bba4bc",
   "metadata": {},
   "outputs": [
    {
     "data": {
      "text/plain": [
       "array(['4', '5', '6'], dtype='<U21')"
      ]
     },
     "execution_count": 36,
     "metadata": {},
     "output_type": "execute_result"
    }
   ],
   "source": [
    "np_array_2d[3:6, 0]  # first element of each index from list of elements indexed 3 to 6"
   ]
  },
  {
   "cell_type": "code",
   "execution_count": 37,
   "id": "1a6783ba-59c6-43d9-8285-1dfae3c82522",
   "metadata": {},
   "outputs": [
    {
     "data": {
      "text/plain": [
       "array(['1', '2', '3', '4', '5', '6', '7', '8', '9', '10'], dtype='<U21')"
      ]
     },
     "execution_count": 37,
     "metadata": {},
     "output_type": "execute_result"
    }
   ],
   "source": [
    "np_array_2d[:, 0]  # first element of each index from the whole list"
   ]
  },
  {
   "attachments": {},
   "cell_type": "markdown",
   "id": "d0c1940a",
   "metadata": {},
   "source": [
    "## Growing lists"
   ]
  },
  {
   "cell_type": "code",
   "execution_count": 39,
   "id": "615204d3-6b53-488d-862b-c227908d28a4",
   "metadata": {},
   "outputs": [
    {
     "data": {
      "text/plain": [
       "[1, 2, 1, 2, 1, 2, 1, 2, 1, 2]"
      ]
     },
     "execution_count": 39,
     "metadata": {},
     "output_type": "execute_result"
    }
   ],
   "source": [
    "x=[1,2]*5\n",
    "x"
   ]
  },
  {
   "cell_type": "code",
   "execution_count": 41,
   "id": "0eee8cab-1612-4c33-a3b7-638319a14c9e",
   "metadata": {},
   "outputs": [
    {
     "name": "stdout",
     "output_type": "stream",
     "text": [
      "102 ns ± 2.52 ns per loop (mean ± std. dev. of 7 runs, 10,000,000 loops each)\n"
     ]
    }
   ],
   "source": [
    "%%timeit\n",
    "x=[1]\n",
    "x= x + [2]\n",
    "x= x + [3]\n",
    "x= x + [4]\n",
    "x"
   ]
  },
  {
   "cell_type": "code",
   "execution_count": 42,
   "id": "34f4518d-360e-4a0f-a992-faaf64e4d6c2",
   "metadata": {},
   "outputs": [
    {
     "name": "stdout",
     "output_type": "stream",
     "text": [
      "90.9 ns ± 1.02 ns per loop (mean ± std. dev. of 7 runs, 10,000,000 loops each)\n"
     ]
    }
   ],
   "source": [
    "%%timeit\n",
    "x=[1]\n",
    "x+= [2]\n",
    "x+= [3]\n",
    "x+= [4]\n",
    "x"
   ]
  },
  {
   "cell_type": "code",
   "execution_count": 43,
   "id": "f2423e9d-2ad1-4f6f-9455-4fc059b50d88",
   "metadata": {},
   "outputs": [
    {
     "name": "stdout",
     "output_type": "stream",
     "text": [
      "42.5 ns ± 3.91 ns per loop (mean ± std. dev. of 7 runs, 10,000,000 loops each)\n"
     ]
    }
   ],
   "source": [
    "%%timeit\n",
    "x=[1]\n",
    "x.append(2)\n",
    "x.append(3)\n",
    "x.append(4)\n",
    "x"
   ]
  },
  {
   "cell_type": "code",
   "execution_count": 44,
   "id": "e1994093-4040-460c-af72-5b6b81bef68a",
   "metadata": {},
   "outputs": [
    {
     "data": {
      "text/plain": [
       "[1, 2, 3, 4]"
      ]
     },
     "execution_count": 44,
     "metadata": {},
     "output_type": "execute_result"
    }
   ],
   "source": [
    "x=[1]\n",
    "x.append(2)\n",
    "x.append(3)\n",
    "x.append(4)\n",
    "x"
   ]
  },
  {
   "cell_type": "markdown",
   "id": "e00cb894-5e75-4ab5-abe1-d48809cdaba0",
   "metadata": {},
   "source": [
    "All the above sets of commands add elements to the lists one element at a time, BUT the set of commands with `append` is much faster."
   ]
  },
  {
   "cell_type": "code",
   "execution_count": 45,
   "id": "8cb61ea7-b33d-436e-8891-7898e46b4411",
   "metadata": {},
   "outputs": [
    {
     "data": {
      "text/plain": [
       "[1, 2, 3, 4, 5, 6]"
      ]
     },
     "execution_count": 45,
     "metadata": {},
     "output_type": "execute_result"
    }
   ],
   "source": [
    "x = [1, 2, 3]\n",
    "x += [4, 5, 6]\n",
    "x"
   ]
  },
  {
   "cell_type": "code",
   "execution_count": 48,
   "id": "c19d080d-391f-49ea-9f01-26676f091fae",
   "metadata": {},
   "outputs": [
    {
     "data": {
      "text/plain": [
       "[1, 2, 3, 4, 5, 6]"
      ]
     },
     "execution_count": 48,
     "metadata": {},
     "output_type": "execute_result"
    }
   ],
   "source": [
    "x=[1, 2, 3]             # `extend` adds the elements into the list and makes it look seamless\n",
    "x.extend([4, 5, 6])\n",
    "x"
   ]
  },
  {
   "cell_type": "code",
   "execution_count": 49,
   "id": "6a4fd7aa-b6fa-469f-83dc-4d7069ecc86f",
   "metadata": {},
   "outputs": [
    {
     "data": {
      "text/plain": [
       "[1, 2, 3, [4, 5, 6]]"
      ]
     },
     "execution_count": 49,
     "metadata": {},
     "output_type": "execute_result"
    }
   ],
   "source": [
    "x=[1, 2, 3]             # `append` adds the elements into the list as a group of their own\n",
    "x.append([4, 5, 6])\n",
    "x"
   ]
  },
  {
   "attachments": {},
   "cell_type": "markdown",
   "id": "8680535f",
   "metadata": {},
   "source": [
    "# Some loose ends"
   ]
  },
  {
   "attachments": {},
   "cell_type": "markdown",
   "id": "705be576",
   "metadata": {},
   "source": [
    "## Tuples"
   ]
  },
  {
   "cell_type": "markdown",
   "id": "d1e0db34-cfd9-457c-8c22-923b6a64240d",
   "metadata": {},
   "source": [
    "Tuples are similar to lists but use `()` and **cannot be changed** after creation. "
   ]
  },
  {
   "cell_type": "code",
   "execution_count": 52,
   "id": "85fb3ee6-937a-4a1a-9ad3-ef2f59b7c482",
   "metadata": {},
   "outputs": [],
   "source": [
    "a=(1,2,3)    # defining a tuple"
   ]
  },
  {
   "cell_type": "code",
   "execution_count": 53,
   "id": "e6161b6b-4608-468b-8d9f-b1b3b669a3b2",
   "metadata": {},
   "outputs": [
    {
     "name": "stdout",
     "output_type": "stream",
     "text": [
      "1\n"
     ]
    }
   ],
   "source": [
    "print(a[0])  # can access data"
   ]
  },
  {
   "cell_type": "code",
   "execution_count": 55,
   "id": "64c0fc10-958f-4815-8d66-a8cf180104fa",
   "metadata": {},
   "outputs": [
    {
     "ename": "TypeError",
     "evalue": "unsupported operand type(s) for +=: 'int' and 'list'",
     "output_type": "error",
     "traceback": [
      "\u001b[0;31m---------------------------------------------------------------------------\u001b[0m",
      "\u001b[0;31mTypeError\u001b[0m                                 Traceback (most recent call last)",
      "Cell \u001b[0;32mIn[55], line 1\u001b[0m\n\u001b[0;32m----> 1\u001b[0m a[\u001b[38;5;241m0\u001b[39m]\u001b[38;5;241m+\u001b[39m\u001b[38;5;241m=\u001b[39m [\u001b[38;5;241m10\u001b[39m]\n",
      "\u001b[0;31mTypeError\u001b[0m: unsupported operand type(s) for +=: 'int' and 'list'"
     ]
    }
   ],
   "source": [
    "a[0]+= [10] # cannot change the tuple"
   ]
  },
  {
   "attachments": {},
   "cell_type": "markdown",
   "id": "98826848",
   "metadata": {},
   "source": [
    "## Be VERY careful when copying"
   ]
  },
  {
   "cell_type": "markdown",
   "id": "021ba674-4e08-4bff-873e-0e60bc9adb62",
   "metadata": {},
   "source": [
    "**DO NOT DO THIS TO COPY LISTS:**"
   ]
  },
  {
   "cell_type": "code",
   "execution_count": 56,
   "id": "641001c6-2a79-4861-bf6a-4c4a888e0802",
   "metadata": {},
   "outputs": [],
   "source": [
    "x=[1, 2, 3]\n",
    "y=x          \n",
    "z=x          "
   ]
  },
  {
   "cell_type": "markdown",
   "id": "985ecfbb-f579-4e8f-b637-59bdef534847",
   "metadata": {},
   "source": [
    "**INSTEAD DO THIS:**"
   ]
  },
  {
   "cell_type": "code",
   "execution_count": 57,
   "id": "53232873-bc7a-4fd5-94f6-c4bb49c047ed",
   "metadata": {},
   "outputs": [],
   "source": [
    "x=[1, 2, 3]\n",
    "y=x.copy()\n",
    "z=x.copy()"
   ]
  }
 ],
 "metadata": {
  "kernelspec": {
   "display_name": "Python 3 (ipykernel)",
   "language": "python",
   "name": "python3"
  },
  "language_info": {
   "codemirror_mode": {
    "name": "ipython",
    "version": 3
   },
   "file_extension": ".py",
   "mimetype": "text/x-python",
   "name": "python",
   "nbconvert_exporter": "python",
   "pygments_lexer": "ipython3",
   "version": "3.11.5"
  },
  "toc": {
   "base_numbering": 1,
   "nav_menu": {},
   "number_sections": true,
   "sideBar": true,
   "skip_h1_title": false,
   "title_cell": "Table of Contents",
   "title_sidebar": "Contents",
   "toc_cell": false,
   "toc_position": {},
   "toc_section_display": true,
   "toc_window_display": false
  },
  "vscode": {
   "interpreter": {
    "hash": "31f2aee4e71d21fbe5cf8b01ff0e069b9275f58929596ceb00d14d90e3e16cd6"
   }
  }
 },
 "nbformat": 4,
 "nbformat_minor": 5
}
